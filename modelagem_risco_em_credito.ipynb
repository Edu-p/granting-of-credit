{
 "cells": [
  {
   "cell_type": "markdown",
   "id": "efe14b5d",
   "metadata": {
    "heading_collapsed": true
   },
   "source": [
    "# Section to delete"
   ]
  },
  {
   "cell_type": "code",
   "execution_count": 20,
   "id": "ac066f86",
   "metadata": {
    "hidden": true
   },
   "outputs": [],
   "source": [
    "# # Calcular a correlação entre as colunas e a variável resposta\n",
    "# corr = df_raw_train.corr(method='pearson')['TARGET']\n",
    "\n",
    "# # Classificar as colunas com base na correlação\n",
    "# corr = corr.sort_values(ascending=False)\n",
    "\n",
    "# # Selecionar as colunas de maior correlação\n",
    "# # top_corr = corr[corr > 0.5]\n",
    "\n",
    "# # Imprimir as colunas de maior correlação\n",
    "# print(corr)"
   ]
  },
  {
   "cell_type": "code",
   "execution_count": 21,
   "id": "42dee377",
   "metadata": {
    "hidden": true
   },
   "outputs": [],
   "source": [
    "# df_raw_train"
   ]
  },
  {
   "cell_type": "markdown",
   "id": "6d107944",
   "metadata": {
    "heading_collapsed": true
   },
   "source": [
    "# Imports"
   ]
  },
  {
   "cell_type": "markdown",
   "id": "55fc6226",
   "metadata": {
    "heading_collapsed": true,
    "hidden": true
   },
   "source": [
    "## Libs"
   ]
  },
  {
   "cell_type": "code",
   "execution_count": 78,
   "id": "cbd8c55c",
   "metadata": {
    "hidden": true
   },
   "outputs": [],
   "source": [
    "import pandas                  as pd\n",
    "import numpy                   as np\n",
    "\n",
    "import seaborn                 as sns\n",
    "from matplotlib  import pyplot as plt\n",
    "from IPython.display import Image"
   ]
  },
  {
   "cell_type": "markdown",
   "id": "acf0e970",
   "metadata": {
    "heading_collapsed": true,
    "hidden": true
   },
   "source": [
    "## Helper functions\n"
   ]
  },
  {
   "cell_type": "code",
   "execution_count": null,
   "id": "3be1f2a8",
   "metadata": {
    "hidden": true
   },
   "outputs": [],
   "source": []
  },
  {
   "cell_type": "markdown",
   "id": "f1c5fd10",
   "metadata": {
    "heading_collapsed": true,
    "hidden": true
   },
   "source": [
    "## Loading data"
   ]
  },
  {
   "cell_type": "code",
   "execution_count": 23,
   "id": "f13156eb",
   "metadata": {
    "hidden": true
   },
   "outputs": [],
   "source": [
    "df_raw_train = pd.read_csv('/home/eduardo/Desktop/DS/granting-of-credit/datasets/credit_01/train')\n",
    "df_raw_test  = pd.read_csv('/home/eduardo/Desktop/DS/granting-of-credit/datasets/credit_01/test', low_memory=False)\n",
    "df_raw_oot   = pd.read_csv('/home/eduardo/Desktop/DS/granting-of-credit/datasets/credit_01/oot', low_memory=False)"
   ]
  },
  {
   "cell_type": "markdown",
   "id": "7067a1bf",
   "metadata": {
    "heading_collapsed": true,
    "hidden": true
   },
   "source": [
    "## Saving id to split later"
   ]
  },
  {
   "cell_type": "code",
   "execution_count": 24,
   "id": "e726e093",
   "metadata": {
    "hidden": true
   },
   "outputs": [],
   "source": [
    "id_of_train = df_raw_train['ID'].to_list()\n",
    "id_of_test  = df_raw_test['ID'].to_list()"
   ]
  },
  {
   "cell_type": "markdown",
   "id": "37150a1c",
   "metadata": {
    "heading_collapsed": true
   },
   "source": [
    "# Data description"
   ]
  },
  {
   "cell_type": "markdown",
   "id": "c61ab0b2",
   "metadata": {
    "hidden": true
   },
   "source": [
    "- Vou preferir por não fazer a junção das tabelas pois quero ver a estatistíca descritiva de cada uma delas separada"
   ]
  },
  {
   "cell_type": "code",
   "execution_count": 25,
   "id": "c0ac84dc",
   "metadata": {
    "hidden": true
   },
   "outputs": [],
   "source": [
    "df1_oot   = df_raw_oot.copy()\n",
    "df1_train = df_raw_train.copy()\n",
    "df1_test  = df_raw_test.copy()"
   ]
  },
  {
   "cell_type": "markdown",
   "id": "e0c964f7",
   "metadata": {
    "heading_collapsed": true,
    "hidden": true
   },
   "source": [
    "## Data dimensions"
   ]
  },
  {
   "cell_type": "code",
   "execution_count": 26,
   "id": "1cdf76e2",
   "metadata": {
    "hidden": true
   },
   "outputs": [
    {
     "name": "stdout",
     "output_type": "stream",
     "text": [
      "number of Rows of train dataset: 101128\n",
      "number of columns of test dataset: 151\n"
     ]
    }
   ],
   "source": [
    "print( 'number of Rows of train dataset: {}'.format( df1_train.shape[0] ) )\n",
    "print( 'number of columns of test dataset: {}'.format( df1_train.shape[1] ) )"
   ]
  },
  {
   "cell_type": "code",
   "execution_count": 27,
   "id": "20bbd9d4",
   "metadata": {
    "hidden": true
   },
   "outputs": [
    {
     "name": "stdout",
     "output_type": "stream",
     "text": [
      "number of Rows of test dataset: 49810\n",
      "number of columns of test dataset: 151\n"
     ]
    }
   ],
   "source": [
    "print( 'number of Rows of test dataset: {}'.format( df1_test.shape[0] ) )\n",
    "print( 'number of columns of test dataset: {}'.format( df1_test.shape[1] ) )"
   ]
  },
  {
   "cell_type": "code",
   "execution_count": 28,
   "id": "ac28b35d",
   "metadata": {
    "hidden": true
   },
   "outputs": [
    {
     "name": "stdout",
     "output_type": "stream",
     "text": [
      "number of Rows of oot dataset: 80469\n",
      "number of columns of test dataset: 150\n"
     ]
    }
   ],
   "source": [
    "print( 'number of Rows of oot dataset: {}'.format( df1_oot.shape[0] ) )\n",
    "print( 'number of columns of test dataset: {}'.format( df1_oot.shape[1] ) )"
   ]
  },
  {
   "cell_type": "markdown",
   "id": "3bd38ce3",
   "metadata": {
    "heading_collapsed": true,
    "hidden": true
   },
   "source": [
    "## Data types"
   ]
  },
  {
   "cell_type": "markdown",
   "id": "0db96c76",
   "metadata": {
    "hidden": true
   },
   "source": [
    "Aqui percebemos que a maioria dos colunas não estão como tipo object, vamos ter que analisar posteriormente como fazer o encoding **correto** nas colunas que vão ser suficientemente influentes na variável resposta"
   ]
  },
  {
   "cell_type": "code",
   "execution_count": 29,
   "id": "75c13aa8",
   "metadata": {
    "hidden": true
   },
   "outputs": [
    {
     "data": {
      "text/plain": [
       "REF_DATE     object\n",
       "TARGET        int64\n",
       "VAR2         object\n",
       "IDADE       float64\n",
       "VAR4         object\n",
       "             ...   \n",
       "VAR146      float64\n",
       "VAR147        int64\n",
       "VAR148       object\n",
       "VAR149       object\n",
       "ID            int64\n",
       "Length: 151, dtype: object"
      ]
     },
     "execution_count": 29,
     "metadata": {},
     "output_type": "execute_result"
    }
   ],
   "source": [
    "df1_train.dtypes"
   ]
  },
  {
   "cell_type": "code",
   "execution_count": 30,
   "id": "168391c5",
   "metadata": {
    "hidden": true
   },
   "outputs": [
    {
     "name": "stdout",
     "output_type": "stream",
     "text": [
      "Index(['TARGET', 'VAR147', 'ID'], dtype='object')\n",
      "\n",
      "\n",
      "\n",
      "Index(['IDADE', 'VAR6', 'VAR7', 'VAR11', 'VAR12', 'VAR13', 'VAR14', 'VAR15',\n",
      "       'VAR16', 'VAR17', 'VAR18', 'VAR19', 'VAR20', 'VAR21', 'VAR22', 'VAR23',\n",
      "       'VAR24', 'VAR25', 'VAR26', 'VAR27', 'VAR28', 'VAR29', 'VAR30', 'VAR37',\n",
      "       'VAR39', 'VAR40', 'VAR41', 'VAR42', 'VAR44', 'VAR46', 'VAR47', 'VAR141',\n",
      "       'VAR145', 'VAR146'],\n",
      "      dtype='object')\n",
      "\n",
      "\n",
      "\n",
      "Index(['REF_DATE', 'VAR2', 'VAR4', 'VAR5', 'VAR8', 'VAR9', 'VAR10', 'VAR31',\n",
      "       'VAR32', 'VAR33',\n",
      "       ...\n",
      "       'VAR136', 'VAR137', 'VAR138', 'VAR139', 'VAR140', 'VAR142', 'VAR143',\n",
      "       'VAR144', 'VAR148', 'VAR149'],\n",
      "      dtype='object', length=114)\n",
      "\n",
      "\n",
      "\n"
     ]
    }
   ],
   "source": [
    "# Obtendo as colunas do tipo int\n",
    "int_cols = df1_train.select_dtypes(include='int64').columns\n",
    "print(int_cols)\n",
    "print('\\n' *2)\n",
    "\n",
    "# Obtendo as colunas do tipo float\n",
    "float_cols = df1_train.select_dtypes(include='float64').columns\n",
    "print(float_cols)\n",
    "print('\\n' *2)\n",
    "\n",
    "# Obtendo as colunas do tipo object\n",
    "obj_cols = df1_train.select_dtypes(include='object').columns\n",
    "print(obj_cols)\n",
    "print('\\n' *2)"
   ]
  },
  {
   "cell_type": "code",
   "execution_count": 31,
   "id": "221455cc",
   "metadata": {
    "hidden": true
   },
   "outputs": [
    {
     "name": "stdout",
     "output_type": "stream",
     "text": [
      "Tem outro tipo de dado no conjunto que não seja [int,float,object]? \n",
      "resposta: False\n"
     ]
    }
   ],
   "source": [
    "print(f\"Tem outro tipo de dado no conjunto que não seja [int,float,object]? \\nresposta: {False if (len(int_cols.to_list()) + len(float_cols.to_list()) + len(obj_cols.to_list())) == df1_train.shape[1] else True}\" )"
   ]
  },
  {
   "cell_type": "markdown",
   "id": "e1e89516",
   "metadata": {
    "heading_collapsed": true,
    "hidden": true
   },
   "source": [
    "## Check NAN"
   ]
  },
  {
   "cell_type": "code",
   "execution_count": 32,
   "id": "f229eb65",
   "metadata": {
    "hidden": true
   },
   "outputs": [
    {
     "data": {
      "text/plain": [
       "['VAR2',\n",
       " 'IDADE',\n",
       " 'VAR4',\n",
       " 'VAR5',\n",
       " 'VAR6',\n",
       " 'VAR7',\n",
       " 'VAR8',\n",
       " 'VAR9',\n",
       " 'VAR10',\n",
       " 'VAR11',\n",
       " 'VAR12',\n",
       " 'VAR13',\n",
       " 'VAR14',\n",
       " 'VAR15',\n",
       " 'VAR16',\n",
       " 'VAR17',\n",
       " 'VAR18',\n",
       " 'VAR19',\n",
       " 'VAR20',\n",
       " 'VAR21',\n",
       " 'VAR22',\n",
       " 'VAR23',\n",
       " 'VAR24',\n",
       " 'VAR25',\n",
       " 'VAR26',\n",
       " 'VAR27',\n",
       " 'VAR28',\n",
       " 'VAR29',\n",
       " 'VAR30',\n",
       " 'VAR31',\n",
       " 'VAR32',\n",
       " 'VAR33',\n",
       " 'VAR34',\n",
       " 'VAR35',\n",
       " 'VAR36',\n",
       " 'VAR37',\n",
       " 'VAR38',\n",
       " 'VAR39',\n",
       " 'VAR40',\n",
       " 'VAR41',\n",
       " 'VAR42',\n",
       " 'VAR43',\n",
       " 'VAR44',\n",
       " 'VAR45',\n",
       " 'VAR46',\n",
       " 'VAR48',\n",
       " 'VAR49',\n",
       " 'VAR50',\n",
       " 'VAR51',\n",
       " 'VAR52',\n",
       " 'VAR53',\n",
       " 'VAR54',\n",
       " 'VAR55',\n",
       " 'VAR56',\n",
       " 'VAR57',\n",
       " 'VAR58',\n",
       " 'VAR59',\n",
       " 'VAR60',\n",
       " 'VAR61',\n",
       " 'VAR62',\n",
       " 'VAR63',\n",
       " 'VAR64',\n",
       " 'VAR65',\n",
       " 'VAR66',\n",
       " 'VAR67',\n",
       " 'VAR68',\n",
       " 'VAR69',\n",
       " 'VAR70',\n",
       " 'VAR71',\n",
       " 'VAR72',\n",
       " 'VAR73',\n",
       " 'VAR74',\n",
       " 'VAR75',\n",
       " 'VAR76',\n",
       " 'VAR77',\n",
       " 'VAR78',\n",
       " 'VAR79',\n",
       " 'VAR80',\n",
       " 'VAR81',\n",
       " 'VAR82',\n",
       " 'VAR83',\n",
       " 'VAR84',\n",
       " 'VAR85',\n",
       " 'VAR86',\n",
       " 'VAR87',\n",
       " 'VAR88',\n",
       " 'VAR89',\n",
       " 'VAR90',\n",
       " 'VAR91',\n",
       " 'VAR92',\n",
       " 'VAR93',\n",
       " 'VAR94',\n",
       " 'VAR95',\n",
       " 'VAR96',\n",
       " 'VAR97',\n",
       " 'VAR98',\n",
       " 'VAR99',\n",
       " 'VAR100',\n",
       " 'VAR101',\n",
       " 'VAR102',\n",
       " 'VAR103',\n",
       " 'VAR104',\n",
       " 'VAR105',\n",
       " 'VAR106',\n",
       " 'VAR107',\n",
       " 'VAR108',\n",
       " 'VAR109',\n",
       " 'VAR110',\n",
       " 'VAR111',\n",
       " 'VAR112',\n",
       " 'VAR113',\n",
       " 'VAR114',\n",
       " 'VAR115',\n",
       " 'VAR116',\n",
       " 'VAR117',\n",
       " 'VAR118',\n",
       " 'VAR119',\n",
       " 'VAR120',\n",
       " 'VAR121',\n",
       " 'VAR122',\n",
       " 'VAR123',\n",
       " 'VAR124',\n",
       " 'VAR125',\n",
       " 'VAR126',\n",
       " 'VAR127',\n",
       " 'VAR128',\n",
       " 'VAR129',\n",
       " 'VAR130',\n",
       " 'VAR131',\n",
       " 'VAR132',\n",
       " 'VAR133',\n",
       " 'VAR134',\n",
       " 'VAR135',\n",
       " 'VAR136',\n",
       " 'VAR137',\n",
       " 'VAR138',\n",
       " 'VAR139',\n",
       " 'VAR140',\n",
       " 'VAR142',\n",
       " 'VAR143',\n",
       " 'VAR144',\n",
       " 'VAR145',\n",
       " 'VAR146']"
      ]
     },
     "execution_count": 32,
     "metadata": {},
     "output_type": "execute_result"
    }
   ],
   "source": [
    "missing_cols = df1_train.columns[df1_train.isnull().any()]\n",
    "\n",
    "missing_cols.to_list()"
   ]
  },
  {
   "cell_type": "code",
   "execution_count": 33,
   "id": "dd402db9",
   "metadata": {
    "hidden": true
   },
   "outputs": [
    {
     "data": {
      "text/plain": [
       "{'REF_DATE': 0,\n",
       " 'TARGET': 0,\n",
       " 'VAR2': 12356,\n",
       " 'IDADE': 11594,\n",
       " 'VAR4': 100944,\n",
       " 'VAR5': 2835,\n",
       " 'VAR6': 2835,\n",
       " 'VAR7': 2835,\n",
       " 'VAR8': 44526,\n",
       " 'VAR9': 2798,\n",
       " 'VAR10': 2770,\n",
       " 'VAR11': 38719,\n",
       " 'VAR12': 46220,\n",
       " 'VAR13': 88133,\n",
       " 'VAR14': 21411,\n",
       " 'VAR15': 52173,\n",
       " 'VAR16': 63551,\n",
       " 'VAR17': 88133,\n",
       " 'VAR18': 21411,\n",
       " 'VAR19': 52173,\n",
       " 'VAR20': 91606,\n",
       " 'VAR21': 88081,\n",
       " 'VAR22': 52106,\n",
       " 'VAR23': 88133,\n",
       " 'VAR24': 19685,\n",
       " 'VAR25': 52173,\n",
       " 'VAR26': 100307,\n",
       " 'VAR27': 100281,\n",
       " 'VAR28': 90386,\n",
       " 'VAR29': 80376,\n",
       " 'VAR30': 90386,\n",
       " 'VAR31': 97881,\n",
       " 'VAR32': 65931,\n",
       " 'VAR33': 93800,\n",
       " 'VAR34': 93800,\n",
       " 'VAR35': 79486,\n",
       " 'VAR36': 80339,\n",
       " 'VAR37': 80339,\n",
       " 'VAR38': 100467,\n",
       " 'VAR39': 65,\n",
       " 'VAR40': 2782,\n",
       " 'VAR41': 2508,\n",
       " 'VAR42': 11588,\n",
       " 'VAR43': 100778,\n",
       " 'VAR44': 100778,\n",
       " 'VAR45': 100867,\n",
       " 'VAR46': 100867,\n",
       " 'VAR47': 0,\n",
       " 'VAR48': 94081,\n",
       " 'VAR49': 11592,\n",
       " 'VAR50': 11592,\n",
       " 'VAR51': 11592,\n",
       " 'VAR52': 11592,\n",
       " 'VAR53': 11592,\n",
       " 'VAR54': 11592,\n",
       " 'VAR55': 11592,\n",
       " 'VAR56': 11592,\n",
       " 'VAR57': 11592,\n",
       " 'VAR58': 11592,\n",
       " 'VAR59': 11592,\n",
       " 'VAR60': 11592,\n",
       " 'VAR61': 11592,\n",
       " 'VAR62': 11592,\n",
       " 'VAR63': 11592,\n",
       " 'VAR64': 11592,\n",
       " 'VAR65': 11592,\n",
       " 'VAR66': 2508,\n",
       " 'VAR67': 2508,\n",
       " 'VAR68': 2508,\n",
       " 'VAR69': 2508,\n",
       " 'VAR70': 2508,\n",
       " 'VAR71': 2508,\n",
       " 'VAR72': 2508,\n",
       " 'VAR73': 2508,\n",
       " 'VAR74': 2508,\n",
       " 'VAR75': 2508,\n",
       " 'VAR76': 2508,\n",
       " 'VAR77': 2508,\n",
       " 'VAR78': 2508,\n",
       " 'VAR79': 2508,\n",
       " 'VAR80': 2508,\n",
       " 'VAR81': 2508,\n",
       " 'VAR82': 2508,\n",
       " 'VAR83': 2508,\n",
       " 'VAR84': 2508,\n",
       " 'VAR85': 2508,\n",
       " 'VAR86': 2508,\n",
       " 'VAR87': 2508,\n",
       " 'VAR88': 2508,\n",
       " 'VAR89': 2508,\n",
       " 'VAR90': 2508,\n",
       " 'VAR91': 2508,\n",
       " 'VAR92': 2508,\n",
       " 'VAR93': 2508,\n",
       " 'VAR94': 2508,\n",
       " 'VAR95': 2508,\n",
       " 'VAR96': 2508,\n",
       " 'VAR97': 2508,\n",
       " 'VAR98': 2508,\n",
       " 'VAR99': 2508,\n",
       " 'VAR100': 2508,\n",
       " 'VAR101': 2508,\n",
       " 'VAR102': 2508,\n",
       " 'VAR103': 2508,\n",
       " 'VAR104': 2508,\n",
       " 'VAR105': 2508,\n",
       " 'VAR106': 2508,\n",
       " 'VAR107': 2508,\n",
       " 'VAR108': 2508,\n",
       " 'VAR109': 2508,\n",
       " 'VAR110': 2508,\n",
       " 'VAR111': 2508,\n",
       " 'VAR112': 2508,\n",
       " 'VAR113': 2508,\n",
       " 'VAR114': 2508,\n",
       " 'VAR115': 2508,\n",
       " 'VAR116': 2508,\n",
       " 'VAR117': 2508,\n",
       " 'VAR118': 2508,\n",
       " 'VAR119': 2508,\n",
       " 'VAR120': 2508,\n",
       " 'VAR121': 2508,\n",
       " 'VAR122': 2508,\n",
       " 'VAR123': 2508,\n",
       " 'VAR124': 2508,\n",
       " 'VAR125': 2508,\n",
       " 'VAR126': 2508,\n",
       " 'VAR127': 2508,\n",
       " 'VAR128': 2508,\n",
       " 'VAR129': 2508,\n",
       " 'VAR130': 2508,\n",
       " 'VAR131': 2508,\n",
       " 'VAR132': 2508,\n",
       " 'VAR133': 2508,\n",
       " 'VAR134': 2508,\n",
       " 'VAR135': 2508,\n",
       " 'VAR136': 2508,\n",
       " 'VAR137': 2508,\n",
       " 'VAR138': 2508,\n",
       " 'VAR139': 2508,\n",
       " 'VAR140': 2508,\n",
       " 'VAR141': 0,\n",
       " 'VAR142': 123,\n",
       " 'VAR143': 99823,\n",
       " 'VAR144': 99823,\n",
       " 'VAR145': 100584,\n",
       " 'VAR146': 100989,\n",
       " 'VAR147': 0,\n",
       " 'VAR148': 0,\n",
       " 'VAR149': 0,\n",
       " 'ID': 0}"
      ]
     },
     "execution_count": 33,
     "metadata": {},
     "output_type": "execute_result"
    }
   ],
   "source": [
    "df1_train.isna().sum().to_dict()"
   ]
  },
  {
   "cell_type": "code",
   "execution_count": 34,
   "id": "70c74715",
   "metadata": {
    "hidden": true
   },
   "outputs": [
    {
     "data": {
      "text/plain": [
       "['VAR2',\n",
       " 'IDADE',\n",
       " 'VAR4',\n",
       " 'VAR5',\n",
       " 'VAR6',\n",
       " 'VAR7',\n",
       " 'VAR8',\n",
       " 'VAR9',\n",
       " 'VAR10',\n",
       " 'VAR11',\n",
       " 'VAR12',\n",
       " 'VAR13',\n",
       " 'VAR14',\n",
       " 'VAR15',\n",
       " 'VAR16',\n",
       " 'VAR17',\n",
       " 'VAR18',\n",
       " 'VAR19',\n",
       " 'VAR20',\n",
       " 'VAR21',\n",
       " 'VAR22',\n",
       " 'VAR23',\n",
       " 'VAR24',\n",
       " 'VAR25',\n",
       " 'VAR26',\n",
       " 'VAR27',\n",
       " 'VAR28',\n",
       " 'VAR29',\n",
       " 'VAR30',\n",
       " 'VAR31',\n",
       " 'VAR32',\n",
       " 'VAR33',\n",
       " 'VAR34',\n",
       " 'VAR35',\n",
       " 'VAR36',\n",
       " 'VAR37',\n",
       " 'VAR38',\n",
       " 'VAR39',\n",
       " 'VAR40',\n",
       " 'VAR41',\n",
       " 'VAR42',\n",
       " 'VAR43',\n",
       " 'VAR44',\n",
       " 'VAR45',\n",
       " 'VAR46',\n",
       " 'VAR48',\n",
       " 'VAR49',\n",
       " 'VAR50',\n",
       " 'VAR51',\n",
       " 'VAR52',\n",
       " 'VAR53',\n",
       " 'VAR54',\n",
       " 'VAR55',\n",
       " 'VAR56',\n",
       " 'VAR57',\n",
       " 'VAR58',\n",
       " 'VAR59',\n",
       " 'VAR60',\n",
       " 'VAR61',\n",
       " 'VAR62',\n",
       " 'VAR63',\n",
       " 'VAR64',\n",
       " 'VAR65',\n",
       " 'VAR66',\n",
       " 'VAR67',\n",
       " 'VAR68',\n",
       " 'VAR69',\n",
       " 'VAR70',\n",
       " 'VAR71',\n",
       " 'VAR72',\n",
       " 'VAR73',\n",
       " 'VAR74',\n",
       " 'VAR75',\n",
       " 'VAR76',\n",
       " 'VAR77',\n",
       " 'VAR78',\n",
       " 'VAR79',\n",
       " 'VAR80',\n",
       " 'VAR81',\n",
       " 'VAR82',\n",
       " 'VAR83',\n",
       " 'VAR84',\n",
       " 'VAR85',\n",
       " 'VAR86',\n",
       " 'VAR87',\n",
       " 'VAR88',\n",
       " 'VAR89',\n",
       " 'VAR90',\n",
       " 'VAR91',\n",
       " 'VAR92',\n",
       " 'VAR93',\n",
       " 'VAR94',\n",
       " 'VAR95',\n",
       " 'VAR96',\n",
       " 'VAR97',\n",
       " 'VAR98',\n",
       " 'VAR99',\n",
       " 'VAR100',\n",
       " 'VAR101',\n",
       " 'VAR102',\n",
       " 'VAR103',\n",
       " 'VAR104',\n",
       " 'VAR105',\n",
       " 'VAR106',\n",
       " 'VAR107',\n",
       " 'VAR108',\n",
       " 'VAR109',\n",
       " 'VAR110',\n",
       " 'VAR111',\n",
       " 'VAR112',\n",
       " 'VAR113',\n",
       " 'VAR114',\n",
       " 'VAR115',\n",
       " 'VAR116',\n",
       " 'VAR117',\n",
       " 'VAR118',\n",
       " 'VAR119',\n",
       " 'VAR120',\n",
       " 'VAR121',\n",
       " 'VAR122',\n",
       " 'VAR123',\n",
       " 'VAR124',\n",
       " 'VAR125',\n",
       " 'VAR126',\n",
       " 'VAR127',\n",
       " 'VAR128',\n",
       " 'VAR129',\n",
       " 'VAR130',\n",
       " 'VAR131',\n",
       " 'VAR132',\n",
       " 'VAR133',\n",
       " 'VAR134',\n",
       " 'VAR135',\n",
       " 'VAR136',\n",
       " 'VAR137',\n",
       " 'VAR138',\n",
       " 'VAR139',\n",
       " 'VAR140',\n",
       " 'VAR142',\n",
       " 'VAR143',\n",
       " 'VAR144',\n",
       " 'VAR145',\n",
       " 'VAR146']"
      ]
     },
     "execution_count": 34,
     "metadata": {},
     "output_type": "execute_result"
    }
   ],
   "source": [
    "missing_cols = df1_test.columns[df1_test.isnull().any()]\n",
    "\n",
    "missing_cols.to_list()"
   ]
  },
  {
   "cell_type": "code",
   "execution_count": 35,
   "id": "7717bfae",
   "metadata": {
    "hidden": true
   },
   "outputs": [
    {
     "data": {
      "text/plain": [
       "{'REF_DATE': 0,\n",
       " 'TARGET': 0,\n",
       " 'VAR2': 6032,\n",
       " 'IDADE': 5602,\n",
       " 'VAR4': 49734,\n",
       " 'VAR5': 1345,\n",
       " 'VAR6': 1345,\n",
       " 'VAR7': 1345,\n",
       " 'VAR8': 21922,\n",
       " 'VAR9': 1335,\n",
       " 'VAR10': 1323,\n",
       " 'VAR11': 19049,\n",
       " 'VAR12': 22771,\n",
       " 'VAR13': 43376,\n",
       " 'VAR14': 10670,\n",
       " 'VAR15': 25670,\n",
       " 'VAR16': 31268,\n",
       " 'VAR17': 43376,\n",
       " 'VAR18': 10670,\n",
       " 'VAR19': 25670,\n",
       " 'VAR20': 45101,\n",
       " 'VAR21': 43347,\n",
       " 'VAR22': 25649,\n",
       " 'VAR23': 43376,\n",
       " 'VAR24': 9772,\n",
       " 'VAR25': 25670,\n",
       " 'VAR26': 49417,\n",
       " 'VAR27': 49408,\n",
       " 'VAR28': 44556,\n",
       " 'VAR29': 39570,\n",
       " 'VAR30': 44556,\n",
       " 'VAR31': 48194,\n",
       " 'VAR32': 32569,\n",
       " 'VAR33': 46208,\n",
       " 'VAR34': 46208,\n",
       " 'VAR35': 39015,\n",
       " 'VAR36': 39451,\n",
       " 'VAR37': 39451,\n",
       " 'VAR38': 49510,\n",
       " 'VAR39': 42,\n",
       " 'VAR40': 1326,\n",
       " 'VAR41': 1194,\n",
       " 'VAR42': 5600,\n",
       " 'VAR43': 49623,\n",
       " 'VAR44': 49623,\n",
       " 'VAR45': 49667,\n",
       " 'VAR46': 49667,\n",
       " 'VAR47': 0,\n",
       " 'VAR48': 46377,\n",
       " 'VAR49': 5601,\n",
       " 'VAR50': 5601,\n",
       " 'VAR51': 5601,\n",
       " 'VAR52': 5601,\n",
       " 'VAR53': 5601,\n",
       " 'VAR54': 5601,\n",
       " 'VAR55': 5601,\n",
       " 'VAR56': 5601,\n",
       " 'VAR57': 5601,\n",
       " 'VAR58': 5601,\n",
       " 'VAR59': 5601,\n",
       " 'VAR60': 5601,\n",
       " 'VAR61': 5601,\n",
       " 'VAR62': 5601,\n",
       " 'VAR63': 5601,\n",
       " 'VAR64': 5601,\n",
       " 'VAR65': 5601,\n",
       " 'VAR66': 1194,\n",
       " 'VAR67': 1194,\n",
       " 'VAR68': 1194,\n",
       " 'VAR69': 1194,\n",
       " 'VAR70': 1194,\n",
       " 'VAR71': 1194,\n",
       " 'VAR72': 1194,\n",
       " 'VAR73': 1194,\n",
       " 'VAR74': 1194,\n",
       " 'VAR75': 1194,\n",
       " 'VAR76': 1194,\n",
       " 'VAR77': 1194,\n",
       " 'VAR78': 1194,\n",
       " 'VAR79': 1194,\n",
       " 'VAR80': 1194,\n",
       " 'VAR81': 1194,\n",
       " 'VAR82': 1194,\n",
       " 'VAR83': 1194,\n",
       " 'VAR84': 1194,\n",
       " 'VAR85': 1194,\n",
       " 'VAR86': 1194,\n",
       " 'VAR87': 1194,\n",
       " 'VAR88': 1194,\n",
       " 'VAR89': 1194,\n",
       " 'VAR90': 1194,\n",
       " 'VAR91': 1194,\n",
       " 'VAR92': 1194,\n",
       " 'VAR93': 1194,\n",
       " 'VAR94': 1194,\n",
       " 'VAR95': 1194,\n",
       " 'VAR96': 1194,\n",
       " 'VAR97': 1194,\n",
       " 'VAR98': 1194,\n",
       " 'VAR99': 1194,\n",
       " 'VAR100': 1194,\n",
       " 'VAR101': 1194,\n",
       " 'VAR102': 1194,\n",
       " 'VAR103': 1194,\n",
       " 'VAR104': 1194,\n",
       " 'VAR105': 1194,\n",
       " 'VAR106': 1194,\n",
       " 'VAR107': 1194,\n",
       " 'VAR108': 1194,\n",
       " 'VAR109': 1194,\n",
       " 'VAR110': 1194,\n",
       " 'VAR111': 1194,\n",
       " 'VAR112': 1194,\n",
       " 'VAR113': 1194,\n",
       " 'VAR114': 1194,\n",
       " 'VAR115': 1194,\n",
       " 'VAR116': 1194,\n",
       " 'VAR117': 1194,\n",
       " 'VAR118': 1194,\n",
       " 'VAR119': 1194,\n",
       " 'VAR120': 1194,\n",
       " 'VAR121': 1194,\n",
       " 'VAR122': 1194,\n",
       " 'VAR123': 1194,\n",
       " 'VAR124': 1194,\n",
       " 'VAR125': 1194,\n",
       " 'VAR126': 1194,\n",
       " 'VAR127': 1194,\n",
       " 'VAR128': 1194,\n",
       " 'VAR129': 1194,\n",
       " 'VAR130': 1194,\n",
       " 'VAR131': 1194,\n",
       " 'VAR132': 1194,\n",
       " 'VAR133': 1194,\n",
       " 'VAR134': 1194,\n",
       " 'VAR135': 1194,\n",
       " 'VAR136': 1194,\n",
       " 'VAR137': 1194,\n",
       " 'VAR138': 1194,\n",
       " 'VAR139': 1194,\n",
       " 'VAR140': 1194,\n",
       " 'VAR141': 0,\n",
       " 'VAR142': 77,\n",
       " 'VAR143': 49105,\n",
       " 'VAR144': 49105,\n",
       " 'VAR145': 49529,\n",
       " 'VAR146': 49731,\n",
       " 'VAR147': 0,\n",
       " 'VAR148': 0,\n",
       " 'VAR149': 0,\n",
       " 'ID': 0}"
      ]
     },
     "execution_count": 35,
     "metadata": {},
     "output_type": "execute_result"
    }
   ],
   "source": [
    "df1_test.isna().sum().to_dict()"
   ]
  },
  {
   "cell_type": "code",
   "execution_count": 36,
   "id": "8b22ad15",
   "metadata": {
    "hidden": true
   },
   "outputs": [
    {
     "data": {
      "text/plain": [
       "['VAR2',\n",
       " 'IDADE',\n",
       " 'VAR4',\n",
       " 'VAR5',\n",
       " 'VAR6',\n",
       " 'VAR7',\n",
       " 'VAR8',\n",
       " 'VAR9',\n",
       " 'VAR10',\n",
       " 'VAR11',\n",
       " 'VAR12',\n",
       " 'VAR13',\n",
       " 'VAR14',\n",
       " 'VAR15',\n",
       " 'VAR16',\n",
       " 'VAR17',\n",
       " 'VAR18',\n",
       " 'VAR19',\n",
       " 'VAR20',\n",
       " 'VAR21',\n",
       " 'VAR22',\n",
       " 'VAR23',\n",
       " 'VAR24',\n",
       " 'VAR25',\n",
       " 'VAR26',\n",
       " 'VAR27',\n",
       " 'VAR28',\n",
       " 'VAR29',\n",
       " 'VAR30',\n",
       " 'VAR31',\n",
       " 'VAR32',\n",
       " 'VAR33',\n",
       " 'VAR34',\n",
       " 'VAR35',\n",
       " 'VAR36',\n",
       " 'VAR37',\n",
       " 'VAR38',\n",
       " 'VAR39',\n",
       " 'VAR40',\n",
       " 'VAR41',\n",
       " 'VAR42',\n",
       " 'VAR43',\n",
       " 'VAR44',\n",
       " 'VAR45',\n",
       " 'VAR46',\n",
       " 'VAR48',\n",
       " 'VAR49',\n",
       " 'VAR50',\n",
       " 'VAR51',\n",
       " 'VAR52',\n",
       " 'VAR53',\n",
       " 'VAR54',\n",
       " 'VAR55',\n",
       " 'VAR56',\n",
       " 'VAR57',\n",
       " 'VAR58',\n",
       " 'VAR59',\n",
       " 'VAR60',\n",
       " 'VAR61',\n",
       " 'VAR62',\n",
       " 'VAR63',\n",
       " 'VAR64',\n",
       " 'VAR65',\n",
       " 'VAR66',\n",
       " 'VAR67',\n",
       " 'VAR68',\n",
       " 'VAR69',\n",
       " 'VAR70',\n",
       " 'VAR71',\n",
       " 'VAR72',\n",
       " 'VAR73',\n",
       " 'VAR74',\n",
       " 'VAR75',\n",
       " 'VAR76',\n",
       " 'VAR77',\n",
       " 'VAR78',\n",
       " 'VAR79',\n",
       " 'VAR80',\n",
       " 'VAR81',\n",
       " 'VAR82',\n",
       " 'VAR83',\n",
       " 'VAR84',\n",
       " 'VAR85',\n",
       " 'VAR86',\n",
       " 'VAR87',\n",
       " 'VAR88',\n",
       " 'VAR89',\n",
       " 'VAR90',\n",
       " 'VAR91',\n",
       " 'VAR92',\n",
       " 'VAR93',\n",
       " 'VAR94',\n",
       " 'VAR95',\n",
       " 'VAR96',\n",
       " 'VAR97',\n",
       " 'VAR98',\n",
       " 'VAR99',\n",
       " 'VAR100',\n",
       " 'VAR101',\n",
       " 'VAR102',\n",
       " 'VAR103',\n",
       " 'VAR104',\n",
       " 'VAR105',\n",
       " 'VAR106',\n",
       " 'VAR107',\n",
       " 'VAR108',\n",
       " 'VAR109',\n",
       " 'VAR110',\n",
       " 'VAR111',\n",
       " 'VAR112',\n",
       " 'VAR113',\n",
       " 'VAR114',\n",
       " 'VAR115',\n",
       " 'VAR116',\n",
       " 'VAR117',\n",
       " 'VAR118',\n",
       " 'VAR119',\n",
       " 'VAR120',\n",
       " 'VAR121',\n",
       " 'VAR122',\n",
       " 'VAR123',\n",
       " 'VAR124',\n",
       " 'VAR125',\n",
       " 'VAR126',\n",
       " 'VAR127',\n",
       " 'VAR128',\n",
       " 'VAR129',\n",
       " 'VAR130',\n",
       " 'VAR131',\n",
       " 'VAR132',\n",
       " 'VAR133',\n",
       " 'VAR134',\n",
       " 'VAR135',\n",
       " 'VAR136',\n",
       " 'VAR137',\n",
       " 'VAR138',\n",
       " 'VAR139',\n",
       " 'VAR140',\n",
       " 'VAR142',\n",
       " 'VAR143',\n",
       " 'VAR144',\n",
       " 'VAR145',\n",
       " 'VAR146']"
      ]
     },
     "execution_count": 36,
     "metadata": {},
     "output_type": "execute_result"
    }
   ],
   "source": [
    "missing_cols = df1_train.columns[df1_test.isnull().any()]\n",
    "\n",
    "missing_cols.to_list()"
   ]
  },
  {
   "cell_type": "code",
   "execution_count": 37,
   "id": "fcf43cb7",
   "metadata": {
    "hidden": true
   },
   "outputs": [
    {
     "data": {
      "text/plain": [
       "{'REF_DATE': 0,\n",
       " 'VAR2': 5876,\n",
       " 'IDADE': 5188,\n",
       " 'VAR4': 80326,\n",
       " 'VAR5': 2559,\n",
       " 'VAR6': 2559,\n",
       " 'VAR7': 2559,\n",
       " 'VAR8': 33534,\n",
       " 'VAR9': 2521,\n",
       " 'VAR10': 2496,\n",
       " 'VAR11': 31119,\n",
       " 'VAR12': 34113,\n",
       " 'VAR13': 69820,\n",
       " 'VAR14': 17435,\n",
       " 'VAR15': 41162,\n",
       " 'VAR16': 43853,\n",
       " 'VAR17': 69820,\n",
       " 'VAR18': 17435,\n",
       " 'VAR19': 41162,\n",
       " 'VAR20': 72893,\n",
       " 'VAR21': 69788,\n",
       " 'VAR22': 41127,\n",
       " 'VAR23': 69820,\n",
       " 'VAR24': 15944,\n",
       " 'VAR25': 41162,\n",
       " 'VAR26': 79425,\n",
       " 'VAR27': 79297,\n",
       " 'VAR28': 69807,\n",
       " 'VAR29': 60806,\n",
       " 'VAR30': 69807,\n",
       " 'VAR31': 78098,\n",
       " 'VAR32': 53208,\n",
       " 'VAR33': 74689,\n",
       " 'VAR34': 74689,\n",
       " 'VAR35': 61404,\n",
       " 'VAR36': 62124,\n",
       " 'VAR37': 62124,\n",
       " 'VAR38': 79983,\n",
       " 'VAR39': 71,\n",
       " 'VAR40': 2505,\n",
       " 'VAR41': 2296,\n",
       " 'VAR42': 5180,\n",
       " 'VAR43': 80195,\n",
       " 'VAR44': 80195,\n",
       " 'VAR45': 80317,\n",
       " 'VAR46': 80317,\n",
       " 'VAR47': 0,\n",
       " 'VAR48': 74911,\n",
       " 'VAR49': 5198,\n",
       " 'VAR50': 5198,\n",
       " 'VAR51': 5198,\n",
       " 'VAR52': 5198,\n",
       " 'VAR53': 5198,\n",
       " 'VAR54': 5198,\n",
       " 'VAR55': 5198,\n",
       " 'VAR56': 5198,\n",
       " 'VAR57': 5198,\n",
       " 'VAR58': 5198,\n",
       " 'VAR59': 5198,\n",
       " 'VAR60': 5198,\n",
       " 'VAR61': 5198,\n",
       " 'VAR62': 5198,\n",
       " 'VAR63': 5198,\n",
       " 'VAR64': 5198,\n",
       " 'VAR65': 5198,\n",
       " 'VAR66': 2296,\n",
       " 'VAR67': 2296,\n",
       " 'VAR68': 2296,\n",
       " 'VAR69': 2296,\n",
       " 'VAR70': 2296,\n",
       " 'VAR71': 2296,\n",
       " 'VAR72': 2296,\n",
       " 'VAR73': 2296,\n",
       " 'VAR74': 2296,\n",
       " 'VAR75': 2296,\n",
       " 'VAR76': 2296,\n",
       " 'VAR77': 2296,\n",
       " 'VAR78': 2296,\n",
       " 'VAR79': 2296,\n",
       " 'VAR80': 2296,\n",
       " 'VAR81': 2296,\n",
       " 'VAR82': 2296,\n",
       " 'VAR83': 2296,\n",
       " 'VAR84': 2296,\n",
       " 'VAR85': 2296,\n",
       " 'VAR86': 2296,\n",
       " 'VAR87': 2296,\n",
       " 'VAR88': 2296,\n",
       " 'VAR89': 2296,\n",
       " 'VAR90': 2296,\n",
       " 'VAR91': 2296,\n",
       " 'VAR92': 2296,\n",
       " 'VAR93': 2296,\n",
       " 'VAR94': 2296,\n",
       " 'VAR95': 2296,\n",
       " 'VAR96': 2296,\n",
       " 'VAR97': 2296,\n",
       " 'VAR98': 2296,\n",
       " 'VAR99': 2296,\n",
       " 'VAR100': 2296,\n",
       " 'VAR101': 2296,\n",
       " 'VAR102': 2296,\n",
       " 'VAR103': 2296,\n",
       " 'VAR104': 2296,\n",
       " 'VAR105': 2296,\n",
       " 'VAR106': 2296,\n",
       " 'VAR107': 2296,\n",
       " 'VAR108': 2296,\n",
       " 'VAR109': 2296,\n",
       " 'VAR110': 2296,\n",
       " 'VAR111': 2296,\n",
       " 'VAR112': 2296,\n",
       " 'VAR113': 2296,\n",
       " 'VAR114': 2296,\n",
       " 'VAR115': 2296,\n",
       " 'VAR116': 2296,\n",
       " 'VAR117': 2296,\n",
       " 'VAR118': 2296,\n",
       " 'VAR119': 2296,\n",
       " 'VAR120': 2296,\n",
       " 'VAR121': 2296,\n",
       " 'VAR122': 2296,\n",
       " 'VAR123': 2296,\n",
       " 'VAR124': 2296,\n",
       " 'VAR125': 2296,\n",
       " 'VAR126': 2296,\n",
       " 'VAR127': 2296,\n",
       " 'VAR128': 2296,\n",
       " 'VAR129': 2296,\n",
       " 'VAR130': 2296,\n",
       " 'VAR131': 2296,\n",
       " 'VAR132': 2296,\n",
       " 'VAR133': 2296,\n",
       " 'VAR134': 2296,\n",
       " 'VAR135': 2296,\n",
       " 'VAR136': 2296,\n",
       " 'VAR137': 2296,\n",
       " 'VAR138': 2296,\n",
       " 'VAR139': 2296,\n",
       " 'VAR140': 2296,\n",
       " 'VAR141': 0,\n",
       " 'VAR142': 90,\n",
       " 'VAR143': 79567,\n",
       " 'VAR144': 79567,\n",
       " 'VAR145': 80107,\n",
       " 'VAR146': 80358,\n",
       " 'VAR147': 0,\n",
       " 'VAR148': 0,\n",
       " 'VAR149': 0,\n",
       " 'ID': 0}"
      ]
     },
     "execution_count": 37,
     "metadata": {},
     "output_type": "execute_result"
    }
   ],
   "source": [
    "df1_oot.isna().sum().to_dict()"
   ]
  },
  {
   "cell_type": "markdown",
   "id": "3d2f070c",
   "metadata": {
    "heading_collapsed": true,
    "hidden": true
   },
   "source": [
    "## Fillout NAN "
   ]
  },
  {
   "cell_type": "markdown",
   "id": "6282c85a",
   "metadata": {
    "hidden": true
   },
   "source": [
    "- Até aqui vimos que temos diversos casos com valores faltantes, então vamos ter que adotar uma estratégia para conseguir digerir a informação dessas colunas \n",
    "    \n",
    "    \n",
    "- A estratégia vai ser excluir as colunas que tem mais de 20% das linhas como NaN, escolhi esse numero pois na literatura é bem usado \n",
    "    - Acaba que nesse processo perdi algumas colunas que eu tinha a semântica clara, como a da informação do partido, mas deixar elas é perigoso pois preenchendo os muitos dados vazios que tem pode ser que o modelo na realidade aprenda errado\n",
    "\n",
    "\n",
    "- Vou olhar só para essa relação no dataset de treino, pois não faz sentido analisar para os outros(oot, test) se o modelo não tem dados suficientes para treinar com o conjunto de treino "
   ]
  },
  {
   "cell_type": "code",
   "execution_count": 38,
   "id": "b8928c0b",
   "metadata": {
    "hidden": true
   },
   "outputs": [],
   "source": [
    "cols_to_drop = []\n",
    "\n",
    "dict_analysis = df1_train.isna().sum().to_dict()\n",
    "\n",
    "for col_name, qnt_nan in dict_analysis.items():\n",
    "    if qnt_nan > (df1_train.shape[0]*0.2):\n",
    "        cols_to_drop.append(col_name)\n",
    "    "
   ]
  },
  {
   "cell_type": "code",
   "execution_count": 39,
   "id": "05ee6490",
   "metadata": {
    "hidden": true
   },
   "outputs": [
    {
     "data": {
      "text/plain": [
       "['VAR4',\n",
       " 'VAR8',\n",
       " 'VAR11',\n",
       " 'VAR12',\n",
       " 'VAR13',\n",
       " 'VAR14',\n",
       " 'VAR15',\n",
       " 'VAR16',\n",
       " 'VAR17',\n",
       " 'VAR18',\n",
       " 'VAR19',\n",
       " 'VAR20',\n",
       " 'VAR21',\n",
       " 'VAR22',\n",
       " 'VAR23',\n",
       " 'VAR25',\n",
       " 'VAR26',\n",
       " 'VAR27',\n",
       " 'VAR28',\n",
       " 'VAR29',\n",
       " 'VAR30',\n",
       " 'VAR31',\n",
       " 'VAR32',\n",
       " 'VAR33',\n",
       " 'VAR34',\n",
       " 'VAR35',\n",
       " 'VAR36',\n",
       " 'VAR37',\n",
       " 'VAR38',\n",
       " 'VAR43',\n",
       " 'VAR44',\n",
       " 'VAR45',\n",
       " 'VAR46',\n",
       " 'VAR48',\n",
       " 'VAR143',\n",
       " 'VAR144',\n",
       " 'VAR145',\n",
       " 'VAR146']"
      ]
     },
     "execution_count": 39,
     "metadata": {},
     "output_type": "execute_result"
    }
   ],
   "source": [
    "cols_to_drop"
   ]
  },
  {
   "cell_type": "code",
   "execution_count": 40,
   "id": "a4fb6785",
   "metadata": {
    "hidden": true
   },
   "outputs": [],
   "source": [
    "df1_train.drop(columns=cols_to_drop, inplace=True, axis=1)\n",
    "df1_test.drop(columns =cols_to_drop, inplace=True, axis=1)\n",
    "df1_oot.drop(columns  =cols_to_drop, inplace=True, axis=1)"
   ]
  },
  {
   "cell_type": "code",
   "execution_count": 41,
   "id": "6059e8c9",
   "metadata": {
    "hidden": true
   },
   "outputs": [
    {
     "name": "stdout",
     "output_type": "stream",
     "text": [
      "number of columns of test dataset: 113\n"
     ]
    }
   ],
   "source": [
    "print( 'number of columns of test dataset: {}'.format( df1_train.shape[1] ) )"
   ]
  },
  {
   "cell_type": "markdown",
   "id": "dc44898a",
   "metadata": {
    "hidden": true
   },
   "source": [
    "- Agora reduzimos as colunas que temos para trabalhar de 150 para 112\n",
    "\n",
    "\n",
    "- Vamos agora prencher as linhas faltantes com o metodo de ffill, mas antes precisamos ver quais ainda estão com dados faltantes\n",
    "    - Esse metodo de preenchimento de valores de dados faltantes repete o valor imediantamente posterior a ele naquela coluna "
   ]
  },
  {
   "cell_type": "code",
   "execution_count": 42,
   "id": "912578fd",
   "metadata": {
    "hidden": true
   },
   "outputs": [],
   "source": [
    "df1_train.fillna(method='ffill', inplace=True)\n",
    "df1_test.fillna(method='ffill', inplace=True)\n",
    "df1_oot.fillna(method='ffill', inplace=True)"
   ]
  },
  {
   "cell_type": "markdown",
   "id": "b1449edf",
   "metadata": {
    "heading_collapsed": true,
    "hidden": true
   },
   "source": [
    "## Rename Columns"
   ]
  },
  {
   "cell_type": "markdown",
   "id": "e8efc5c0",
   "metadata": {
    "hidden": true
   },
   "source": [
    "- Inicialmente, vamos analisar coluna por coluna para ver se identificamos um padrão que possa ser importante para nós na hora de fazermos o encoding \n",
    "    - O ordinal encoding, por exemplo, vai funcionar muito bem com as colunas que tiverem com o conjunto de valores possiveis iguais a ['ALTISSIMA', 'BAIXISSIMA', 'ALTA'], pois vai manter a relação altissima>alta>baixissima (assim como as colunas que temos ['MEDIO' 'LONGE' 'PROXIMO' 'MUITO LONGE' 'MUITO PROXIMO'] )\n",
    "    - O label encoding é ideal para usarmos nas colunas que tem o conjunto de valores ['S','N'].\n",
    "\n",
    "\n",
    "- Isso vai ajudar bastante pois não precisamos saber o que a coluna significa. O papel do cientista de dados é treinar o modelo da melhor forma viável, com os dados que tem no momento(se forem suficientes, claro).\n",
    "\n",
    "\n",
    "- Esse processo inteiro não vou deixar documentado aqui para não ficarmos com diversos snippets que poluirão a visualização do notebook\n",
    "\n",
    "\n",
    "- Depois vou renomeando as que conseguir identificar \n"
   ]
  },
  {
   "cell_type": "code",
   "execution_count": 43,
   "id": "e4282246",
   "metadata": {
    "hidden": true
   },
   "outputs": [
    {
     "name": "stdout",
     "output_type": "stream",
     "text": [
      "['F' 'M' 'I']\n",
      "\n",
      "\n",
      "0         F\n",
      "1         F\n",
      "2         F\n",
      "3         F\n",
      "4         M\n",
      "         ..\n",
      "101123    M\n",
      "101124    F\n",
      "101125    F\n",
      "101126    F\n",
      "101127    F\n",
      "Name: VAR2, Length: 101128, dtype: object\n",
      "\n",
      "\n",
      "['IDADE', 'VAR6', 'VAR7', 'VAR11', 'VAR12', 'VAR13', 'VAR14', 'VAR15', 'VAR16', 'VAR17', 'VAR18', 'VAR19', 'VAR20', 'VAR21', 'VAR22', 'VAR23', 'VAR24', 'VAR25', 'VAR26', 'VAR27', 'VAR28', 'VAR29', 'VAR30', 'VAR37', 'VAR39', 'VAR40', 'VAR41', 'VAR42', 'VAR44', 'VAR46', 'VAR47', 'VAR141', 'VAR145', 'VAR146', 'TARGET', 'VAR147', 'ID']\n"
     ]
    }
   ],
   "source": [
    "analysis = df1_train.iloc[:,2]\n",
    "\n",
    "print(analysis.dropna(axis=0).unique())\n",
    "\n",
    "print(f'\\n\\n{analysis}')\n",
    "\n",
    "print(f'\\n\\n{list(float_cols)+list(int_cols)}')"
   ]
  },
  {
   "cell_type": "code",
   "execution_count": 44,
   "id": "bc9a236f",
   "metadata": {
    "hidden": true
   },
   "outputs": [],
   "source": [
    "append_ordinal = list(range(32,107))\n",
    "cols_enc_ordinal = [8] # ordinal encoding \n",
    "cols_enc_ordinal = cols_enc_ordinal + append_ordinal\n",
    "\n",
    "append_label = list(range(15,32))\n",
    "cols_enc_label = [2,4,7,108,110,111] # label encoding\n",
    "cols_enc_label = cols_enc_label + append_label\n",
    "\n",
    "cols_numeric = [5,6,9,10,11,12,13,14,107,109]"
   ]
  },
  {
   "cell_type": "markdown",
   "id": "bea84e50",
   "metadata": {
    "hidden": true
   },
   "source": [
    "- Agora, o vou renomear apenas as colunas para os nomes do encoding que vou fazer posteriormente"
   ]
  },
  {
   "cell_type": "code",
   "execution_count": 45,
   "id": "294c90fc",
   "metadata": {
    "hidden": true
   },
   "outputs": [],
   "source": [
    "for passo, numero_coluna in enumerate(cols_enc_ordinal):\n",
    "    df1_train.rename(columns={df1_train.columns[numero_coluna]: f'ORDINAL{passo}'}, inplace=True)\n",
    "    \n",
    "for passo, numero_coluna in enumerate(cols_enc_label):\n",
    "    df1_train.rename(columns={df1_train.columns[numero_coluna]: f'LABEL{passo}'}, inplace=True)\n",
    "    \n",
    "for passo, numero_coluna in enumerate(cols_numeric):\n",
    "    df1_train.rename(columns={df1_train.columns[numero_coluna]: f'NUMERIC{passo}'}, inplace=True)"
   ]
  },
  {
   "cell_type": "code",
   "execution_count": 46,
   "id": "73772e55",
   "metadata": {
    "hidden": true
   },
   "outputs": [],
   "source": [
    "for passo, numero_coluna in enumerate(cols_enc_ordinal):\n",
    "    df1_test.rename(columns={df1_test.columns[numero_coluna]: f'ORDINAL{passo}'}, inplace=True)\n",
    "    \n",
    "for passo, numero_coluna in enumerate(cols_enc_label):\n",
    "    df1_test.rename(columns={df1_test.columns[numero_coluna]: f'LABEL{passo}'}, inplace=True)\n",
    "    \n",
    "for passo, numero_coluna in enumerate(cols_numeric):\n",
    "    df1_test.rename(columns={df1_test.columns[numero_coluna]: f'NUMERIC{passo}'}, inplace=True)"
   ]
  },
  {
   "cell_type": "code",
   "execution_count": 47,
   "id": "0dc89264",
   "metadata": {
    "hidden": true
   },
   "outputs": [],
   "source": [
    "for passo, numero_coluna in enumerate(cols_enc_ordinal):\n",
    "    df1_oot.rename(columns={df1_oot.columns[numero_coluna]: f'ORDINAL{passo}'}, inplace=True)\n",
    "    \n",
    "for passo, numero_coluna in enumerate(cols_enc_label):\n",
    "    df1_oot.rename(columns={df1_oot.columns[numero_coluna]: f'LABEL{passo}'}, inplace=True)\n",
    "    \n",
    "for passo, numero_coluna in enumerate(cols_numeric):\n",
    "    df1_oot.rename(columns={df1_oot.columns[numero_coluna]: f'NUMERIC{passo}'}, inplace=True)"
   ]
  },
  {
   "cell_type": "markdown",
   "id": "78e5004b",
   "metadata": {
    "hidden": true
   },
   "source": [
    "- Depois disso, vou renomear algumas colunas que consegui identificar sua clara semântica "
   ]
  },
  {
   "cell_type": "code",
   "execution_count": 48,
   "id": "e2f62c9d",
   "metadata": {
    "hidden": true
   },
   "outputs": [],
   "source": [
    "df1_train.rename(columns={df1_train.columns[110]: 'SITUACAO'}, inplace=True)\n",
    "df1_train.rename(columns={df1_train.columns[111]: 'VERSAO'}, inplace=True)\n",
    "df1_train.rename(columns={df1_train.columns[4]: 'ESTADO'}, inplace=True)\n",
    "df1_train.rename(columns={df1_train.columns[2]: 'SEXO'}, inplace=True)"
   ]
  },
  {
   "cell_type": "code",
   "execution_count": 49,
   "id": "9b3bdbf8",
   "metadata": {
    "hidden": true
   },
   "outputs": [],
   "source": [
    "df1_test.rename(columns={df1_test.columns[110]: 'SITUACAO'}, inplace=True)\n",
    "df1_test.rename(columns={df1_test.columns[111]: 'VERSAO'}, inplace=True)\n",
    "df1_test.rename(columns={df1_test.columns[4]: 'ESTADO'}, inplace=True)\n",
    "df1_test.rename(columns={df1_train.columns[2]: 'SEXO'}, inplace=True)"
   ]
  },
  {
   "cell_type": "code",
   "execution_count": 50,
   "id": "e70d664f",
   "metadata": {
    "hidden": true
   },
   "outputs": [],
   "source": [
    "df1_oot.rename(columns={df1_oot.columns[110]: 'SITUACAO'}, inplace=True)\n",
    "df1_oot.rename(columns={df1_oot.columns[111]: 'VERSAO'}, inplace=True)\n",
    "df1_oot.rename(columns={df1_oot.columns[4]: 'ESTADO'}, inplace=True)\n",
    "df1_oot.rename(columns={df1_train.columns[2]: 'SEXO'}, inplace=True)"
   ]
  },
  {
   "cell_type": "markdown",
   "id": "e5738fdc",
   "metadata": {
    "heading_collapsed": true,
    "hidden": true
   },
   "source": [
    "## Change types"
   ]
  },
  {
   "cell_type": "markdown",
   "id": "be6db160",
   "metadata": {
    "hidden": true
   },
   "source": [
    "- Vejo necessidade apenas de mudar agora a coluna 'REF_DATE' pois ela ainda está como object\n",
    "\n",
    "\n",
    "- As outras eu não identifiquei nenhum tipo específico para ser mudado diante mão"
   ]
  },
  {
   "cell_type": "code",
   "execution_count": 51,
   "id": "b0cfe353",
   "metadata": {
    "hidden": true
   },
   "outputs": [],
   "source": [
    "df1_train['REF_DATE'] = pd.to_datetime(df1_train['REF_DATE'], errors='coerce')"
   ]
  },
  {
   "cell_type": "code",
   "execution_count": 52,
   "id": "9f1d66ac",
   "metadata": {
    "hidden": true
   },
   "outputs": [],
   "source": [
    "df1_test['REF_DATE'] = pd.to_datetime(df1_test['REF_DATE'], errors='coerce')"
   ]
  },
  {
   "cell_type": "code",
   "execution_count": 53,
   "id": "7c19ea00",
   "metadata": {
    "hidden": true
   },
   "outputs": [],
   "source": [
    "df1_oot['REF_DATE'] = pd.to_datetime(df1_oot['REF_DATE'], errors='coerce')"
   ]
  },
  {
   "cell_type": "code",
   "execution_count": 54,
   "id": "c84e79ee",
   "metadata": {
    "hidden": true
   },
   "outputs": [
    {
     "data": {
      "text/plain": [
       "datetime64[ns, UTC]"
      ]
     },
     "execution_count": 54,
     "metadata": {},
     "output_type": "execute_result"
    }
   ],
   "source": [
    "df1_train['REF_DATE'].dtypes"
   ]
  },
  {
   "cell_type": "markdown",
   "id": "88236a13",
   "metadata": {
    "heading_collapsed": true,
    "hidden": true
   },
   "source": [
    "## Descriptive statistical"
   ]
  },
  {
   "cell_type": "markdown",
   "id": "23f27978",
   "metadata": {
    "hidden": true
   },
   "source": [
    "- Como uma primeira abordagem, vou apenas fazer uma analise do dataset de treino, se sentir a necessidade posteriormente, posso fazer dos outros dois conjunto de dados "
   ]
  },
  {
   "cell_type": "code",
   "execution_count": 55,
   "id": "b5008b53",
   "metadata": {
    "hidden": true
   },
   "outputs": [],
   "source": [
    "num_attributes = df1_train.select_dtypes( include=['int64', 'float64'] )\n",
    "cat_attributes = df1_train.select_dtypes( exclude=['int64', 'float64', 'datetime64[ns]'] )"
   ]
  },
  {
   "cell_type": "markdown",
   "id": "ce691c75",
   "metadata": {
    "heading_collapsed": true,
    "hidden": true
   },
   "source": [
    "### Numerical attributes"
   ]
  },
  {
   "cell_type": "code",
   "execution_count": 56,
   "id": "dc32e512",
   "metadata": {
    "hidden": true
   },
   "outputs": [],
   "source": [
    "# Central Tendency -  mean, median\n",
    "ct1 = pd.DataFrame( num_attributes.apply( np.mean ) ).T\n",
    "ct2 = pd.DataFrame( num_attributes.apply( np.median ) ).T\n",
    "\n",
    "# Dispersion - std, min, max, range, skev, kurtosis\n",
    "d1 = pd.DataFrame( num_attributes.apply( np.std ) ).T # Esse T é para uma vermos melhor o dataset\n",
    "d2 = pd.DataFrame( num_attributes.apply( min ) ).T # Esse T é para uma vermos melhor o dataset\n",
    "d3 = pd.DataFrame( num_attributes.apply( max ) ).T # Esse T é para uma vermos melhor o dataset\n",
    "d4 = pd.DataFrame( num_attributes.apply( lambda x: x.max() - x.min() ) ).T # Esse T é para uma vermos melhor o dataset\n",
    "d5 = pd.DataFrame( num_attributes.apply( lambda x: x.skew() ) ).T # Esse T é para uma vermos melhor o dataset\n",
    "d6 = pd.DataFrame( num_attributes.apply( lambda x: x.kurtosis ) ).T # Esse T é para uma vermos melhor o dataset\n",
    "\n",
    "# concatenate\n",
    "dfDesc = pd.concat( [ d2, d3, d4, ct1, ct2, d1, d5, d4 ] ).T.reset_index()\n",
    "\n",
    "dfDesc.columns = ['attributes', 'min', 'max', 'range', 'mean', 'median', 'std', 'skew', 'kurtosis']"
   ]
  },
  {
   "cell_type": "code",
   "execution_count": 57,
   "id": "6d384541",
   "metadata": {
    "hidden": true
   },
   "outputs": [
    {
     "data": {
      "text/html": [
       "<div>\n",
       "<style scoped>\n",
       "    .dataframe tbody tr th:only-of-type {\n",
       "        vertical-align: middle;\n",
       "    }\n",
       "\n",
       "    .dataframe tbody tr th {\n",
       "        vertical-align: top;\n",
       "    }\n",
       "\n",
       "    .dataframe thead th {\n",
       "        text-align: right;\n",
       "    }\n",
       "</style>\n",
       "<table border=\"1\" class=\"dataframe\">\n",
       "  <thead>\n",
       "    <tr style=\"text-align: right;\">\n",
       "      <th></th>\n",
       "      <th>attributes</th>\n",
       "      <th>min</th>\n",
       "      <th>max</th>\n",
       "      <th>range</th>\n",
       "      <th>mean</th>\n",
       "      <th>median</th>\n",
       "      <th>std</th>\n",
       "      <th>skew</th>\n",
       "      <th>kurtosis</th>\n",
       "    </tr>\n",
       "  </thead>\n",
       "  <tbody>\n",
       "    <tr>\n",
       "      <th>0</th>\n",
       "      <td>TARGET</td>\n",
       "      <td>0.000000</td>\n",
       "      <td>1.000000</td>\n",
       "      <td>1.000000</td>\n",
       "      <td>0.792362</td>\n",
       "      <td>1.000000</td>\n",
       "      <td>0.405616</td>\n",
       "      <td>-1.441592</td>\n",
       "      <td>1.000000</td>\n",
       "    </tr>\n",
       "    <tr>\n",
       "      <th>1</th>\n",
       "      <td>IDADE</td>\n",
       "      <td>18.014000</td>\n",
       "      <td>106.904000</td>\n",
       "      <td>88.890000</td>\n",
       "      <td>42.170736</td>\n",
       "      <td>39.890000</td>\n",
       "      <td>15.271359</td>\n",
       "      <td>0.495378</td>\n",
       "      <td>88.890000</td>\n",
       "    </tr>\n",
       "    <tr>\n",
       "      <th>2</th>\n",
       "      <td>NUMERIC0</td>\n",
       "      <td>-33.521563</td>\n",
       "      <td>4.478585</td>\n",
       "      <td>38.000148</td>\n",
       "      <td>-14.427593</td>\n",
       "      <td>-13.035421</td>\n",
       "      <td>8.991930</td>\n",
       "      <td>-0.060939</td>\n",
       "      <td>38.000148</td>\n",
       "    </tr>\n",
       "    <tr>\n",
       "      <th>3</th>\n",
       "      <td>NUMERIC1</td>\n",
       "      <td>-72.900276</td>\n",
       "      <td>-32.429516</td>\n",
       "      <td>40.470759</td>\n",
       "      <td>-45.901102</td>\n",
       "      <td>-46.576816</td>\n",
       "      <td>7.515403</td>\n",
       "      <td>-0.671684</td>\n",
       "      <td>40.470759</td>\n",
       "    </tr>\n",
       "    <tr>\n",
       "      <th>4</th>\n",
       "      <td>NUMERIC2</td>\n",
       "      <td>0.000000</td>\n",
       "      <td>1.000000</td>\n",
       "      <td>1.000000</td>\n",
       "      <td>0.080188</td>\n",
       "      <td>0.034000</td>\n",
       "      <td>0.138874</td>\n",
       "      <td>3.668971</td>\n",
       "      <td>1.000000</td>\n",
       "    </tr>\n",
       "    <tr>\n",
       "      <th>5</th>\n",
       "      <td>NUMERIC3</td>\n",
       "      <td>0.049309</td>\n",
       "      <td>0.970921</td>\n",
       "      <td>0.921612</td>\n",
       "      <td>0.461239</td>\n",
       "      <td>0.462267</td>\n",
       "      <td>0.144179</td>\n",
       "      <td>-0.087250</td>\n",
       "      <td>0.921612</td>\n",
       "    </tr>\n",
       "    <tr>\n",
       "      <th>6</th>\n",
       "      <td>NUMERIC4</td>\n",
       "      <td>0.208688</td>\n",
       "      <td>0.920685</td>\n",
       "      <td>0.711997</td>\n",
       "      <td>0.531783</td>\n",
       "      <td>0.510313</td>\n",
       "      <td>0.115869</td>\n",
       "      <td>1.047010</td>\n",
       "      <td>0.711997</td>\n",
       "    </tr>\n",
       "    <tr>\n",
       "      <th>7</th>\n",
       "      <td>NUMERIC5</td>\n",
       "      <td>0.000000</td>\n",
       "      <td>1.000000</td>\n",
       "      <td>1.000000</td>\n",
       "      <td>0.631528</td>\n",
       "      <td>0.542108</td>\n",
       "      <td>0.222548</td>\n",
       "      <td>0.354275</td>\n",
       "      <td>1.000000</td>\n",
       "    </tr>\n",
       "    <tr>\n",
       "      <th>8</th>\n",
       "      <td>NUMERIC6</td>\n",
       "      <td>0.012339</td>\n",
       "      <td>0.910865</td>\n",
       "      <td>0.898526</td>\n",
       "      <td>0.504661</td>\n",
       "      <td>0.496036</td>\n",
       "      <td>0.069690</td>\n",
       "      <td>0.973144</td>\n",
       "      <td>0.898526</td>\n",
       "    </tr>\n",
       "    <tr>\n",
       "      <th>9</th>\n",
       "      <td>NUMERIC7</td>\n",
       "      <td>0.000000</td>\n",
       "      <td>1.000000</td>\n",
       "      <td>1.000000</td>\n",
       "      <td>0.256144</td>\n",
       "      <td>0.003000</td>\n",
       "      <td>0.406335</td>\n",
       "      <td>1.167098</td>\n",
       "      <td>1.000000</td>\n",
       "    </tr>\n",
       "    <tr>\n",
       "      <th>10</th>\n",
       "      <td>NUMERIC8</td>\n",
       "      <td>0.000000</td>\n",
       "      <td>46685.420000</td>\n",
       "      <td>46685.420000</td>\n",
       "      <td>1854.443649</td>\n",
       "      <td>1627.157652</td>\n",
       "      <td>922.605381</td>\n",
       "      <td>10.563762</td>\n",
       "      <td>46685.420000</td>\n",
       "    </tr>\n",
       "    <tr>\n",
       "      <th>11</th>\n",
       "      <td>NUMERIC9</td>\n",
       "      <td>100.000000</td>\n",
       "      <td>102.000000</td>\n",
       "      <td>2.000000</td>\n",
       "      <td>101.842121</td>\n",
       "      <td>102.000000</td>\n",
       "      <td>0.539289</td>\n",
       "      <td>-3.123126</td>\n",
       "      <td>2.000000</td>\n",
       "    </tr>\n",
       "    <tr>\n",
       "      <th>12</th>\n",
       "      <td>ID</td>\n",
       "      <td>1.000000</td>\n",
       "      <td>330581.000000</td>\n",
       "      <td>330580.000000</td>\n",
       "      <td>165307.238450</td>\n",
       "      <td>165196.000000</td>\n",
       "      <td>95357.215081</td>\n",
       "      <td>0.000753</td>\n",
       "      <td>330580.000000</td>\n",
       "    </tr>\n",
       "  </tbody>\n",
       "</table>\n",
       "</div>"
      ],
      "text/plain": [
       "   attributes         min            max          range           mean  \\\n",
       "0      TARGET    0.000000       1.000000       1.000000       0.792362   \n",
       "1       IDADE   18.014000     106.904000      88.890000      42.170736   \n",
       "2    NUMERIC0  -33.521563       4.478585      38.000148     -14.427593   \n",
       "3    NUMERIC1  -72.900276     -32.429516      40.470759     -45.901102   \n",
       "4    NUMERIC2    0.000000       1.000000       1.000000       0.080188   \n",
       "5    NUMERIC3    0.049309       0.970921       0.921612       0.461239   \n",
       "6    NUMERIC4    0.208688       0.920685       0.711997       0.531783   \n",
       "7    NUMERIC5    0.000000       1.000000       1.000000       0.631528   \n",
       "8    NUMERIC6    0.012339       0.910865       0.898526       0.504661   \n",
       "9    NUMERIC7    0.000000       1.000000       1.000000       0.256144   \n",
       "10   NUMERIC8    0.000000   46685.420000   46685.420000    1854.443649   \n",
       "11   NUMERIC9  100.000000     102.000000       2.000000     101.842121   \n",
       "12         ID    1.000000  330581.000000  330580.000000  165307.238450   \n",
       "\n",
       "           median           std       skew       kurtosis  \n",
       "0        1.000000      0.405616  -1.441592       1.000000  \n",
       "1       39.890000     15.271359   0.495378      88.890000  \n",
       "2      -13.035421      8.991930  -0.060939      38.000148  \n",
       "3      -46.576816      7.515403  -0.671684      40.470759  \n",
       "4        0.034000      0.138874   3.668971       1.000000  \n",
       "5        0.462267      0.144179  -0.087250       0.921612  \n",
       "6        0.510313      0.115869   1.047010       0.711997  \n",
       "7        0.542108      0.222548   0.354275       1.000000  \n",
       "8        0.496036      0.069690   0.973144       0.898526  \n",
       "9        0.003000      0.406335   1.167098       1.000000  \n",
       "10    1627.157652    922.605381  10.563762   46685.420000  \n",
       "11     102.000000      0.539289  -3.123126       2.000000  \n",
       "12  165196.000000  95357.215081   0.000753  330580.000000  "
      ]
     },
     "execution_count": 57,
     "metadata": {},
     "output_type": "execute_result"
    }
   ],
   "source": [
    "dfDesc"
   ]
  },
  {
   "cell_type": "markdown",
   "id": "7c9f1a44",
   "metadata": {
    "hidden": true
   },
   "source": [
    "- Percebemos algumas coisas que pontuo interessante nessa analise do conjunto de treino\n",
    "    - Temos muito mais bons pagadores do que mal pagadores\n",
    "    - Geralmente as pessoas que requerem credito tem em torno de 40 anos\n",
    "    - Provavelmente a NUMERIC8 é uma variável relacionado com alguma metrica de valor monetário"
   ]
  },
  {
   "cell_type": "code",
   "execution_count": 58,
   "id": "e53d65e2",
   "metadata": {
    "hidden": true
   },
   "outputs": [
    {
     "data": {
      "text/plain": [
       "<seaborn.axisgrid.FacetGrid at 0x7f880accbe50>"
      ]
     },
     "execution_count": 58,
     "metadata": {},
     "output_type": "execute_result"
    },
    {
     "data": {
      "image/png": "[encoded data removed]",
      "text/plain": [
       "<Figure size 360x360 with 1 Axes>"
      ]
     },
     "metadata": {
      "needs_background": "light"
     },
     "output_type": "display_data"
    }
   ],
   "source": [
    "sns.displot( df1_train['TARGET'] )"
   ]
  },
  {
   "cell_type": "code",
   "execution_count": 59,
   "id": "cab99a79",
   "metadata": {
    "hidden": true
   },
   "outputs": [
    {
     "data": {
      "text/plain": [
       "<seaborn.axisgrid.FacetGrid at 0x7f88015d4e80>"
      ]
     },
     "execution_count": 59,
     "metadata": {},
     "output_type": "execute_result"
    },
    {
     "data": {
      "image/png": "[encoded data removed]",
      "text/plain": [
       "<Figure size 360x360 with 1 Axes>"
      ]
     },
     "metadata": {
      "needs_background": "light"
     },
     "output_type": "display_data"
    }
   ],
   "source": [
    "sns.displot( df1_test['TARGET'] )"
   ]
  },
  {
   "cell_type": "markdown",
   "id": "b152048b",
   "metadata": {
    "hidden": true
   },
   "source": [
    "- Nesses graficos vemos que realmente temos muito mais bons pagadores do que mal pagadores no treino e no teste\n",
    " \n",
    " \n",
    "- Isso é um bom sinal, pois em outros casos temos uma diferença muito gritante, isso força a aplicação de tecnicas de redistribuição do dataset"
   ]
  },
  {
   "cell_type": "markdown",
   "id": "0d576287",
   "metadata": {
    "heading_collapsed": true,
    "hidden": true
   },
   "source": [
    "### Categorical attributes"
   ]
  },
  {
   "cell_type": "code",
   "execution_count": 61,
   "id": "e68ec9ea",
   "metadata": {
    "hidden": true
   },
   "outputs": [],
   "source": [
    "cat_attributes['TARGET'] = num_attributes['TARGET']"
   ]
  },
  {
   "cell_type": "markdown",
   "id": "99e7ef53",
   "metadata": {
    "hidden": true
   },
   "source": [
    "- Nas variáveis categóricas vejo importante vermos as distribuições de cada uma das que conseguimos saber a semântica clara da variável(i.e ESTADO, SITUACAO)"
   ]
  },
  {
   "cell_type": "code",
   "execution_count": 63,
   "id": "e311986b",
   "metadata": {
    "hidden": true
   },
   "outputs": [
    {
     "data": {
      "text/plain": [
       "<AxesSubplot: xlabel='ESTADO', ylabel='TARGET'>"
      ]
     },
     "execution_count": 63,
     "metadata": {},
     "output_type": "execute_result"
    },
    {
     "data": {
      "image/png": "[encoded data removed]",
      "text/plain": [
       "<Figure size 720x720 with 1 Axes>"
      ]
     },
     "metadata": {},
     "output_type": "display_data"
    }
   ],
   "source": [
    "sns.set(rc={'figure.figsize':(10,10)})\n",
    "sns.histplot( x='ESTADO' , y='TARGET' , data=cat_attributes )\n"
   ]
  },
  {
   "cell_type": "markdown",
   "id": "28fd5e34",
   "metadata": {
    "hidden": true
   },
   "source": [
    "- Com esse gráfico podemos perceber que SP é o estado que temos mais exemplos no nosso dataset, e lá, aparentemente tem a maior relação de bons pagadores/mal pagadores"
   ]
  },
  {
   "cell_type": "code",
   "execution_count": 64,
   "id": "f503e4fd",
   "metadata": {
    "hidden": true
   },
   "outputs": [
    {
     "data": {
      "text/plain": [
       "<AxesSubplot: xlabel='SITUACAO', ylabel='TARGET'>"
      ]
     },
     "execution_count": 64,
     "metadata": {},
     "output_type": "execute_result"
    },
    {
     "data": {
      "image/png": "[encoded data removed]",
      "text/plain": [
       "<Figure size 5040x5040 with 1 Axes>"
      ]
     },
     "metadata": {},
     "output_type": "display_data"
    }
   ],
   "source": [
    "sns.set(rc={'figure.figsize':(70,70)})\n",
    "sns.histplot( x='SITUACAO' , y='TARGET' , data=cat_attributes )"
   ]
  },
  {
   "cell_type": "markdown",
   "id": "6c55ce82",
   "metadata": {
    "hidden": true
   },
   "source": [
    "- Se quiser abrir essa imagem com mais definição é só baixar ou abrir em outra guia\n",
    "\n",
    "\n",
    "- Com esse gráfico percebemos que as situações mais comuns, tanto para bons ou mal pagadores é a de Email inexistente e a categoria de EMAIL INEXISTENTE#@#NOME INEXISTENTE#@#CEP INEXISTENTE. \n",
    "\n",
    "\n",
    "- Isso pode ser interessante para nós quando estivermos levantando hipóteses sobre o funcionamento da fenômeno e também quando estivermos fazendo a correlação financeira ao final do projeto"
   ]
  },
  {
   "cell_type": "code",
   "execution_count": 65,
   "id": "b0e08362",
   "metadata": {
    "hidden": true
   },
   "outputs": [
    {
     "data": {
      "text/plain": [
       "<AxesSubplot: xlabel='SEXO', ylabel='TARGET'>"
      ]
     },
     "execution_count": 65,
     "metadata": {},
     "output_type": "execute_result"
    },
    {
     "data": {
      "image/png": "[encoded data removed]",
      "text/plain": [
       "<Figure size 720x720 with 1 Axes>"
      ]
     },
     "metadata": {},
     "output_type": "display_data"
    }
   ],
   "source": [
    "sns.set(rc={'figure.figsize':(10,10)})\n",
    "sns.histplot( x='SEXO' , y='TARGET' , data=cat_attributes )"
   ]
  },
  {
   "cell_type": "code",
   "execution_count": 71,
   "id": "32a152df",
   "metadata": {
    "hidden": true
   },
   "outputs": [
    {
     "data": {
      "text/plain": [
       "43970"
      ]
     },
     "execution_count": 71,
     "metadata": {},
     "output_type": "execute_result"
    }
   ],
   "source": [
    "df1_train[df1_train['SEXO'] == 'M'].shape[0]"
   ]
  },
  {
   "cell_type": "code",
   "execution_count": 72,
   "id": "7d8023fd",
   "metadata": {
    "hidden": true
   },
   "outputs": [
    {
     "data": {
      "text/plain": [
       "57157"
      ]
     },
     "execution_count": 72,
     "metadata": {},
     "output_type": "execute_result"
    }
   ],
   "source": [
    "df1_train[df1_train['SEXO'] == 'F'].shape[0]"
   ]
  },
  {
   "cell_type": "markdown",
   "id": "ff8b3b4e",
   "metadata": {
    "hidden": true
   },
   "source": [
    "- Percebemos a partir desse histograma e vendo quantas mulheres e homens existem no conjunto de treino, temos que as mulheres são mais boas pagadoras do que homens.\n",
    "\n",
    "\n",
    "- Podemos refutar essa hipotese mais a frente na EDA"
   ]
  },
  {
   "cell_type": "markdown",
   "id": "c272f5c7",
   "metadata": {
    "heading_collapsed": true
   },
   "source": [
    "# Feature engineering"
   ]
  },
  {
   "cell_type": "code",
   "execution_count": 86,
   "id": "3bb65ca7",
   "metadata": {
    "hidden": true
   },
   "outputs": [],
   "source": [
    "df2_oot   = df1_oot.copy()\n",
    "df2_train = df1_train.copy()\n",
    "df2_test  = df1_test.copy()"
   ]
  },
  {
   "cell_type": "markdown",
   "id": "13ac5053",
   "metadata": {
    "heading_collapsed": true,
    "hidden": true
   },
   "source": [
    "## Hypotheses mind map"
   ]
  },
  {
   "cell_type": "code",
   "execution_count": 82,
   "id": "98de328c",
   "metadata": {
    "hidden": true
   },
   "outputs": [
    {
     "data": {
      "image/png": "[encoded data removed]",
      "text/plain": [
       "<IPython.core.display.Image object>"
      ]
     },
     "execution_count": 82,
     "metadata": {},
     "output_type": "execute_result"
    }
   ],
   "source": [
    "Image( '/home/eduardo/Desktop/DS/granting-of-credit/images/Modelagem_de_risco_em_credito.png' )"
   ]
  },
  {
   "cell_type": "markdown",
   "id": "b0748dcc",
   "metadata": {
    "heading_collapsed": true,
    "hidden": true
   },
   "source": [
    "## List of hypotheses based on categorical variables"
   ]
  },
  {
   "cell_type": "markdown",
   "id": "237cff3c",
   "metadata": {
    "hidden": true
   },
   "source": [
    "- 1.0 Mulheres são mais boas pagadoras do que homens?\n",
    "- 2.0 Pessoas mais jovens são mais mal pagadoras?\n",
    "- 3.0 Existe um estado que as pessoas paguem muito mais mal que outros?\n",
    "- 4.0 Qual situação é mais encontrada quando falamos de mal pagadores?\n",
    "- 5.0 Existe alguma relação clara entre o dia da semana com pessoas mal pagadoras?"
   ]
  },
  {
   "cell_type": "markdown",
   "id": "ac885728",
   "metadata": {
    "heading_collapsed": true,
    "hidden": true
   },
   "source": [
    "## Feature engineering"
   ]
  },
  {
   "cell_type": "markdown",
   "id": "d6ef2b55",
   "metadata": {
    "hidden": true
   },
   "source": [
    "- Aqui vou criar uma colunas para podermos avaliar por dia o histórico de emprestimo de crédito\n",
    "    - Não quero me criar uma avaliação por mês pois no conjunto de dados out of time não temos o smesmos meses que aqui, pois são de setembro a novembro de 2017\n",
    "\n",
    "\n",
    "- Julgo que essa coluna a mais é necessária para podermos fazer o modelo aprender melhor se tiver alguma relação de dia com a quantidade de pessoas mal pagadoras."
   ]
  },
  {
   "cell_type": "code",
   "execution_count": 92,
   "id": "ea87f191",
   "metadata": {
    "hidden": true
   },
   "outputs": [],
   "source": [
    "# day\n",
    "df2_train['DAY'] = df2_train['REF_DATE'].dt.dayofweek"
   ]
  },
  {
   "cell_type": "code",
   "execution_count": 95,
   "id": "8587d5ad",
   "metadata": {
    "hidden": true
   },
   "outputs": [],
   "source": [
    "# day\n",
    "df2_test['DAY'] = df2_test['REF_DATE'].dt.dayofweek"
   ]
  },
  {
   "cell_type": "code",
   "execution_count": 94,
   "id": "d81ed151",
   "metadata": {
    "hidden": true
   },
   "outputs": [],
   "source": [
    "# day\n",
    "df2_oot['DAY'] = df2_oot['REF_DATE'].dt.dayofweek"
   ]
  },
  {
   "cell_type": "markdown",
   "id": "ab658241",
   "metadata": {
    "heading_collapsed": true
   },
   "source": [
    "# Variable filtering"
   ]
  },
  {
   "cell_type": "markdown",
   "id": "5fd9c21b",
   "metadata": {
    "heading_collapsed": true,
    "hidden": true
   },
   "source": [
    "## rows filtering"
   ]
  },
  {
   "cell_type": "code",
   "execution_count": null,
   "id": "926a7c01",
   "metadata": {
    "hidden": true
   },
   "outputs": [],
   "source": []
  },
  {
   "cell_type": "markdown",
   "id": "b5bdeaf5",
   "metadata": {
    "heading_collapsed": true,
    "hidden": true
   },
   "source": [
    "## Columns selection"
   ]
  },
  {
   "cell_type": "code",
   "execution_count": null,
   "id": "1bef8c21",
   "metadata": {
    "hidden": true
   },
   "outputs": [],
   "source": []
  },
  {
   "cell_type": "markdown",
   "id": "4058fa23",
   "metadata": {
    "heading_collapsed": true
   },
   "source": [
    "# Exploratory data analysis"
   ]
  },
  {
   "cell_type": "markdown",
   "id": "b3efcaac",
   "metadata": {
    "heading_collapsed": true,
    "hidden": true
   },
   "source": [
    "## Univariate analysis"
   ]
  },
  {
   "cell_type": "markdown",
   "id": "2e08828c",
   "metadata": {
    "heading_collapsed": true,
    "hidden": true
   },
   "source": [
    "### Respose variable"
   ]
  },
  {
   "cell_type": "code",
   "execution_count": null,
   "id": "ea31fa53",
   "metadata": {
    "hidden": true
   },
   "outputs": [],
   "source": []
  },
  {
   "cell_type": "markdown",
   "id": "570a524d",
   "metadata": {
    "heading_collapsed": true,
    "hidden": true
   },
   "source": [
    "### Numerical variable"
   ]
  },
  {
   "cell_type": "code",
   "execution_count": null,
   "id": "94dbd566",
   "metadata": {
    "hidden": true
   },
   "outputs": [],
   "source": []
  },
  {
   "cell_type": "markdown",
   "id": "aaaa0399",
   "metadata": {
    "heading_collapsed": true,
    "hidden": true
   },
   "source": [
    "### Categorical variable "
   ]
  },
  {
   "cell_type": "code",
   "execution_count": null,
   "id": "c3835073",
   "metadata": {
    "hidden": true
   },
   "outputs": [],
   "source": []
  },
  {
   "cell_type": "markdown",
   "id": "a5535506",
   "metadata": {
    "heading_collapsed": true,
    "hidden": true
   },
   "source": [
    "## Bivariate analysis"
   ]
  },
  {
   "cell_type": "code",
   "execution_count": null,
   "id": "fef8f79e",
   "metadata": {
    "hidden": true
   },
   "outputs": [],
   "source": []
  },
  {
   "cell_type": "markdown",
   "id": "59de000e",
   "metadata": {
    "heading_collapsed": true,
    "hidden": true
   },
   "source": [
    "## Summary of hypotheses"
   ]
  },
  {
   "cell_type": "code",
   "execution_count": null,
   "id": "15d511c6",
   "metadata": {
    "hidden": true
   },
   "outputs": [],
   "source": []
  },
  {
   "cell_type": "markdown",
   "id": "84daf2fe",
   "metadata": {
    "heading_collapsed": true,
    "hidden": true
   },
   "source": [
    "## Multivariate analysis"
   ]
  },
  {
   "cell_type": "markdown",
   "id": "84e7d152",
   "metadata": {
    "heading_collapsed": true,
    "hidden": true
   },
   "source": [
    "### Numerical attributes"
   ]
  },
  {
   "cell_type": "code",
   "execution_count": null,
   "id": "fc87100c",
   "metadata": {
    "hidden": true
   },
   "outputs": [],
   "source": []
  },
  {
   "cell_type": "markdown",
   "id": "3c0c4683",
   "metadata": {
    "heading_collapsed": true,
    "hidden": true
   },
   "source": [
    "### Categorical attributes"
   ]
  },
  {
   "cell_type": "code",
   "execution_count": null,
   "id": "259db118",
   "metadata": {
    "hidden": true
   },
   "outputs": [],
   "source": []
  },
  {
   "cell_type": "markdown",
   "id": "f0263644",
   "metadata": {
    "heading_collapsed": true
   },
   "source": [
    "# Data preparation"
   ]
  },
  {
   "cell_type": "markdown",
   "id": "927db97a",
   "metadata": {
    "heading_collapsed": true,
    "hidden": true
   },
   "source": [
    "## Normalization\n"
   ]
  },
  {
   "cell_type": "code",
   "execution_count": null,
   "id": "1f60651e",
   "metadata": {
    "hidden": true
   },
   "outputs": [],
   "source": []
  },
  {
   "cell_type": "markdown",
   "id": "61a09c79",
   "metadata": {
    "heading_collapsed": true,
    "hidden": true
   },
   "source": [
    "## Rescaling"
   ]
  },
  {
   "cell_type": "code",
   "execution_count": null,
   "id": "59601419",
   "metadata": {
    "hidden": true
   },
   "outputs": [],
   "source": []
  },
  {
   "cell_type": "markdown",
   "id": "f1f3fa58",
   "metadata": {
    "heading_collapsed": true,
    "hidden": true
   },
   "source": [
    "## Transformation"
   ]
  },
  {
   "cell_type": "markdown",
   "id": "20f8cc5a",
   "metadata": {
    "heading_collapsed": true,
    "hidden": true
   },
   "source": [
    "### Encoding"
   ]
  },
  {
   "cell_type": "code",
   "execution_count": null,
   "id": "614b7aea",
   "metadata": {
    "hidden": true
   },
   "outputs": [],
   "source": []
  },
  {
   "cell_type": "markdown",
   "id": "9ee1604c",
   "metadata": {
    "heading_collapsed": true,
    "hidden": true
   },
   "source": [
    "### Response variable transformation"
   ]
  },
  {
   "cell_type": "code",
   "execution_count": null,
   "id": "b8f83c59",
   "metadata": {
    "hidden": true
   },
   "outputs": [],
   "source": []
  },
  {
   "cell_type": "markdown",
   "id": "86e25ad1",
   "metadata": {
    "heading_collapsed": true,
    "hidden": true
   },
   "source": [
    "### Nature transformation"
   ]
  },
  {
   "cell_type": "code",
   "execution_count": null,
   "id": "58fd33d4",
   "metadata": {
    "hidden": true
   },
   "outputs": [],
   "source": []
  },
  {
   "cell_type": "markdown",
   "id": "87beff1d",
   "metadata": {
    "heading_collapsed": true
   },
   "source": [
    "# Feature selection"
   ]
  },
  {
   "cell_type": "markdown",
   "id": "e7398e81",
   "metadata": {
    "heading_collapsed": true,
    "hidden": true
   },
   "source": [
    "## Boruta as a feature selector"
   ]
  },
  {
   "cell_type": "code",
   "execution_count": null,
   "id": "45937993",
   "metadata": {
    "hidden": true
   },
   "outputs": [],
   "source": [
    "df_escondido_train = df_raw_train.copy()\n",
    "df_escondido_test = df_raw_test.copy()\n"
   ]
  },
  {
   "cell_type": "code",
   "execution_count": null,
   "id": "0c5ca597",
   "metadata": {
    "hidden": true
   },
   "outputs": [],
   "source": [
    "x_train = df_escondido_train.drop(['TARGET', 'REF_DATE'], axis=1)\n",
    "y_train = df_escondido_train['TARGET']\n"
   ]
  },
  {
   "cell_type": "code",
   "execution_count": null,
   "id": "75efb08c",
   "metadata": {
    "hidden": true
   },
   "outputs": [],
   "source": [
    "# from boruta import BorutaPy\n",
    "# from sklearn.ensemble      import RandomForestRegressor\n",
    "\n",
    "# # training and test dataset for Boruta\n",
    "# x_train_n = x_train.values # dropar em relaçao as linhas \n",
    "# y_train_n = y_train.values.ravel() # colocar tudo isso dentro de um vetor \n",
    "\n",
    "# # # define RandomForestRegressor\n",
    "# rf = RandomForestRegressor( n_jobs=-1 ) # o n_jobs diz se queremos que ele crie varios processos ao mesmo tempo pra otimizar o que queremos fazer\n",
    "\n",
    "# # define Boruta\n",
    "# boruta = BorutaPy( rf, n_estimators='auto', verbose=2, random_state=42 ).fit( x_train, y_train )"
   ]
  },
  {
   "cell_type": "code",
   "execution_count": null,
   "id": "dfd8fbb5",
   "metadata": {
    "hidden": true
   },
   "outputs": [],
   "source": []
  },
  {
   "cell_type": "markdown",
   "id": "8e6de713",
   "metadata": {
    "heading_collapsed": true,
    "hidden": true
   },
   "source": [
    "### Best features from boruta"
   ]
  },
  {
   "cell_type": "code",
   "execution_count": null,
   "id": "1653ab16",
   "metadata": {
    "hidden": true
   },
   "outputs": [],
   "source": []
  },
  {
   "cell_type": "markdown",
   "id": "90cbd18c",
   "metadata": {
    "heading_collapsed": true,
    "hidden": true
   },
   "source": [
    "### Manual feature selection"
   ]
  },
  {
   "cell_type": "code",
   "execution_count": null,
   "id": "21ebd80e",
   "metadata": {
    "hidden": true
   },
   "outputs": [],
   "source": []
  },
  {
   "cell_type": "markdown",
   "id": "f2ef1c2f",
   "metadata": {
    "heading_collapsed": true
   },
   "source": [
    "# ML models"
   ]
  },
  {
   "cell_type": "markdown",
   "id": "587eb8fb",
   "metadata": {
    "heading_collapsed": true,
    "hidden": true
   },
   "source": [
    "## Average Model"
   ]
  },
  {
   "cell_type": "code",
   "execution_count": null,
   "id": "55a4f08e",
   "metadata": {
    "hidden": true
   },
   "outputs": [],
   "source": []
  },
  {
   "cell_type": "markdown",
   "id": "87bc213d",
   "metadata": {
    "heading_collapsed": true,
    "hidden": true
   },
   "source": [
    "## Model 1"
   ]
  },
  {
   "cell_type": "code",
   "execution_count": null,
   "id": "38f29911",
   "metadata": {
    "hidden": true
   },
   "outputs": [],
   "source": []
  },
  {
   "cell_type": "markdown",
   "id": "0842a184",
   "metadata": {
    "heading_collapsed": true,
    "hidden": true
   },
   "source": [
    "## Model 2"
   ]
  },
  {
   "cell_type": "code",
   "execution_count": null,
   "id": "bb074837",
   "metadata": {
    "hidden": true
   },
   "outputs": [],
   "source": []
  },
  {
   "cell_type": "markdown",
   "id": "03273fa0",
   "metadata": {
    "heading_collapsed": true,
    "hidden": true
   },
   "source": [
    "## Model 3"
   ]
  },
  {
   "cell_type": "code",
   "execution_count": null,
   "id": "460cf61e",
   "metadata": {
    "hidden": true
   },
   "outputs": [],
   "source": []
  },
  {
   "cell_type": "markdown",
   "id": "c5bd369d",
   "metadata": {
    "heading_collapsed": true,
    "hidden": true
   },
   "source": [
    "## Model 4"
   ]
  },
  {
   "cell_type": "code",
   "execution_count": null,
   "id": "e5c739f1",
   "metadata": {
    "hidden": true
   },
   "outputs": [],
   "source": []
  },
  {
   "cell_type": "markdown",
   "id": "2b0aa0e0",
   "metadata": {
    "heading_collapsed": true,
    "hidden": true
   },
   "source": [
    "## Model 5"
   ]
  },
  {
   "cell_type": "code",
   "execution_count": null,
   "id": "ed60cf50",
   "metadata": {
    "hidden": true
   },
   "outputs": [],
   "source": []
  },
  {
   "cell_type": "markdown",
   "id": "fd570fe8",
   "metadata": {
    "heading_collapsed": true,
    "hidden": true
   },
   "source": [
    "## Compare model's performance"
   ]
  },
  {
   "cell_type": "code",
   "execution_count": null,
   "id": "64f4e150",
   "metadata": {
    "hidden": true
   },
   "outputs": [],
   "source": []
  },
  {
   "cell_type": "markdown",
   "id": "ccfeed6a",
   "metadata": {
    "heading_collapsed": true
   },
   "source": [
    "# Hyperparameter fine tuning"
   ]
  },
  {
   "cell_type": "markdown",
   "id": "e7b20e71",
   "metadata": {
    "heading_collapsed": true,
    "hidden": true
   },
   "source": [
    "## Random search"
   ]
  },
  {
   "cell_type": "code",
   "execution_count": null,
   "id": "5ae304bb",
   "metadata": {
    "hidden": true
   },
   "outputs": [],
   "source": []
  },
  {
   "cell_type": "markdown",
   "id": "210258b6",
   "metadata": {
    "heading_collapsed": true,
    "hidden": true
   },
   "source": [
    "## Final model"
   ]
  },
  {
   "cell_type": "code",
   "execution_count": null,
   "id": "5787926a",
   "metadata": {
    "hidden": true
   },
   "outputs": [],
   "source": []
  },
  {
   "cell_type": "markdown",
   "id": "6971a7da",
   "metadata": {
    "heading_collapsed": true
   },
   "source": [
    "# Error translation and interpretation"
   ]
  },
  {
   "cell_type": "markdown",
   "id": "a2d2937c",
   "metadata": {
    "heading_collapsed": true,
    "hidden": true
   },
   "source": [
    "## Business performance"
   ]
  },
  {
   "cell_type": "code",
   "execution_count": null,
   "id": "32ffdfe5",
   "metadata": {
    "hidden": true
   },
   "outputs": [],
   "source": []
  },
  {
   "cell_type": "markdown",
   "id": "6fbc32da",
   "metadata": {
    "heading_collapsed": true,
    "hidden": true
   },
   "source": [
    "## Total performance"
   ]
  },
  {
   "cell_type": "code",
   "execution_count": null,
   "id": "41896c3f",
   "metadata": {
    "hidden": true
   },
   "outputs": [],
   "source": []
  },
  {
   "cell_type": "markdown",
   "id": "42e36a4f",
   "metadata": {
    "heading_collapsed": true,
    "hidden": true
   },
   "source": [
    "## Machine learning performance"
   ]
  },
  {
   "cell_type": "code",
   "execution_count": null,
   "id": "ffd28d45",
   "metadata": {
    "hidden": true
   },
   "outputs": [],
   "source": []
  }
 ],
 "metadata": {
  "hide_input": false,
  "kernelspec": {
   "display_name": "Python 3 (ipykernel)",
   "language": "python",
   "name": "python3"
  },
  "language_info": {
   "codemirror_mode": {
    "name": "ipython",
    "version": 3
   },
   "file_extension": ".py",
   "mimetype": "text/x-python",
   "name": "python",
   "nbconvert_exporter": "python",
   "pygments_lexer": "ipython3",
   "version": "3.9.12"
  },
  "nbTranslate": {
   "displayLangs": [
    "*"
   ],
   "hotkey": "alt-t",
   "langInMainMenu": true,
   "sourceLang": "en",
   "targetLang": "fr",
   "useGoogleTranslate": true
  },
  "toc": {
   "base_numbering": 1,
   "nav_menu": {},
   "number_sections": true,
   "sideBar": true,
   "skip_h1_title": false,
   "title_cell": "Table of Contents",
   "title_sidebar": "Contents",
   "toc_cell": false,
   "toc_position": {},
   "toc_section_display": true,
   "toc_window_display": false
  }
 },
 "nbformat": 4,
 "nbformat_minor": 5
}
