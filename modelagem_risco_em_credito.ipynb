{
 "cells": [
  {
   "cell_type": "markdown",
   "id": "05927bb3",
   "metadata": {
    "heading_collapsed": true
   },
   "source": [
    "# Important Considerations"
   ]
  },
  {
   "cell_type": "markdown",
   "id": "d6fb4fcf",
   "metadata": {
    "hidden": true
   },
   "source": [
    "- Esse notebook está disponível no repositório de link -> https://github.com/Edu-p/granting-of-credit\n",
    "\n",
    "\n",
    "- Nele estão algumas informações adicionais de como está a estrutura de resources do projeto e o que está salvo em cada um diretório"
   ]
  },
  {
   "cell_type": "markdown",
   "id": "6d107944",
   "metadata": {
    "heading_collapsed": true
   },
   "source": [
    "# Imports"
   ]
  },
  {
   "cell_type": "markdown",
   "id": "51768345",
   "metadata": {
    "heading_collapsed": true,
    "hidden": true
   },
   "source": [
    "## Libs"
   ]
  },
  {
   "cell_type": "code",
   "execution_count": 1,
   "id": "bb238f25",
   "metadata": {
    "ExecuteTime": {
     "end_time": "2023-01-19T00:51:22.828445Z",
     "start_time": "2023-01-19T00:51:14.774904Z"
    },
    "hidden": true
   },
   "outputs": [],
   "source": [
    "import pandas                  as pd\n",
    "import numpy                   as np\n",
    "\n",
    "import seaborn                 as sns\n",
    "from matplotlib  import pyplot as plt\n",
    "from IPython.display import Image\n",
    "\n",
    "from sklearn.feature_selection import SelectFromModel\n",
    "from sklearn.ensemble      import RandomForestClassifier\n",
    "from sklearn.preprocessing import RobustScaler, MinMaxScaler, LabelEncoder\n",
    "from sklearn.naive_bayes import GaussianNB\n",
    "from sklearn.neural_network import MLPClassifier\n",
    "from sklearn.metrics import accuracy_score\n",
    "from sklearn.svm import SVC\n",
    "from sklearn.ensemble import RandomForestClassifier\n",
    "from xgboost import XGBClassifier\n",
    "from sklearn.neural_network import MLPClassifier\n",
    "from sklearn.metrics import confusion_matrix\n",
    "from sklearn.metrics import precision_score\n",
    "from sklearn.metrics import recall_score\n",
    "from sklearn.metrics import f1_score\n",
    "from sklearn.metrics import roc_auc_score\n",
    "from sklearn.model_selection import cross_val_score, cross_validate, GridSearchCV\n",
    "\n",
    "import random\n",
    "import warnings \n",
    "warnings.filterwarnings( 'ignore' )\n",
    "\n",
    "import joblib\n",
    "from joblib import load\n",
    "\n"
   ]
  },
  {
   "cell_type": "markdown",
   "id": "acf0e970",
   "metadata": {
    "heading_collapsed": true,
    "hidden": true
   },
   "source": [
    "## Helper functions\n"
   ]
  },
  {
   "cell_type": "code",
   "execution_count": 3,
   "id": "3be1f2a8",
   "metadata": {
    "ExecuteTime": {
     "end_time": "2023-01-19T00:51:38.065886Z",
     "start_time": "2023-01-19T00:51:38.063107Z"
    },
    "hidden": true
   },
   "outputs": [],
   "source": [
    "def as_is_policy(df):\n",
    "    # solicitação negada é remover do dataset, pois nao posso colocar como 0 pois isso quer dizer que ele teve o credito concedido, e de acordo com essa politica ele nem recebe o crédito\n",
    "    df = df[(df['IDADE'] > 28)]\n",
    "    return df\n",
    "\n",
    "def to_be_policy(df):\n",
    "    df = df[(df['SCORE_PREDICTED'] >= 0.868)]\n",
    "    return df\n",
    "    "
   ]
  },
  {
   "cell_type": "markdown",
   "id": "f1c5fd10",
   "metadata": {
    "heading_collapsed": true,
    "hidden": true
   },
   "source": [
    "## Loading data"
   ]
  },
  {
   "cell_type": "code",
   "execution_count": 2,
   "id": "f13156eb",
   "metadata": {
    "ExecuteTime": {
     "end_time": "2023-01-19T00:51:38.061838Z",
     "start_time": "2023-01-19T00:51:32.430044Z"
    },
    "hidden": true
   },
   "outputs": [],
   "source": [
    "df_raw_train = pd.read_csv('/home/eduardo/Desktop/DS/granting-of-credit/datasets/credit_01/train')\n",
    "df_raw_test  = pd.read_csv('/home/eduardo/Desktop/DS/granting-of-credit/datasets/credit_01/test', low_memory=False)\n",
    "df_raw_oot   = pd.read_csv('/home/eduardo/Desktop/DS/granting-of-credit/datasets/credit_01/oot', low_memory=False)"
   ]
  },
  {
   "cell_type": "markdown",
   "id": "37150a1c",
   "metadata": {
    "heading_collapsed": true
   },
   "source": [
    "# Data description"
   ]
  },
  {
   "cell_type": "markdown",
   "id": "577651de",
   "metadata": {
    "hidden": true
   },
   "source": [
    "- Vou preferir por não fazer a junção das tabelas pois quero ver a estatistíca descritiva de cada uma delas separada"
   ]
  },
  {
   "cell_type": "code",
   "execution_count": 4,
   "id": "ab6c2582",
   "metadata": {
    "ExecuteTime": {
     "end_time": "2023-01-19T00:51:53.766077Z",
     "start_time": "2023-01-19T00:51:53.606961Z"
    },
    "hidden": true
   },
   "outputs": [],
   "source": [
    "df1_oot   = df_raw_oot.copy()\n",
    "df1_train = df_raw_train.copy()\n",
    "df1_test  = df_raw_test.copy()"
   ]
  },
  {
   "cell_type": "markdown",
   "id": "e0c964f7",
   "metadata": {
    "heading_collapsed": true,
    "hidden": true
   },
   "source": [
    "## Data dimensions"
   ]
  },
  {
   "cell_type": "code",
   "execution_count": 5,
   "id": "ce86cba7",
   "metadata": {
    "ExecuteTime": {
     "end_time": "2023-01-19T00:51:56.498584Z",
     "start_time": "2023-01-19T00:51:56.493660Z"
    },
    "hidden": true
   },
   "outputs": [
    {
     "name": "stdout",
     "output_type": "stream",
     "text": [
      "number of Rows of train dataset: 101128\n",
      "number of columns of test dataset: 151\n"
     ]
    }
   ],
   "source": [
    "print( 'number of Rows of train dataset: {}'.format( df1_train.shape[0] ) )\n",
    "print( 'number of columns of test dataset: {}'.format( df1_train.shape[1] ) )"
   ]
  },
  {
   "cell_type": "code",
   "execution_count": 6,
   "id": "aeff120b",
   "metadata": {
    "ExecuteTime": {
     "end_time": "2023-01-19T00:51:58.028072Z",
     "start_time": "2023-01-19T00:51:58.022941Z"
    },
    "hidden": true
   },
   "outputs": [
    {
     "name": "stdout",
     "output_type": "stream",
     "text": [
      "number of Rows of test dataset: 49810\n",
      "number of columns of test dataset: 151\n"
     ]
    }
   ],
   "source": [
    "print( 'number of Rows of test dataset: {}'.format( df1_test.shape[0] ) )\n",
    "print( 'number of columns of test dataset: {}'.format( df1_test.shape[1] ) )"
   ]
  },
  {
   "cell_type": "code",
   "execution_count": 7,
   "id": "309bdecb",
   "metadata": {
    "ExecuteTime": {
     "end_time": "2023-01-19T00:51:58.853155Z",
     "start_time": "2023-01-19T00:51:58.847493Z"
    },
    "hidden": true
   },
   "outputs": [
    {
     "name": "stdout",
     "output_type": "stream",
     "text": [
      "number of Rows of oot dataset: 80469\n",
      "number of columns of test dataset: 150\n"
     ]
    }
   ],
   "source": [
    "print( 'number of Rows of oot dataset: {}'.format( df1_oot.shape[0] ) )\n",
    "print( 'number of columns of test dataset: {}'.format( df1_oot.shape[1] ) )"
   ]
  },
  {
   "cell_type": "markdown",
   "id": "3bd38ce3",
   "metadata": {
    "heading_collapsed": true,
    "hidden": true
   },
   "source": [
    "## Data types"
   ]
  },
  {
   "cell_type": "markdown",
   "id": "109c7746",
   "metadata": {
    "hidden": true
   },
   "source": [
    "Aqui percebemos que a maioria dos colunas não estão como tipo object, vamos ter que analisar posteriormente como fazer o encoding **correto** nas colunas que vão ser suficientemente influentes na variável resposta"
   ]
  },
  {
   "cell_type": "code",
   "execution_count": 8,
   "id": "75c13aa8",
   "metadata": {
    "ExecuteTime": {
     "end_time": "2023-01-19T00:52:03.646429Z",
     "start_time": "2023-01-19T00:52:03.630113Z"
    },
    "hidden": true
   },
   "outputs": [
    {
     "data": {
      "text/plain": [
       "REF_DATE     object\n",
       "TARGET        int64\n",
       "VAR2         object\n",
       "IDADE       float64\n",
       "VAR4         object\n",
       "             ...   \n",
       "VAR146      float64\n",
       "VAR147        int64\n",
       "VAR148       object\n",
       "VAR149       object\n",
       "ID            int64\n",
       "Length: 151, dtype: object"
      ]
     },
     "execution_count": 8,
     "metadata": {},
     "output_type": "execute_result"
    }
   ],
   "source": [
    "df1_train.dtypes"
   ]
  },
  {
   "cell_type": "code",
   "execution_count": 9,
   "id": "0a6f544e",
   "metadata": {
    "ExecuteTime": {
     "end_time": "2023-01-19T00:52:06.766227Z",
     "start_time": "2023-01-19T00:52:06.638396Z"
    },
    "hidden": true
   },
   "outputs": [
    {
     "name": "stdout",
     "output_type": "stream",
     "text": [
      "Index(['TARGET', 'VAR147', 'ID'], dtype='object')\n",
      "\n",
      "\n",
      "\n",
      "Index(['IDADE', 'VAR6', 'VAR7', 'VAR11', 'VAR12', 'VAR13', 'VAR14', 'VAR15',\n",
      "       'VAR16', 'VAR17', 'VAR18', 'VAR19', 'VAR20', 'VAR21', 'VAR22', 'VAR23',\n",
      "       'VAR24', 'VAR25', 'VAR26', 'VAR27', 'VAR28', 'VAR29', 'VAR30', 'VAR37',\n",
      "       'VAR39', 'VAR40', 'VAR41', 'VAR42', 'VAR44', 'VAR46', 'VAR47', 'VAR141',\n",
      "       'VAR145', 'VAR146'],\n",
      "      dtype='object')\n",
      "\n",
      "\n",
      "\n",
      "Index(['REF_DATE', 'VAR2', 'VAR4', 'VAR5', 'VAR8', 'VAR9', 'VAR10', 'VAR31',\n",
      "       'VAR32', 'VAR33',\n",
      "       ...\n",
      "       'VAR136', 'VAR137', 'VAR138', 'VAR139', 'VAR140', 'VAR142', 'VAR143',\n",
      "       'VAR144', 'VAR148', 'VAR149'],\n",
      "      dtype='object', length=114)\n",
      "\n",
      "\n",
      "\n"
     ]
    }
   ],
   "source": [
    "# Obtendo as colunas do tipo int\n",
    "int_cols = df1_train.select_dtypes(include='int64').columns\n",
    "print(int_cols)\n",
    "print('\\n' *2)\n",
    "\n",
    "# Obtendo as colunas do tipo float\n",
    "float_cols = df1_train.select_dtypes(include='float64').columns\n",
    "print(float_cols)\n",
    "print('\\n' *2)\n",
    "\n",
    "# Obtendo as colunas do tipo object\n",
    "obj_cols = df1_train.select_dtypes(include='object').columns\n",
    "print(obj_cols)\n",
    "print('\\n' *2)"
   ]
  },
  {
   "cell_type": "code",
   "execution_count": 10,
   "id": "d2f57216",
   "metadata": {
    "ExecuteTime": {
     "end_time": "2023-01-19T00:52:10.537053Z",
     "start_time": "2023-01-19T00:52:10.531841Z"
    },
    "hidden": true
   },
   "outputs": [
    {
     "name": "stdout",
     "output_type": "stream",
     "text": [
      "Tem outro tipo de dado no conjunto que não seja [int,float,object]? \n",
      "resposta: False\n"
     ]
    }
   ],
   "source": [
    "print(f\"Tem outro tipo de dado no conjunto que não seja [int,float,object]? \\nresposta: {False if (len(int_cols.to_list()) + len(float_cols.to_list()) + len(obj_cols.to_list())) == df1_train.shape[1] else True}\" )"
   ]
  },
  {
   "cell_type": "markdown",
   "id": "e7e72f99",
   "metadata": {
    "heading_collapsed": true,
    "hidden": true
   },
   "source": [
    "## Check NAN"
   ]
  },
  {
   "cell_type": "code",
   "execution_count": 11,
   "id": "46a5b7fc",
   "metadata": {
    "ExecuteTime": {
     "end_time": "2023-01-19T00:52:17.875288Z",
     "start_time": "2023-01-19T00:52:16.616328Z"
    },
    "hidden": true
   },
   "outputs": [
    {
     "data": {
      "text/plain": [
       "['VAR2',\n",
       " 'IDADE',\n",
       " 'VAR4',\n",
       " 'VAR5',\n",
       " 'VAR6',\n",
       " 'VAR7',\n",
       " 'VAR8',\n",
       " 'VAR9',\n",
       " 'VAR10',\n",
       " 'VAR11',\n",
       " 'VAR12',\n",
       " 'VAR13',\n",
       " 'VAR14',\n",
       " 'VAR15',\n",
       " 'VAR16',\n",
       " 'VAR17',\n",
       " 'VAR18',\n",
       " 'VAR19',\n",
       " 'VAR20',\n",
       " 'VAR21',\n",
       " 'VAR22',\n",
       " 'VAR23',\n",
       " 'VAR24',\n",
       " 'VAR25',\n",
       " 'VAR26',\n",
       " 'VAR27',\n",
       " 'VAR28',\n",
       " 'VAR29',\n",
       " 'VAR30',\n",
       " 'VAR31',\n",
       " 'VAR32',\n",
       " 'VAR33',\n",
       " 'VAR34',\n",
       " 'VAR35',\n",
       " 'VAR36',\n",
       " 'VAR37',\n",
       " 'VAR38',\n",
       " 'VAR39',\n",
       " 'VAR40',\n",
       " 'VAR41',\n",
       " 'VAR42',\n",
       " 'VAR43',\n",
       " 'VAR44',\n",
       " 'VAR45',\n",
       " 'VAR46',\n",
       " 'VAR48',\n",
       " 'VAR49',\n",
       " 'VAR50',\n",
       " 'VAR51',\n",
       " 'VAR52',\n",
       " 'VAR53',\n",
       " 'VAR54',\n",
       " 'VAR55',\n",
       " 'VAR56',\n",
       " 'VAR57',\n",
       " 'VAR58',\n",
       " 'VAR59',\n",
       " 'VAR60',\n",
       " 'VAR61',\n",
       " 'VAR62',\n",
       " 'VAR63',\n",
       " 'VAR64',\n",
       " 'VAR65',\n",
       " 'VAR66',\n",
       " 'VAR67',\n",
       " 'VAR68',\n",
       " 'VAR69',\n",
       " 'VAR70',\n",
       " 'VAR71',\n",
       " 'VAR72',\n",
       " 'VAR73',\n",
       " 'VAR74',\n",
       " 'VAR75',\n",
       " 'VAR76',\n",
       " 'VAR77',\n",
       " 'VAR78',\n",
       " 'VAR79',\n",
       " 'VAR80',\n",
       " 'VAR81',\n",
       " 'VAR82',\n",
       " 'VAR83',\n",
       " 'VAR84',\n",
       " 'VAR85',\n",
       " 'VAR86',\n",
       " 'VAR87',\n",
       " 'VAR88',\n",
       " 'VAR89',\n",
       " 'VAR90',\n",
       " 'VAR91',\n",
       " 'VAR92',\n",
       " 'VAR93',\n",
       " 'VAR94',\n",
       " 'VAR95',\n",
       " 'VAR96',\n",
       " 'VAR97',\n",
       " 'VAR98',\n",
       " 'VAR99',\n",
       " 'VAR100',\n",
       " 'VAR101',\n",
       " 'VAR102',\n",
       " 'VAR103',\n",
       " 'VAR104',\n",
       " 'VAR105',\n",
       " 'VAR106',\n",
       " 'VAR107',\n",
       " 'VAR108',\n",
       " 'VAR109',\n",
       " 'VAR110',\n",
       " 'VAR111',\n",
       " 'VAR112',\n",
       " 'VAR113',\n",
       " 'VAR114',\n",
       " 'VAR115',\n",
       " 'VAR116',\n",
       " 'VAR117',\n",
       " 'VAR118',\n",
       " 'VAR119',\n",
       " 'VAR120',\n",
       " 'VAR121',\n",
       " 'VAR122',\n",
       " 'VAR123',\n",
       " 'VAR124',\n",
       " 'VAR125',\n",
       " 'VAR126',\n",
       " 'VAR127',\n",
       " 'VAR128',\n",
       " 'VAR129',\n",
       " 'VAR130',\n",
       " 'VAR131',\n",
       " 'VAR132',\n",
       " 'VAR133',\n",
       " 'VAR134',\n",
       " 'VAR135',\n",
       " 'VAR136',\n",
       " 'VAR137',\n",
       " 'VAR138',\n",
       " 'VAR139',\n",
       " 'VAR140',\n",
       " 'VAR142',\n",
       " 'VAR143',\n",
       " 'VAR144',\n",
       " 'VAR145',\n",
       " 'VAR146']"
      ]
     },
     "execution_count": 11,
     "metadata": {},
     "output_type": "execute_result"
    }
   ],
   "source": [
    "missing_cols = df1_train.columns[df1_train.isnull().any()]\n",
    "\n",
    "missing_cols.to_list()"
   ]
  },
  {
   "cell_type": "code",
   "execution_count": 12,
   "id": "f227d1c4",
   "metadata": {
    "ExecuteTime": {
     "end_time": "2023-01-19T00:52:19.527708Z",
     "start_time": "2023-01-19T00:52:18.037170Z"
    },
    "hidden": true
   },
   "outputs": [
    {
     "data": {
      "text/plain": [
       "{'REF_DATE': 0,\n",
       " 'TARGET': 0,\n",
       " 'VAR2': 12356,\n",
       " 'IDADE': 11594,\n",
       " 'VAR4': 100944,\n",
       " 'VAR5': 2835,\n",
       " 'VAR6': 2835,\n",
       " 'VAR7': 2835,\n",
       " 'VAR8': 44526,\n",
       " 'VAR9': 2798,\n",
       " 'VAR10': 2770,\n",
       " 'VAR11': 38719,\n",
       " 'VAR12': 46220,\n",
       " 'VAR13': 88133,\n",
       " 'VAR14': 21411,\n",
       " 'VAR15': 52173,\n",
       " 'VAR16': 63551,\n",
       " 'VAR17': 88133,\n",
       " 'VAR18': 21411,\n",
       " 'VAR19': 52173,\n",
       " 'VAR20': 91606,\n",
       " 'VAR21': 88081,\n",
       " 'VAR22': 52106,\n",
       " 'VAR23': 88133,\n",
       " 'VAR24': 19685,\n",
       " 'VAR25': 52173,\n",
       " 'VAR26': 100307,\n",
       " 'VAR27': 100281,\n",
       " 'VAR28': 90386,\n",
       " 'VAR29': 80376,\n",
       " 'VAR30': 90386,\n",
       " 'VAR31': 97881,\n",
       " 'VAR32': 65931,\n",
       " 'VAR33': 93800,\n",
       " 'VAR34': 93800,\n",
       " 'VAR35': 79486,\n",
       " 'VAR36': 80339,\n",
       " 'VAR37': 80339,\n",
       " 'VAR38': 100467,\n",
       " 'VAR39': 65,\n",
       " 'VAR40': 2782,\n",
       " 'VAR41': 2508,\n",
       " 'VAR42': 11588,\n",
       " 'VAR43': 100778,\n",
       " 'VAR44': 100778,\n",
       " 'VAR45': 100867,\n",
       " 'VAR46': 100867,\n",
       " 'VAR47': 0,\n",
       " 'VAR48': 94081,\n",
       " 'VAR49': 11592,\n",
       " 'VAR50': 11592,\n",
       " 'VAR51': 11592,\n",
       " 'VAR52': 11592,\n",
       " 'VAR53': 11592,\n",
       " 'VAR54': 11592,\n",
       " 'VAR55': 11592,\n",
       " 'VAR56': 11592,\n",
       " 'VAR57': 11592,\n",
       " 'VAR58': 11592,\n",
       " 'VAR59': 11592,\n",
       " 'VAR60': 11592,\n",
       " 'VAR61': 11592,\n",
       " 'VAR62': 11592,\n",
       " 'VAR63': 11592,\n",
       " 'VAR64': 11592,\n",
       " 'VAR65': 11592,\n",
       " 'VAR66': 2508,\n",
       " 'VAR67': 2508,\n",
       " 'VAR68': 2508,\n",
       " 'VAR69': 2508,\n",
       " 'VAR70': 2508,\n",
       " 'VAR71': 2508,\n",
       " 'VAR72': 2508,\n",
       " 'VAR73': 2508,\n",
       " 'VAR74': 2508,\n",
       " 'VAR75': 2508,\n",
       " 'VAR76': 2508,\n",
       " 'VAR77': 2508,\n",
       " 'VAR78': 2508,\n",
       " 'VAR79': 2508,\n",
       " 'VAR80': 2508,\n",
       " 'VAR81': 2508,\n",
       " 'VAR82': 2508,\n",
       " 'VAR83': 2508,\n",
       " 'VAR84': 2508,\n",
       " 'VAR85': 2508,\n",
       " 'VAR86': 2508,\n",
       " 'VAR87': 2508,\n",
       " 'VAR88': 2508,\n",
       " 'VAR89': 2508,\n",
       " 'VAR90': 2508,\n",
       " 'VAR91': 2508,\n",
       " 'VAR92': 2508,\n",
       " 'VAR93': 2508,\n",
       " 'VAR94': 2508,\n",
       " 'VAR95': 2508,\n",
       " 'VAR96': 2508,\n",
       " 'VAR97': 2508,\n",
       " 'VAR98': 2508,\n",
       " 'VAR99': 2508,\n",
       " 'VAR100': 2508,\n",
       " 'VAR101': 2508,\n",
       " 'VAR102': 2508,\n",
       " 'VAR103': 2508,\n",
       " 'VAR104': 2508,\n",
       " 'VAR105': 2508,\n",
       " 'VAR106': 2508,\n",
       " 'VAR107': 2508,\n",
       " 'VAR108': 2508,\n",
       " 'VAR109': 2508,\n",
       " 'VAR110': 2508,\n",
       " 'VAR111': 2508,\n",
       " 'VAR112': 2508,\n",
       " 'VAR113': 2508,\n",
       " 'VAR114': 2508,\n",
       " 'VAR115': 2508,\n",
       " 'VAR116': 2508,\n",
       " 'VAR117': 2508,\n",
       " 'VAR118': 2508,\n",
       " 'VAR119': 2508,\n",
       " 'VAR120': 2508,\n",
       " 'VAR121': 2508,\n",
       " 'VAR122': 2508,\n",
       " 'VAR123': 2508,\n",
       " 'VAR124': 2508,\n",
       " 'VAR125': 2508,\n",
       " 'VAR126': 2508,\n",
       " 'VAR127': 2508,\n",
       " 'VAR128': 2508,\n",
       " 'VAR129': 2508,\n",
       " 'VAR130': 2508,\n",
       " 'VAR131': 2508,\n",
       " 'VAR132': 2508,\n",
       " 'VAR133': 2508,\n",
       " 'VAR134': 2508,\n",
       " 'VAR135': 2508,\n",
       " 'VAR136': 2508,\n",
       " 'VAR137': 2508,\n",
       " 'VAR138': 2508,\n",
       " 'VAR139': 2508,\n",
       " 'VAR140': 2508,\n",
       " 'VAR141': 0,\n",
       " 'VAR142': 123,\n",
       " 'VAR143': 99823,\n",
       " 'VAR144': 99823,\n",
       " 'VAR145': 100584,\n",
       " 'VAR146': 100989,\n",
       " 'VAR147': 0,\n",
       " 'VAR148': 0,\n",
       " 'VAR149': 0,\n",
       " 'ID': 0}"
      ]
     },
     "execution_count": 12,
     "metadata": {},
     "output_type": "execute_result"
    }
   ],
   "source": [
    "df1_train.isna().sum().to_dict()"
   ]
  },
  {
   "cell_type": "code",
   "execution_count": 13,
   "id": "4f460238",
   "metadata": {
    "ExecuteTime": {
     "end_time": "2023-01-19T00:52:20.207286Z",
     "start_time": "2023-01-19T00:52:19.529241Z"
    },
    "hidden": true
   },
   "outputs": [
    {
     "data": {
      "text/plain": [
       "['VAR2',\n",
       " 'IDADE',\n",
       " 'VAR4',\n",
       " 'VAR5',\n",
       " 'VAR6',\n",
       " 'VAR7',\n",
       " 'VAR8',\n",
       " 'VAR9',\n",
       " 'VAR10',\n",
       " 'VAR11',\n",
       " 'VAR12',\n",
       " 'VAR13',\n",
       " 'VAR14',\n",
       " 'VAR15',\n",
       " 'VAR16',\n",
       " 'VAR17',\n",
       " 'VAR18',\n",
       " 'VAR19',\n",
       " 'VAR20',\n",
       " 'VAR21',\n",
       " 'VAR22',\n",
       " 'VAR23',\n",
       " 'VAR24',\n",
       " 'VAR25',\n",
       " 'VAR26',\n",
       " 'VAR27',\n",
       " 'VAR28',\n",
       " 'VAR29',\n",
       " 'VAR30',\n",
       " 'VAR31',\n",
       " 'VAR32',\n",
       " 'VAR33',\n",
       " 'VAR34',\n",
       " 'VAR35',\n",
       " 'VAR36',\n",
       " 'VAR37',\n",
       " 'VAR38',\n",
       " 'VAR39',\n",
       " 'VAR40',\n",
       " 'VAR41',\n",
       " 'VAR42',\n",
       " 'VAR43',\n",
       " 'VAR44',\n",
       " 'VAR45',\n",
       " 'VAR46',\n",
       " 'VAR48',\n",
       " 'VAR49',\n",
       " 'VAR50',\n",
       " 'VAR51',\n",
       " 'VAR52',\n",
       " 'VAR53',\n",
       " 'VAR54',\n",
       " 'VAR55',\n",
       " 'VAR56',\n",
       " 'VAR57',\n",
       " 'VAR58',\n",
       " 'VAR59',\n",
       " 'VAR60',\n",
       " 'VAR61',\n",
       " 'VAR62',\n",
       " 'VAR63',\n",
       " 'VAR64',\n",
       " 'VAR65',\n",
       " 'VAR66',\n",
       " 'VAR67',\n",
       " 'VAR68',\n",
       " 'VAR69',\n",
       " 'VAR70',\n",
       " 'VAR71',\n",
       " 'VAR72',\n",
       " 'VAR73',\n",
       " 'VAR74',\n",
       " 'VAR75',\n",
       " 'VAR76',\n",
       " 'VAR77',\n",
       " 'VAR78',\n",
       " 'VAR79',\n",
       " 'VAR80',\n",
       " 'VAR81',\n",
       " 'VAR82',\n",
       " 'VAR83',\n",
       " 'VAR84',\n",
       " 'VAR85',\n",
       " 'VAR86',\n",
       " 'VAR87',\n",
       " 'VAR88',\n",
       " 'VAR89',\n",
       " 'VAR90',\n",
       " 'VAR91',\n",
       " 'VAR92',\n",
       " 'VAR93',\n",
       " 'VAR94',\n",
       " 'VAR95',\n",
       " 'VAR96',\n",
       " 'VAR97',\n",
       " 'VAR98',\n",
       " 'VAR99',\n",
       " 'VAR100',\n",
       " 'VAR101',\n",
       " 'VAR102',\n",
       " 'VAR103',\n",
       " 'VAR104',\n",
       " 'VAR105',\n",
       " 'VAR106',\n",
       " 'VAR107',\n",
       " 'VAR108',\n",
       " 'VAR109',\n",
       " 'VAR110',\n",
       " 'VAR111',\n",
       " 'VAR112',\n",
       " 'VAR113',\n",
       " 'VAR114',\n",
       " 'VAR115',\n",
       " 'VAR116',\n",
       " 'VAR117',\n",
       " 'VAR118',\n",
       " 'VAR119',\n",
       " 'VAR120',\n",
       " 'VAR121',\n",
       " 'VAR122',\n",
       " 'VAR123',\n",
       " 'VAR124',\n",
       " 'VAR125',\n",
       " 'VAR126',\n",
       " 'VAR127',\n",
       " 'VAR128',\n",
       " 'VAR129',\n",
       " 'VAR130',\n",
       " 'VAR131',\n",
       " 'VAR132',\n",
       " 'VAR133',\n",
       " 'VAR134',\n",
       " 'VAR135',\n",
       " 'VAR136',\n",
       " 'VAR137',\n",
       " 'VAR138',\n",
       " 'VAR139',\n",
       " 'VAR140',\n",
       " 'VAR142',\n",
       " 'VAR143',\n",
       " 'VAR144',\n",
       " 'VAR145',\n",
       " 'VAR146']"
      ]
     },
     "execution_count": 13,
     "metadata": {},
     "output_type": "execute_result"
    }
   ],
   "source": [
    "missing_cols = df1_test.columns[df1_test.isnull().any()]\n",
    "\n",
    "missing_cols.to_list()"
   ]
  },
  {
   "cell_type": "code",
   "execution_count": 14,
   "id": "c7e43248",
   "metadata": {
    "ExecuteTime": {
     "end_time": "2023-01-19T00:52:23.943316Z",
     "start_time": "2023-01-19T00:52:23.360155Z"
    },
    "hidden": true
   },
   "outputs": [
    {
     "data": {
      "text/plain": [
       "{'REF_DATE': 0,\n",
       " 'TARGET': 0,\n",
       " 'VAR2': 6032,\n",
       " 'IDADE': 5602,\n",
       " 'VAR4': 49734,\n",
       " 'VAR5': 1345,\n",
       " 'VAR6': 1345,\n",
       " 'VAR7': 1345,\n",
       " 'VAR8': 21922,\n",
       " 'VAR9': 1335,\n",
       " 'VAR10': 1323,\n",
       " 'VAR11': 19049,\n",
       " 'VAR12': 22771,\n",
       " 'VAR13': 43376,\n",
       " 'VAR14': 10670,\n",
       " 'VAR15': 25670,\n",
       " 'VAR16': 31268,\n",
       " 'VAR17': 43376,\n",
       " 'VAR18': 10670,\n",
       " 'VAR19': 25670,\n",
       " 'VAR20': 45101,\n",
       " 'VAR21': 43347,\n",
       " 'VAR22': 25649,\n",
       " 'VAR23': 43376,\n",
       " 'VAR24': 9772,\n",
       " 'VAR25': 25670,\n",
       " 'VAR26': 49417,\n",
       " 'VAR27': 49408,\n",
       " 'VAR28': 44556,\n",
       " 'VAR29': 39570,\n",
       " 'VAR30': 44556,\n",
       " 'VAR31': 48194,\n",
       " 'VAR32': 32569,\n",
       " 'VAR33': 46208,\n",
       " 'VAR34': 46208,\n",
       " 'VAR35': 39015,\n",
       " 'VAR36': 39451,\n",
       " 'VAR37': 39451,\n",
       " 'VAR38': 49510,\n",
       " 'VAR39': 42,\n",
       " 'VAR40': 1326,\n",
       " 'VAR41': 1194,\n",
       " 'VAR42': 5600,\n",
       " 'VAR43': 49623,\n",
       " 'VAR44': 49623,\n",
       " 'VAR45': 49667,\n",
       " 'VAR46': 49667,\n",
       " 'VAR47': 0,\n",
       " 'VAR48': 46377,\n",
       " 'VAR49': 5601,\n",
       " 'VAR50': 5601,\n",
       " 'VAR51': 5601,\n",
       " 'VAR52': 5601,\n",
       " 'VAR53': 5601,\n",
       " 'VAR54': 5601,\n",
       " 'VAR55': 5601,\n",
       " 'VAR56': 5601,\n",
       " 'VAR57': 5601,\n",
       " 'VAR58': 5601,\n",
       " 'VAR59': 5601,\n",
       " 'VAR60': 5601,\n",
       " 'VAR61': 5601,\n",
       " 'VAR62': 5601,\n",
       " 'VAR63': 5601,\n",
       " 'VAR64': 5601,\n",
       " 'VAR65': 5601,\n",
       " 'VAR66': 1194,\n",
       " 'VAR67': 1194,\n",
       " 'VAR68': 1194,\n",
       " 'VAR69': 1194,\n",
       " 'VAR70': 1194,\n",
       " 'VAR71': 1194,\n",
       " 'VAR72': 1194,\n",
       " 'VAR73': 1194,\n",
       " 'VAR74': 1194,\n",
       " 'VAR75': 1194,\n",
       " 'VAR76': 1194,\n",
       " 'VAR77': 1194,\n",
       " 'VAR78': 1194,\n",
       " 'VAR79': 1194,\n",
       " 'VAR80': 1194,\n",
       " 'VAR81': 1194,\n",
       " 'VAR82': 1194,\n",
       " 'VAR83': 1194,\n",
       " 'VAR84': 1194,\n",
       " 'VAR85': 1194,\n",
       " 'VAR86': 1194,\n",
       " 'VAR87': 1194,\n",
       " 'VAR88': 1194,\n",
       " 'VAR89': 1194,\n",
       " 'VAR90': 1194,\n",
       " 'VAR91': 1194,\n",
       " 'VAR92': 1194,\n",
       " 'VAR93': 1194,\n",
       " 'VAR94': 1194,\n",
       " 'VAR95': 1194,\n",
       " 'VAR96': 1194,\n",
       " 'VAR97': 1194,\n",
       " 'VAR98': 1194,\n",
       " 'VAR99': 1194,\n",
       " 'VAR100': 1194,\n",
       " 'VAR101': 1194,\n",
       " 'VAR102': 1194,\n",
       " 'VAR103': 1194,\n",
       " 'VAR104': 1194,\n",
       " 'VAR105': 1194,\n",
       " 'VAR106': 1194,\n",
       " 'VAR107': 1194,\n",
       " 'VAR108': 1194,\n",
       " 'VAR109': 1194,\n",
       " 'VAR110': 1194,\n",
       " 'VAR111': 1194,\n",
       " 'VAR112': 1194,\n",
       " 'VAR113': 1194,\n",
       " 'VAR114': 1194,\n",
       " 'VAR115': 1194,\n",
       " 'VAR116': 1194,\n",
       " 'VAR117': 1194,\n",
       " 'VAR118': 1194,\n",
       " 'VAR119': 1194,\n",
       " 'VAR120': 1194,\n",
       " 'VAR121': 1194,\n",
       " 'VAR122': 1194,\n",
       " 'VAR123': 1194,\n",
       " 'VAR124': 1194,\n",
       " 'VAR125': 1194,\n",
       " 'VAR126': 1194,\n",
       " 'VAR127': 1194,\n",
       " 'VAR128': 1194,\n",
       " 'VAR129': 1194,\n",
       " 'VAR130': 1194,\n",
       " 'VAR131': 1194,\n",
       " 'VAR132': 1194,\n",
       " 'VAR133': 1194,\n",
       " 'VAR134': 1194,\n",
       " 'VAR135': 1194,\n",
       " 'VAR136': 1194,\n",
       " 'VAR137': 1194,\n",
       " 'VAR138': 1194,\n",
       " 'VAR139': 1194,\n",
       " 'VAR140': 1194,\n",
       " 'VAR141': 0,\n",
       " 'VAR142': 77,\n",
       " 'VAR143': 49105,\n",
       " 'VAR144': 49105,\n",
       " 'VAR145': 49529,\n",
       " 'VAR146': 49731,\n",
       " 'VAR147': 0,\n",
       " 'VAR148': 0,\n",
       " 'VAR149': 0,\n",
       " 'ID': 0}"
      ]
     },
     "execution_count": 14,
     "metadata": {},
     "output_type": "execute_result"
    }
   ],
   "source": [
    "df1_test.isna().sum().to_dict()"
   ]
  },
  {
   "cell_type": "code",
   "execution_count": 15,
   "id": "3361a5ce",
   "metadata": {
    "ExecuteTime": {
     "end_time": "2023-01-19T00:52:26.713938Z",
     "start_time": "2023-01-19T00:52:26.080279Z"
    },
    "hidden": true
   },
   "outputs": [
    {
     "data": {
      "text/plain": [
       "['VAR2',\n",
       " 'IDADE',\n",
       " 'VAR4',\n",
       " 'VAR5',\n",
       " 'VAR6',\n",
       " 'VAR7',\n",
       " 'VAR8',\n",
       " 'VAR9',\n",
       " 'VAR10',\n",
       " 'VAR11',\n",
       " 'VAR12',\n",
       " 'VAR13',\n",
       " 'VAR14',\n",
       " 'VAR15',\n",
       " 'VAR16',\n",
       " 'VAR17',\n",
       " 'VAR18',\n",
       " 'VAR19',\n",
       " 'VAR20',\n",
       " 'VAR21',\n",
       " 'VAR22',\n",
       " 'VAR23',\n",
       " 'VAR24',\n",
       " 'VAR25',\n",
       " 'VAR26',\n",
       " 'VAR27',\n",
       " 'VAR28',\n",
       " 'VAR29',\n",
       " 'VAR30',\n",
       " 'VAR31',\n",
       " 'VAR32',\n",
       " 'VAR33',\n",
       " 'VAR34',\n",
       " 'VAR35',\n",
       " 'VAR36',\n",
       " 'VAR37',\n",
       " 'VAR38',\n",
       " 'VAR39',\n",
       " 'VAR40',\n",
       " 'VAR41',\n",
       " 'VAR42',\n",
       " 'VAR43',\n",
       " 'VAR44',\n",
       " 'VAR45',\n",
       " 'VAR46',\n",
       " 'VAR48',\n",
       " 'VAR49',\n",
       " 'VAR50',\n",
       " 'VAR51',\n",
       " 'VAR52',\n",
       " 'VAR53',\n",
       " 'VAR54',\n",
       " 'VAR55',\n",
       " 'VAR56',\n",
       " 'VAR57',\n",
       " 'VAR58',\n",
       " 'VAR59',\n",
       " 'VAR60',\n",
       " 'VAR61',\n",
       " 'VAR62',\n",
       " 'VAR63',\n",
       " 'VAR64',\n",
       " 'VAR65',\n",
       " 'VAR66',\n",
       " 'VAR67',\n",
       " 'VAR68',\n",
       " 'VAR69',\n",
       " 'VAR70',\n",
       " 'VAR71',\n",
       " 'VAR72',\n",
       " 'VAR73',\n",
       " 'VAR74',\n",
       " 'VAR75',\n",
       " 'VAR76',\n",
       " 'VAR77',\n",
       " 'VAR78',\n",
       " 'VAR79',\n",
       " 'VAR80',\n",
       " 'VAR81',\n",
       " 'VAR82',\n",
       " 'VAR83',\n",
       " 'VAR84',\n",
       " 'VAR85',\n",
       " 'VAR86',\n",
       " 'VAR87',\n",
       " 'VAR88',\n",
       " 'VAR89',\n",
       " 'VAR90',\n",
       " 'VAR91',\n",
       " 'VAR92',\n",
       " 'VAR93',\n",
       " 'VAR94',\n",
       " 'VAR95',\n",
       " 'VAR96',\n",
       " 'VAR97',\n",
       " 'VAR98',\n",
       " 'VAR99',\n",
       " 'VAR100',\n",
       " 'VAR101',\n",
       " 'VAR102',\n",
       " 'VAR103',\n",
       " 'VAR104',\n",
       " 'VAR105',\n",
       " 'VAR106',\n",
       " 'VAR107',\n",
       " 'VAR108',\n",
       " 'VAR109',\n",
       " 'VAR110',\n",
       " 'VAR111',\n",
       " 'VAR112',\n",
       " 'VAR113',\n",
       " 'VAR114',\n",
       " 'VAR115',\n",
       " 'VAR116',\n",
       " 'VAR117',\n",
       " 'VAR118',\n",
       " 'VAR119',\n",
       " 'VAR120',\n",
       " 'VAR121',\n",
       " 'VAR122',\n",
       " 'VAR123',\n",
       " 'VAR124',\n",
       " 'VAR125',\n",
       " 'VAR126',\n",
       " 'VAR127',\n",
       " 'VAR128',\n",
       " 'VAR129',\n",
       " 'VAR130',\n",
       " 'VAR131',\n",
       " 'VAR132',\n",
       " 'VAR133',\n",
       " 'VAR134',\n",
       " 'VAR135',\n",
       " 'VAR136',\n",
       " 'VAR137',\n",
       " 'VAR138',\n",
       " 'VAR139',\n",
       " 'VAR140',\n",
       " 'VAR142',\n",
       " 'VAR143',\n",
       " 'VAR144',\n",
       " 'VAR145',\n",
       " 'VAR146']"
      ]
     },
     "execution_count": 15,
     "metadata": {},
     "output_type": "execute_result"
    }
   ],
   "source": [
    "missing_cols = df1_train.columns[df1_test.isnull().any()]\n",
    "\n",
    "missing_cols.to_list()"
   ]
  },
  {
   "cell_type": "code",
   "execution_count": 16,
   "id": "18f562f7",
   "metadata": {
    "ExecuteTime": {
     "end_time": "2023-01-19T00:52:29.466856Z",
     "start_time": "2023-01-19T00:52:28.358776Z"
    },
    "hidden": true
   },
   "outputs": [
    {
     "data": {
      "text/plain": [
       "{'REF_DATE': 0,\n",
       " 'VAR2': 5876,\n",
       " 'IDADE': 5188,\n",
       " 'VAR4': 80326,\n",
       " 'VAR5': 2559,\n",
       " 'VAR6': 2559,\n",
       " 'VAR7': 2559,\n",
       " 'VAR8': 33534,\n",
       " 'VAR9': 2521,\n",
       " 'VAR10': 2496,\n",
       " 'VAR11': 31119,\n",
       " 'VAR12': 34113,\n",
       " 'VAR13': 69820,\n",
       " 'VAR14': 17435,\n",
       " 'VAR15': 41162,\n",
       " 'VAR16': 43853,\n",
       " 'VAR17': 69820,\n",
       " 'VAR18': 17435,\n",
       " 'VAR19': 41162,\n",
       " 'VAR20': 72893,\n",
       " 'VAR21': 69788,\n",
       " 'VAR22': 41127,\n",
       " 'VAR23': 69820,\n",
       " 'VAR24': 15944,\n",
       " 'VAR25': 41162,\n",
       " 'VAR26': 79425,\n",
       " 'VAR27': 79297,\n",
       " 'VAR28': 69807,\n",
       " 'VAR29': 60806,\n",
       " 'VAR30': 69807,\n",
       " 'VAR31': 78098,\n",
       " 'VAR32': 53208,\n",
       " 'VAR33': 74689,\n",
       " 'VAR34': 74689,\n",
       " 'VAR35': 61404,\n",
       " 'VAR36': 62124,\n",
       " 'VAR37': 62124,\n",
       " 'VAR38': 79983,\n",
       " 'VAR39': 71,\n",
       " 'VAR40': 2505,\n",
       " 'VAR41': 2296,\n",
       " 'VAR42': 5180,\n",
       " 'VAR43': 80195,\n",
       " 'VAR44': 80195,\n",
       " 'VAR45': 80317,\n",
       " 'VAR46': 80317,\n",
       " 'VAR47': 0,\n",
       " 'VAR48': 74911,\n",
       " 'VAR49': 5198,\n",
       " 'VAR50': 5198,\n",
       " 'VAR51': 5198,\n",
       " 'VAR52': 5198,\n",
       " 'VAR53': 5198,\n",
       " 'VAR54': 5198,\n",
       " 'VAR55': 5198,\n",
       " 'VAR56': 5198,\n",
       " 'VAR57': 5198,\n",
       " 'VAR58': 5198,\n",
       " 'VAR59': 5198,\n",
       " 'VAR60': 5198,\n",
       " 'VAR61': 5198,\n",
       " 'VAR62': 5198,\n",
       " 'VAR63': 5198,\n",
       " 'VAR64': 5198,\n",
       " 'VAR65': 5198,\n",
       " 'VAR66': 2296,\n",
       " 'VAR67': 2296,\n",
       " 'VAR68': 2296,\n",
       " 'VAR69': 2296,\n",
       " 'VAR70': 2296,\n",
       " 'VAR71': 2296,\n",
       " 'VAR72': 2296,\n",
       " 'VAR73': 2296,\n",
       " 'VAR74': 2296,\n",
       " 'VAR75': 2296,\n",
       " 'VAR76': 2296,\n",
       " 'VAR77': 2296,\n",
       " 'VAR78': 2296,\n",
       " 'VAR79': 2296,\n",
       " 'VAR80': 2296,\n",
       " 'VAR81': 2296,\n",
       " 'VAR82': 2296,\n",
       " 'VAR83': 2296,\n",
       " 'VAR84': 2296,\n",
       " 'VAR85': 2296,\n",
       " 'VAR86': 2296,\n",
       " 'VAR87': 2296,\n",
       " 'VAR88': 2296,\n",
       " 'VAR89': 2296,\n",
       " 'VAR90': 2296,\n",
       " 'VAR91': 2296,\n",
       " 'VAR92': 2296,\n",
       " 'VAR93': 2296,\n",
       " 'VAR94': 2296,\n",
       " 'VAR95': 2296,\n",
       " 'VAR96': 2296,\n",
       " 'VAR97': 2296,\n",
       " 'VAR98': 2296,\n",
       " 'VAR99': 2296,\n",
       " 'VAR100': 2296,\n",
       " 'VAR101': 2296,\n",
       " 'VAR102': 2296,\n",
       " 'VAR103': 2296,\n",
       " 'VAR104': 2296,\n",
       " 'VAR105': 2296,\n",
       " 'VAR106': 2296,\n",
       " 'VAR107': 2296,\n",
       " 'VAR108': 2296,\n",
       " 'VAR109': 2296,\n",
       " 'VAR110': 2296,\n",
       " 'VAR111': 2296,\n",
       " 'VAR112': 2296,\n",
       " 'VAR113': 2296,\n",
       " 'VAR114': 2296,\n",
       " 'VAR115': 2296,\n",
       " 'VAR116': 2296,\n",
       " 'VAR117': 2296,\n",
       " 'VAR118': 2296,\n",
       " 'VAR119': 2296,\n",
       " 'VAR120': 2296,\n",
       " 'VAR121': 2296,\n",
       " 'VAR122': 2296,\n",
       " 'VAR123': 2296,\n",
       " 'VAR124': 2296,\n",
       " 'VAR125': 2296,\n",
       " 'VAR126': 2296,\n",
       " 'VAR127': 2296,\n",
       " 'VAR128': 2296,\n",
       " 'VAR129': 2296,\n",
       " 'VAR130': 2296,\n",
       " 'VAR131': 2296,\n",
       " 'VAR132': 2296,\n",
       " 'VAR133': 2296,\n",
       " 'VAR134': 2296,\n",
       " 'VAR135': 2296,\n",
       " 'VAR136': 2296,\n",
       " 'VAR137': 2296,\n",
       " 'VAR138': 2296,\n",
       " 'VAR139': 2296,\n",
       " 'VAR140': 2296,\n",
       " 'VAR141': 0,\n",
       " 'VAR142': 90,\n",
       " 'VAR143': 79567,\n",
       " 'VAR144': 79567,\n",
       " 'VAR145': 80107,\n",
       " 'VAR146': 80358,\n",
       " 'VAR147': 0,\n",
       " 'VAR148': 0,\n",
       " 'VAR149': 0,\n",
       " 'ID': 0}"
      ]
     },
     "execution_count": 16,
     "metadata": {},
     "output_type": "execute_result"
    }
   ],
   "source": [
    "df1_oot.isna().sum().to_dict()"
   ]
  },
  {
   "cell_type": "markdown",
   "id": "3d2f070c",
   "metadata": {
    "heading_collapsed": true,
    "hidden": true
   },
   "source": [
    "## Fillout NAN "
   ]
  },
  {
   "cell_type": "markdown",
   "id": "da218c36",
   "metadata": {
    "hidden": true
   },
   "source": [
    "- Até aqui vimos que temos diversos casos com valores faltantes, então vamos ter que adotar uma estratégia para conseguir digerir a informação dessas colunas \n",
    "    \n",
    "    \n",
    "- A estratégia vai ser excluir as colunas que tem mais de 20% das linhas como NaN, escolhi esse numero pois na literatura é bem usado \n",
    "    - Acaba que nesse processo perdi algumas colunas que eu tinha a semântica clara, como a da informação do partido, mas deixar elas é perigoso pois preenchendo os muitos dados vazios que tem pode ser que o modelo na realidade aprenda errado\n",
    "\n",
    "\n",
    "- Vou olhar só para essa relação no dataset de treino, pois não faz sentido analisar para os outros(oot, test) se o modelo não tem dados suficientes para treinar com o conjunto de treino "
   ]
  },
  {
   "cell_type": "code",
   "execution_count": 17,
   "id": "5112769f",
   "metadata": {
    "ExecuteTime": {
     "end_time": "2023-01-19T00:54:37.779076Z",
     "start_time": "2023-01-19T00:54:36.400929Z"
    },
    "hidden": true
   },
   "outputs": [],
   "source": [
    "cols_to_drop = []\n",
    "\n",
    "dict_analysis = df1_train.isna().sum().to_dict()\n",
    "\n",
    "for col_name, qnt_nan in dict_analysis.items():\n",
    "    if qnt_nan > (df1_train.shape[0]*0.2):\n",
    "        cols_to_drop.append(col_name)\n",
    "    "
   ]
  },
  {
   "cell_type": "code",
   "execution_count": 18,
   "id": "7d9db04c",
   "metadata": {
    "ExecuteTime": {
     "end_time": "2023-01-19T00:54:37.787395Z",
     "start_time": "2023-01-19T00:54:37.781774Z"
    },
    "hidden": true
   },
   "outputs": [
    {
     "data": {
      "text/plain": [
       "['VAR4',\n",
       " 'VAR8',\n",
       " 'VAR11',\n",
       " 'VAR12',\n",
       " 'VAR13',\n",
       " 'VAR14',\n",
       " 'VAR15',\n",
       " 'VAR16',\n",
       " 'VAR17',\n",
       " 'VAR18',\n",
       " 'VAR19',\n",
       " 'VAR20',\n",
       " 'VAR21',\n",
       " 'VAR22',\n",
       " 'VAR23',\n",
       " 'VAR25',\n",
       " 'VAR26',\n",
       " 'VAR27',\n",
       " 'VAR28',\n",
       " 'VAR29',\n",
       " 'VAR30',\n",
       " 'VAR31',\n",
       " 'VAR32',\n",
       " 'VAR33',\n",
       " 'VAR34',\n",
       " 'VAR35',\n",
       " 'VAR36',\n",
       " 'VAR37',\n",
       " 'VAR38',\n",
       " 'VAR43',\n",
       " 'VAR44',\n",
       " 'VAR45',\n",
       " 'VAR46',\n",
       " 'VAR48',\n",
       " 'VAR143',\n",
       " 'VAR144',\n",
       " 'VAR145',\n",
       " 'VAR146']"
      ]
     },
     "execution_count": 18,
     "metadata": {},
     "output_type": "execute_result"
    }
   ],
   "source": [
    "cols_to_drop"
   ]
  },
  {
   "cell_type": "code",
   "execution_count": 19,
   "id": "abbde773",
   "metadata": {
    "ExecuteTime": {
     "end_time": "2023-01-19T00:54:42.732277Z",
     "start_time": "2023-01-19T00:54:42.507547Z"
    },
    "hidden": true
   },
   "outputs": [],
   "source": [
    "df1_train.drop(columns=cols_to_drop, inplace=True, axis=1)\n",
    "df1_test.drop(columns =cols_to_drop, inplace=True, axis=1)\n",
    "df1_oot.drop(columns  =cols_to_drop, inplace=True, axis=1)"
   ]
  },
  {
   "cell_type": "code",
   "execution_count": 20,
   "id": "68d13b11",
   "metadata": {
    "ExecuteTime": {
     "end_time": "2023-01-19T00:54:43.967808Z",
     "start_time": "2023-01-19T00:54:43.963090Z"
    },
    "hidden": true
   },
   "outputs": [
    {
     "name": "stdout",
     "output_type": "stream",
     "text": [
      "number of columns of test dataset: 113\n"
     ]
    }
   ],
   "source": [
    "print( 'number of columns of test dataset: {}'.format( df1_train.shape[1] ) )"
   ]
  },
  {
   "cell_type": "markdown",
   "id": "2b21811b",
   "metadata": {
    "hidden": true
   },
   "source": [
    "- Agora reduzimos as colunas que temos para trabalhar de 150 para 112(uma é a 'TARGET')\n",
    "\n",
    "\n",
    "- Vamos agora prencher as linhas faltantes com o metodo de ffill, mas antes precisamos ver quais ainda estão com dados faltantes\n",
    "    - Esse metodo de preenchimento de valores de dados faltantes repete o valor imediantamente posterior a ele naquela coluna "
   ]
  },
  {
   "cell_type": "code",
   "execution_count": 21,
   "id": "f930fff4",
   "metadata": {
    "ExecuteTime": {
     "end_time": "2023-01-19T00:54:50.269990Z",
     "start_time": "2023-01-19T00:54:47.315369Z"
    },
    "hidden": true
   },
   "outputs": [],
   "source": [
    "df1_train.fillna(method='ffill', inplace=True)\n",
    "df1_test.fillna(method='ffill', inplace=True)\n",
    "df1_oot.fillna(method='ffill', inplace=True)"
   ]
  },
  {
   "cell_type": "markdown",
   "id": "b1449edf",
   "metadata": {
    "heading_collapsed": true,
    "hidden": true
   },
   "source": [
    "## Rename Columns"
   ]
  },
  {
   "cell_type": "markdown",
   "id": "dd60dba9",
   "metadata": {
    "hidden": true
   },
   "source": [
    "- Inicialmente, vamos analisar coluna por coluna para ver se identificamos um padrão que possa ser importante para nós na hora de fazermos o encoding \n",
    "    - O ordinal encoding, por exemplo, vai funcionar muito bem com as colunas que tiverem com o conjunto de valores possiveis iguais a ['ALTISSIMA', 'BAIXISSIMA', 'ALTA'], pois vai manter a relação altissima>alta>baixissima (assim como as colunas que temos ['MEDIO' 'LONGE' 'PROXIMO' 'MUITO LONGE' 'MUITO PROXIMO'] )\n",
    "    - O label encoding é ideal para usarmos nas colunas que tem o conjunto de valores ['S','N'].\n",
    "\n",
    "\n",
    "- Isso vai ajudar bastante pois não precisamos saber o que a coluna significa. O papel do cientista de dados é treinar o modelo da melhor forma viável, com os dados que tem no momento(se forem suficientes, claro).\n",
    "\n",
    "\n",
    "- Esse processo inteiro não vou deixar documentado aqui para não ficarmos com diversos snippets que poluirão a visualização do notebook\n",
    "\n",
    "\n",
    "- Depois vou renomeando as que conseguir identificar \n"
   ]
  },
  {
   "cell_type": "code",
   "execution_count": 22,
   "id": "6e76989f",
   "metadata": {
    "ExecuteTime": {
     "end_time": "2023-01-19T00:55:22.214727Z",
     "start_time": "2023-01-19T00:55:22.195933Z"
    },
    "hidden": true
   },
   "outputs": [
    {
     "name": "stdout",
     "output_type": "stream",
     "text": [
      "['F' 'M' 'I']\n",
      "\n",
      "\n",
      "0         F\n",
      "1         F\n",
      "2         F\n",
      "3         F\n",
      "4         M\n",
      "         ..\n",
      "101123    M\n",
      "101124    F\n",
      "101125    F\n",
      "101126    F\n",
      "101127    F\n",
      "Name: VAR2, Length: 101128, dtype: object\n",
      "\n",
      "\n",
      "['IDADE', 'VAR6', 'VAR7', 'VAR11', 'VAR12', 'VAR13', 'VAR14', 'VAR15', 'VAR16', 'VAR17', 'VAR18', 'VAR19', 'VAR20', 'VAR21', 'VAR22', 'VAR23', 'VAR24', 'VAR25', 'VAR26', 'VAR27', 'VAR28', 'VAR29', 'VAR30', 'VAR37', 'VAR39', 'VAR40', 'VAR41', 'VAR42', 'VAR44', 'VAR46', 'VAR47', 'VAR141', 'VAR145', 'VAR146', 'TARGET', 'VAR147', 'ID']\n"
     ]
    }
   ],
   "source": [
    "analysis = df1_train.iloc[:,2]\n",
    "\n",
    "print(analysis.dropna(axis=0).unique())\n",
    "\n",
    "print(f'\\n\\n{analysis}')\n",
    "\n",
    "print(f'\\n\\n{list(float_cols)+list(int_cols)}')"
   ]
  },
  {
   "cell_type": "markdown",
   "id": "cc3ecfb7",
   "metadata": {
    "hidden": true
   },
   "source": [
    "- Renomear colunas com nomes para usar o ordinal encoding posteriormente"
   ]
  },
  {
   "cell_type": "code",
   "execution_count": 23,
   "id": "6bb09a46",
   "metadata": {
    "ExecuteTime": {
     "end_time": "2023-01-19T00:55:26.053692Z",
     "start_time": "2023-01-19T00:55:26.049678Z"
    },
    "hidden": true
   },
   "outputs": [],
   "source": [
    "append_ordinal = list(range(32,107))\n",
    "cols_enc_ordinal = [8] # ordinal encoding \n",
    "cols_enc_ordinal = cols_enc_ordinal + append_ordinal\n",
    "\n",
    "append_label = list(range(15,32))\n",
    "cols_enc_label = [2,4,7,108,110,111] # label encoding\n",
    "cols_enc_label = cols_enc_label + append_label\n",
    "\n",
    "cols_numeric = [5,6,9,10,11,12,13,14,107,109]"
   ]
  },
  {
   "cell_type": "markdown",
   "id": "4edc50cc",
   "metadata": {
    "hidden": true
   },
   "source": [
    "- Agora, renomear apenas as colunas para os nomes do encoding que vou fazer posteriormente"
   ]
  },
  {
   "cell_type": "code",
   "execution_count": 24,
   "id": "902f29c4",
   "metadata": {
    "ExecuteTime": {
     "end_time": "2023-01-19T00:56:20.078677Z",
     "start_time": "2023-01-19T00:56:20.037471Z"
    },
    "hidden": true
   },
   "outputs": [],
   "source": [
    "for passo, numero_coluna in enumerate(cols_enc_ordinal):\n",
    "    df1_train.rename(columns={df1_train.columns[numero_coluna]: f'ORDINAL{passo}'}, inplace=True)\n",
    "    \n",
    "for passo, numero_coluna in enumerate(cols_enc_label):\n",
    "    df1_train.rename(columns={df1_train.columns[numero_coluna]: f'LABEL{passo}'}, inplace=True)\n",
    "    \n",
    "for passo, numero_coluna in enumerate(cols_numeric):\n",
    "    df1_train.rename(columns={df1_train.columns[numero_coluna]: f'NUMERIC{passo}'}, inplace=True)"
   ]
  },
  {
   "cell_type": "code",
   "execution_count": 25,
   "id": "60e7943f",
   "metadata": {
    "ExecuteTime": {
     "end_time": "2023-01-19T00:56:22.463694Z",
     "start_time": "2023-01-19T00:56:22.410717Z"
    },
    "hidden": true
   },
   "outputs": [],
   "source": [
    "for passo, numero_coluna in enumerate(cols_enc_ordinal):\n",
    "    df1_test.rename(columns={df1_test.columns[numero_coluna]: f'ORDINAL{passo}'}, inplace=True)\n",
    "    \n",
    "for passo, numero_coluna in enumerate(cols_enc_label):\n",
    "    df1_test.rename(columns={df1_test.columns[numero_coluna]: f'LABEL{passo}'}, inplace=True)\n",
    "    \n",
    "for passo, numero_coluna in enumerate(cols_numeric):\n",
    "    df1_test.rename(columns={df1_test.columns[numero_coluna]: f'NUMERIC{passo}'}, inplace=True)"
   ]
  },
  {
   "cell_type": "code",
   "execution_count": 26,
   "id": "fed5b84e",
   "metadata": {
    "ExecuteTime": {
     "end_time": "2023-01-19T00:56:23.464401Z",
     "start_time": "2023-01-19T00:56:23.412151Z"
    },
    "hidden": true
   },
   "outputs": [],
   "source": [
    "for passo, numero_coluna in enumerate(cols_enc_ordinal):\n",
    "    print\n",
    "    df1_oot.rename(columns={df1_oot.columns[numero_coluna-1]: f'ORDINAL{passo}'}, inplace=True)\n",
    "    \n",
    "for passo, numero_coluna in enumerate(cols_enc_label):\n",
    "    df1_oot.rename(columns={df1_oot.columns[numero_coluna-1]: f'LABEL{passo}'}, inplace=True)\n",
    "    \n",
    "for passo, numero_coluna in enumerate(cols_numeric):\n",
    "    df1_oot.rename(columns={df1_oot.columns[numero_coluna-1]: f'NUMERIC{passo}'}, inplace=True)"
   ]
  },
  {
   "cell_type": "markdown",
   "id": "bf65ca2d",
   "metadata": {
    "hidden": true
   },
   "source": [
    "- Depois disso, vou renomear algumas colunas que consegui identificar sua clara semântica "
   ]
  },
  {
   "cell_type": "code",
   "execution_count": 27,
   "id": "85886883",
   "metadata": {
    "ExecuteTime": {
     "end_time": "2023-01-19T00:56:27.940208Z",
     "start_time": "2023-01-19T00:56:27.931642Z"
    },
    "hidden": true
   },
   "outputs": [],
   "source": [
    "df1_train.rename(columns={df1_train.columns[110]: 'SITUACAO'}, inplace=True)\n",
    "df1_train.rename(columns={df1_train.columns[111]: 'VERSAO'}, inplace=True)\n",
    "df1_train.rename(columns={df1_train.columns[4]: 'ESTADO'}, inplace=True)\n",
    "df1_train.rename(columns={df1_train.columns[2]: 'SEXO'}, inplace=True)"
   ]
  },
  {
   "cell_type": "code",
   "execution_count": 28,
   "id": "6c99d1b6",
   "metadata": {
    "ExecuteTime": {
     "end_time": "2023-01-19T00:56:28.842906Z",
     "start_time": "2023-01-19T00:56:28.836195Z"
    },
    "hidden": true
   },
   "outputs": [],
   "source": [
    "df1_test.rename(columns={df1_test.columns[110]: 'SITUACAO'}, inplace=True)\n",
    "df1_test.rename(columns={df1_test.columns[111]: 'VERSAO'}, inplace=True)\n",
    "df1_test.rename(columns={df1_test.columns[4]: 'ESTADO'}, inplace=True)\n",
    "df1_test.rename(columns={df1_test.columns[2]: 'SEXO'}, inplace=True)"
   ]
  },
  {
   "cell_type": "code",
   "execution_count": 29,
   "id": "4f31621d",
   "metadata": {
    "ExecuteTime": {
     "end_time": "2023-01-19T00:56:29.626428Z",
     "start_time": "2023-01-19T00:56:29.619548Z"
    },
    "hidden": true
   },
   "outputs": [],
   "source": [
    "df1_oot.rename(columns={df1_oot.columns[109]: 'SITUACAO'}, inplace=True)\n",
    "df1_oot.rename(columns={df1_oot.columns[110]: 'VERSAO'}, inplace=True)\n",
    "df1_oot.rename(columns={df1_oot.columns[3]: 'ESTADO'}, inplace=True)\n",
    "df1_oot.rename(columns={df1_oot.columns[1]: 'SEXO'}, inplace=True)"
   ]
  },
  {
   "cell_type": "markdown",
   "id": "e5738fdc",
   "metadata": {
    "heading_collapsed": true,
    "hidden": true
   },
   "source": [
    "## Change types"
   ]
  },
  {
   "cell_type": "markdown",
   "id": "f9432249",
   "metadata": {
    "hidden": true
   },
   "source": [
    "- Vejo necessidade apenas de mudar agora a coluna 'REF_DATE' pois ela ainda está como object\n",
    "\n",
    "\n",
    "- As outras eu não identifiquei nenhum tipo específico para ser mudado diante mão"
   ]
  },
  {
   "cell_type": "code",
   "execution_count": 30,
   "id": "c743a9a5",
   "metadata": {
    "ExecuteTime": {
     "end_time": "2023-01-19T00:56:44.696997Z",
     "start_time": "2023-01-19T00:56:44.670333Z"
    },
    "hidden": true
   },
   "outputs": [],
   "source": [
    "df1_train['REF_DATE'] = pd.to_datetime(df1_train['REF_DATE'], errors='coerce')"
   ]
  },
  {
   "cell_type": "code",
   "execution_count": 31,
   "id": "6ea40bc4",
   "metadata": {
    "ExecuteTime": {
     "end_time": "2023-01-19T00:56:45.466316Z",
     "start_time": "2023-01-19T00:56:45.452151Z"
    },
    "hidden": true
   },
   "outputs": [],
   "source": [
    "df1_test['REF_DATE'] = pd.to_datetime(df1_test['REF_DATE'], errors='coerce')"
   ]
  },
  {
   "cell_type": "code",
   "execution_count": 32,
   "id": "25804671",
   "metadata": {
    "ExecuteTime": {
     "end_time": "2023-01-19T00:56:46.220275Z",
     "start_time": "2023-01-19T00:56:46.208263Z"
    },
    "hidden": true
   },
   "outputs": [],
   "source": [
    "df1_oot['REF_DATE'] = pd.to_datetime(df1_oot['REF_DATE'], errors='coerce')"
   ]
  },
  {
   "cell_type": "code",
   "execution_count": 33,
   "id": "336317c7",
   "metadata": {
    "ExecuteTime": {
     "end_time": "2023-01-19T00:56:46.968147Z",
     "start_time": "2023-01-19T00:56:46.962802Z"
    },
    "hidden": true
   },
   "outputs": [
    {
     "data": {
      "text/plain": [
       "datetime64[ns, UTC]"
      ]
     },
     "execution_count": 33,
     "metadata": {},
     "output_type": "execute_result"
    }
   ],
   "source": [
    "df1_train['REF_DATE'].dtypes"
   ]
  },
  {
   "cell_type": "markdown",
   "id": "88236a13",
   "metadata": {
    "heading_collapsed": true,
    "hidden": true
   },
   "source": [
    "## Descriptive statistical"
   ]
  },
  {
   "cell_type": "markdown",
   "id": "933c923f",
   "metadata": {
    "hidden": true
   },
   "source": [
    "- Como uma primeira abordagem, vou apenas fazer uma analise do dataset de treino, se sentir a necessidade posteriormente, posso fazer dos outros dois conjunto de dados "
   ]
  },
  {
   "cell_type": "code",
   "execution_count": 34,
   "id": "b5008b53",
   "metadata": {
    "ExecuteTime": {
     "end_time": "2023-01-19T00:56:53.083621Z",
     "start_time": "2023-01-19T00:56:52.869746Z"
    },
    "hidden": true
   },
   "outputs": [],
   "source": [
    "num_attributes = df1_train.select_dtypes( include=['int64', 'float64'] )\n",
    "cat_attributes = df1_train.select_dtypes( exclude=['int64', 'float64', 'datetime64[ns]'] )"
   ]
  },
  {
   "cell_type": "markdown",
   "id": "ce691c75",
   "metadata": {
    "heading_collapsed": true,
    "hidden": true
   },
   "source": [
    "### Numerical attributes"
   ]
  },
  {
   "cell_type": "code",
   "execution_count": 35,
   "id": "6350f939",
   "metadata": {
    "ExecuteTime": {
     "end_time": "2023-01-19T00:56:55.124985Z",
     "start_time": "2023-01-19T00:56:54.691837Z"
    },
    "hidden": true
   },
   "outputs": [],
   "source": [
    "# Central Tendency -  mean, median\n",
    "ct1 = pd.DataFrame( num_attributes.apply( np.mean ) ).T\n",
    "ct2 = pd.DataFrame( num_attributes.apply( np.median ) ).T\n",
    "\n",
    "# Dispersion - std, min, max, range, skev, kurtosis\n",
    "d1 = pd.DataFrame( num_attributes.apply( np.std ) ).T # Esse T é para uma vermos melhor o dataset\n",
    "d2 = pd.DataFrame( num_attributes.apply( min ) ).T # Esse T é para uma vermos melhor o dataset\n",
    "d3 = pd.DataFrame( num_attributes.apply( max ) ).T # Esse T é para uma vermos melhor o dataset\n",
    "d4 = pd.DataFrame( num_attributes.apply( lambda x: x.max() - x.min() ) ).T # Esse T é para uma vermos melhor o dataset\n",
    "d5 = pd.DataFrame( num_attributes.apply( lambda x: x.skew() ) ).T # Esse T é para uma vermos melhor o dataset\n",
    "d6 = pd.DataFrame( num_attributes.apply( lambda x: x.kurtosis ) ).T # Esse T é para uma vermos melhor o dataset\n",
    "\n",
    "# concatenate\n",
    "dfDesc = pd.concat( [ d2, d3, d4, ct1, ct2, d1, d5, d4 ] ).T.reset_index()\n",
    "\n",
    "dfDesc.columns = ['attributes', 'min', 'max', 'range', 'mean', 'median', 'std', 'skew', 'kurtosis']"
   ]
  },
  {
   "cell_type": "code",
   "execution_count": 36,
   "id": "330335c1",
   "metadata": {
    "ExecuteTime": {
     "end_time": "2023-01-19T00:56:57.503280Z",
     "start_time": "2023-01-19T00:56:57.423172Z"
    },
    "hidden": true
   },
   "outputs": [
    {
     "data": {
      "text/html": [
       "<div>\n",
       "<style scoped>\n",
       "    .dataframe tbody tr th:only-of-type {\n",
       "        vertical-align: middle;\n",
       "    }\n",
       "\n",
       "    .dataframe tbody tr th {\n",
       "        vertical-align: top;\n",
       "    }\n",
       "\n",
       "    .dataframe thead th {\n",
       "        text-align: right;\n",
       "    }\n",
       "</style>\n",
       "<table border=\"1\" class=\"dataframe\">\n",
       "  <thead>\n",
       "    <tr style=\"text-align: right;\">\n",
       "      <th></th>\n",
       "      <th>attributes</th>\n",
       "      <th>min</th>\n",
       "      <th>max</th>\n",
       "      <th>range</th>\n",
       "      <th>mean</th>\n",
       "      <th>median</th>\n",
       "      <th>std</th>\n",
       "      <th>skew</th>\n",
       "      <th>kurtosis</th>\n",
       "    </tr>\n",
       "  </thead>\n",
       "  <tbody>\n",
       "    <tr>\n",
       "      <th>0</th>\n",
       "      <td>TARGET</td>\n",
       "      <td>0.000000</td>\n",
       "      <td>1.000000</td>\n",
       "      <td>1.000000</td>\n",
       "      <td>0.792362</td>\n",
       "      <td>1.000000</td>\n",
       "      <td>0.405616</td>\n",
       "      <td>-1.441592</td>\n",
       "      <td>1.000000</td>\n",
       "    </tr>\n",
       "    <tr>\n",
       "      <th>1</th>\n",
       "      <td>IDADE</td>\n",
       "      <td>18.014000</td>\n",
       "      <td>106.904000</td>\n",
       "      <td>88.890000</td>\n",
       "      <td>42.170736</td>\n",
       "      <td>39.890000</td>\n",
       "      <td>15.271359</td>\n",
       "      <td>0.495378</td>\n",
       "      <td>88.890000</td>\n",
       "    </tr>\n",
       "    <tr>\n",
       "      <th>2</th>\n",
       "      <td>NUMERIC0</td>\n",
       "      <td>-33.521563</td>\n",
       "      <td>4.478585</td>\n",
       "      <td>38.000148</td>\n",
       "      <td>-14.427593</td>\n",
       "      <td>-13.035421</td>\n",
       "      <td>8.991930</td>\n",
       "      <td>-0.060939</td>\n",
       "      <td>38.000148</td>\n",
       "    </tr>\n",
       "    <tr>\n",
       "      <th>3</th>\n",
       "      <td>NUMERIC1</td>\n",
       "      <td>-72.900276</td>\n",
       "      <td>-32.429516</td>\n",
       "      <td>40.470759</td>\n",
       "      <td>-45.901102</td>\n",
       "      <td>-46.576816</td>\n",
       "      <td>7.515403</td>\n",
       "      <td>-0.671684</td>\n",
       "      <td>40.470759</td>\n",
       "    </tr>\n",
       "    <tr>\n",
       "      <th>4</th>\n",
       "      <td>NUMERIC2</td>\n",
       "      <td>0.000000</td>\n",
       "      <td>1.000000</td>\n",
       "      <td>1.000000</td>\n",
       "      <td>0.080188</td>\n",
       "      <td>0.034000</td>\n",
       "      <td>0.138874</td>\n",
       "      <td>3.668971</td>\n",
       "      <td>1.000000</td>\n",
       "    </tr>\n",
       "    <tr>\n",
       "      <th>5</th>\n",
       "      <td>NUMERIC3</td>\n",
       "      <td>0.049309</td>\n",
       "      <td>0.970921</td>\n",
       "      <td>0.921612</td>\n",
       "      <td>0.461239</td>\n",
       "      <td>0.462267</td>\n",
       "      <td>0.144179</td>\n",
       "      <td>-0.087250</td>\n",
       "      <td>0.921612</td>\n",
       "    </tr>\n",
       "    <tr>\n",
       "      <th>6</th>\n",
       "      <td>NUMERIC4</td>\n",
       "      <td>0.208688</td>\n",
       "      <td>0.920685</td>\n",
       "      <td>0.711997</td>\n",
       "      <td>0.531783</td>\n",
       "      <td>0.510313</td>\n",
       "      <td>0.115869</td>\n",
       "      <td>1.047010</td>\n",
       "      <td>0.711997</td>\n",
       "    </tr>\n",
       "    <tr>\n",
       "      <th>7</th>\n",
       "      <td>NUMERIC5</td>\n",
       "      <td>0.000000</td>\n",
       "      <td>1.000000</td>\n",
       "      <td>1.000000</td>\n",
       "      <td>0.631528</td>\n",
       "      <td>0.542108</td>\n",
       "      <td>0.222548</td>\n",
       "      <td>0.354275</td>\n",
       "      <td>1.000000</td>\n",
       "    </tr>\n",
       "    <tr>\n",
       "      <th>8</th>\n",
       "      <td>NUMERIC6</td>\n",
       "      <td>0.012339</td>\n",
       "      <td>0.910865</td>\n",
       "      <td>0.898526</td>\n",
       "      <td>0.504661</td>\n",
       "      <td>0.496036</td>\n",
       "      <td>0.069690</td>\n",
       "      <td>0.973144</td>\n",
       "      <td>0.898526</td>\n",
       "    </tr>\n",
       "    <tr>\n",
       "      <th>9</th>\n",
       "      <td>NUMERIC7</td>\n",
       "      <td>0.000000</td>\n",
       "      <td>1.000000</td>\n",
       "      <td>1.000000</td>\n",
       "      <td>0.256144</td>\n",
       "      <td>0.003000</td>\n",
       "      <td>0.406335</td>\n",
       "      <td>1.167098</td>\n",
       "      <td>1.000000</td>\n",
       "    </tr>\n",
       "    <tr>\n",
       "      <th>10</th>\n",
       "      <td>NUMERIC8</td>\n",
       "      <td>0.000000</td>\n",
       "      <td>46685.420000</td>\n",
       "      <td>46685.420000</td>\n",
       "      <td>1854.443649</td>\n",
       "      <td>1627.157652</td>\n",
       "      <td>922.605381</td>\n",
       "      <td>10.563762</td>\n",
       "      <td>46685.420000</td>\n",
       "    </tr>\n",
       "    <tr>\n",
       "      <th>11</th>\n",
       "      <td>NUMERIC9</td>\n",
       "      <td>100.000000</td>\n",
       "      <td>102.000000</td>\n",
       "      <td>2.000000</td>\n",
       "      <td>101.842121</td>\n",
       "      <td>102.000000</td>\n",
       "      <td>0.539289</td>\n",
       "      <td>-3.123126</td>\n",
       "      <td>2.000000</td>\n",
       "    </tr>\n",
       "    <tr>\n",
       "      <th>12</th>\n",
       "      <td>ID</td>\n",
       "      <td>1.000000</td>\n",
       "      <td>330581.000000</td>\n",
       "      <td>330580.000000</td>\n",
       "      <td>165307.238450</td>\n",
       "      <td>165196.000000</td>\n",
       "      <td>95357.215081</td>\n",
       "      <td>0.000753</td>\n",
       "      <td>330580.000000</td>\n",
       "    </tr>\n",
       "  </tbody>\n",
       "</table>\n",
       "</div>"
      ],
      "text/plain": [
       "   attributes         min            max          range           mean  \\\n",
       "0      TARGET    0.000000       1.000000       1.000000       0.792362   \n",
       "1       IDADE   18.014000     106.904000      88.890000      42.170736   \n",
       "2    NUMERIC0  -33.521563       4.478585      38.000148     -14.427593   \n",
       "3    NUMERIC1  -72.900276     -32.429516      40.470759     -45.901102   \n",
       "4    NUMERIC2    0.000000       1.000000       1.000000       0.080188   \n",
       "5    NUMERIC3    0.049309       0.970921       0.921612       0.461239   \n",
       "6    NUMERIC4    0.208688       0.920685       0.711997       0.531783   \n",
       "7    NUMERIC5    0.000000       1.000000       1.000000       0.631528   \n",
       "8    NUMERIC6    0.012339       0.910865       0.898526       0.504661   \n",
       "9    NUMERIC7    0.000000       1.000000       1.000000       0.256144   \n",
       "10   NUMERIC8    0.000000   46685.420000   46685.420000    1854.443649   \n",
       "11   NUMERIC9  100.000000     102.000000       2.000000     101.842121   \n",
       "12         ID    1.000000  330581.000000  330580.000000  165307.238450   \n",
       "\n",
       "           median           std       skew       kurtosis  \n",
       "0        1.000000      0.405616  -1.441592       1.000000  \n",
       "1       39.890000     15.271359   0.495378      88.890000  \n",
       "2      -13.035421      8.991930  -0.060939      38.000148  \n",
       "3      -46.576816      7.515403  -0.671684      40.470759  \n",
       "4        0.034000      0.138874   3.668971       1.000000  \n",
       "5        0.462267      0.144179  -0.087250       0.921612  \n",
       "6        0.510313      0.115869   1.047010       0.711997  \n",
       "7        0.542108      0.222548   0.354275       1.000000  \n",
       "8        0.496036      0.069690   0.973144       0.898526  \n",
       "9        0.003000      0.406335   1.167098       1.000000  \n",
       "10    1627.157652    922.605381  10.563762   46685.420000  \n",
       "11     102.000000      0.539289  -3.123126       2.000000  \n",
       "12  165196.000000  95357.215081   0.000753  330580.000000  "
      ]
     },
     "execution_count": 36,
     "metadata": {},
     "output_type": "execute_result"
    }
   ],
   "source": [
    "dfDesc"
   ]
  },
  {
   "cell_type": "markdown",
   "id": "f5c66d52",
   "metadata": {
    "hidden": true
   },
   "source": [
    "- Percebemos algumas coisas que pontuo interessante nessa analise do conjunto de treino\n",
    "    - Temos muito mais bons pagadores do que mal pagadores\n",
    "    - Geralmente as pessoas que requerem credito tem em torno de 40 anos\n",
    "    - Provavelmente a NUMERIC8 é uma variável relacionado com alguma metrica de valor monetário"
   ]
  },
  {
   "cell_type": "code",
   "execution_count": 37,
   "id": "059d3661",
   "metadata": {
    "ExecuteTime": {
     "end_time": "2023-01-19T00:57:01.148971Z",
     "start_time": "2023-01-19T00:57:00.605282Z"
    },
    "hidden": true
   },
   "outputs": [
    {
     "data": {
      "text/plain": [
       "<seaborn.axisgrid.FacetGrid at 0x7f44004cb7f0>"
      ]
     },
     "execution_count": 37,
     "metadata": {},
     "output_type": "execute_result"
    },
    {
     "data": {
      "image/png": "[encoded data removed]",
      "text/plain": [
       "<Figure size 360x360 with 1 Axes>"
      ]
     },
     "metadata": {
      "needs_background": "light"
     },
     "output_type": "display_data"
    }
   ],
   "source": [
    "sns.displot( df1_train['TARGET'] )"
   ]
  },
  {
   "cell_type": "code",
   "execution_count": 38,
   "id": "77e96d97",
   "metadata": {
    "ExecuteTime": {
     "end_time": "2023-01-19T00:57:01.895187Z",
     "start_time": "2023-01-19T00:57:01.593883Z"
    },
    "hidden": true
   },
   "outputs": [
    {
     "data": {
      "text/plain": [
       "<seaborn.axisgrid.FacetGrid at 0x7f43fe38b610>"
      ]
     },
     "execution_count": 38,
     "metadata": {},
     "output_type": "execute_result"
    },
    {
     "data": {
      "image/png": "[encoded data removed]",
      "text/plain": [
       "<Figure size 360x360 with 1 Axes>"
      ]
     },
     "metadata": {
      "needs_background": "light"
     },
     "output_type": "display_data"
    }
   ],
   "source": [
    "sns.displot( df1_test['TARGET'] )"
   ]
  },
  {
   "cell_type": "markdown",
   "id": "f8421c53",
   "metadata": {
    "hidden": true
   },
   "source": [
    "- Nesses graficos vemos que realmente temos muito mais bons pagadores do que mal pagadores no treino e no teste\n",
    " \n",
    " \n",
    "- Isso é um bom sinal, pois em outros casos temos uma diferença muito gritante, isso força a aplicação de tecnicas de redistribuição do dataset"
   ]
  },
  {
   "cell_type": "markdown",
   "id": "0d576287",
   "metadata": {
    "heading_collapsed": true,
    "hidden": true
   },
   "source": [
    "### Categorical attributes"
   ]
  },
  {
   "cell_type": "code",
   "execution_count": 39,
   "id": "4e5759e7",
   "metadata": {
    "ExecuteTime": {
     "end_time": "2023-01-19T00:57:17.167434Z",
     "start_time": "2023-01-19T00:57:17.163475Z"
    },
    "hidden": true
   },
   "outputs": [],
   "source": [
    "cat_attributes['TARGET'] = num_attributes['TARGET']"
   ]
  },
  {
   "cell_type": "markdown",
   "id": "07c64b42",
   "metadata": {
    "hidden": true
   },
   "source": [
    "- Nas variáveis categóricas vejo importante vermos as distribuições de cada uma das que conseguimos saber a semântica clara da variável(i.e ESTADO, SITUACAO, SEXO)"
   ]
  },
  {
   "cell_type": "code",
   "execution_count": 40,
   "id": "e7a4ac40",
   "metadata": {
    "ExecuteTime": {
     "end_time": "2023-01-19T00:57:28.753403Z",
     "start_time": "2023-01-19T00:57:28.221549Z"
    },
    "hidden": true
   },
   "outputs": [
    {
     "data": {
      "text/plain": [
       "<AxesSubplot: xlabel='ESTADO', ylabel='TARGET'>"
      ]
     },
     "execution_count": 40,
     "metadata": {},
     "output_type": "execute_result"
    },
    {
     "data": {
      "image/png": "[encoded data removed]",
      "text/plain": [
       "<Figure size 720x720 with 1 Axes>"
      ]
     },
     "metadata": {},
     "output_type": "display_data"
    }
   ],
   "source": [
    "sns.set(rc={'figure.figsize':(10,10)})\n",
    "sns.histplot( x='ESTADO' , y='TARGET' , data=cat_attributes )\n"
   ]
  },
  {
   "cell_type": "markdown",
   "id": "17eb7bfc",
   "metadata": {
    "hidden": true
   },
   "source": [
    "- Com esse gráfico podemos perceber que SP é o estado que temos mais exemplos no nosso dataset, e lá, aparentemente tem a maior relação de bons pagadores/mal pagadores"
   ]
  },
  {
   "cell_type": "code",
   "execution_count": 41,
   "id": "e4ac7b00",
   "metadata": {
    "ExecuteTime": {
     "end_time": "2023-01-19T00:57:59.130988Z",
     "start_time": "2023-01-19T00:57:58.207226Z"
    },
    "hidden": true
   },
   "outputs": [
    {
     "data": {
      "text/plain": [
       "<AxesSubplot: xlabel='SITUACAO', ylabel='TARGET'>"
      ]
     },
     "execution_count": 41,
     "metadata": {},
     "output_type": "execute_result"
    },
    {
     "data": {
      "image/png": "[encoded data removed]",
      "text/plain": [
       "<Figure size 5040x5040 with 1 Axes>"
      ]
     },
     "metadata": {},
     "output_type": "display_data"
    }
   ],
   "source": [
    "sns.set(rc={'figure.figsize':(70,70)})\n",
    "sns.histplot( x='SITUACAO' , y='TARGET' , data=cat_attributes )"
   ]
  },
  {
   "cell_type": "markdown",
   "id": "40790d74",
   "metadata": {
    "hidden": true
   },
   "source": [
    "- Se quiser abrir essa imagem com mais definição é só baixar ou abrir em outra guia\n",
    "\n",
    "\n",
    "- Com esse gráfico percebemos que as situações mais comuns, tanto para bons ou mal pagadores é a de Email inexistente e a categoria de EMAIL INEXISTENTE#@#NOME INEXISTENTE#@#CEP INEXISTENTE. \n",
    "\n",
    "\n",
    "- Isso pode ser interessante para nós quando estivermos levantando hipóteses sobre o funcionamento da fenômeno e também quando estivermos fazendo a correlação financeira ao final do projeto"
   ]
  },
  {
   "cell_type": "code",
   "execution_count": 42,
   "id": "b9aa6716",
   "metadata": {
    "ExecuteTime": {
     "end_time": "2023-01-19T00:58:13.288196Z",
     "start_time": "2023-01-19T00:58:13.013231Z"
    },
    "hidden": true
   },
   "outputs": [
    {
     "data": {
      "text/plain": [
       "<AxesSubplot: xlabel='SEXO', ylabel='TARGET'>"
      ]
     },
     "execution_count": 42,
     "metadata": {},
     "output_type": "execute_result"
    },
    {
     "data": {
      "image/png": "[encoded data removed]",
      "text/plain": [
       "<Figure size 720x720 with 1 Axes>"
      ]
     },
     "metadata": {},
     "output_type": "display_data"
    }
   ],
   "source": [
    "sns.set(rc={'figure.figsize':(10,10)})\n",
    "sns.histplot( x='SEXO' , y='TARGET' , data=cat_attributes )"
   ]
  },
  {
   "cell_type": "code",
   "execution_count": 43,
   "id": "3ef086f2",
   "metadata": {
    "ExecuteTime": {
     "end_time": "2023-01-19T00:58:15.505249Z",
     "start_time": "2023-01-19T00:58:15.311560Z"
    },
    "hidden": true
   },
   "outputs": [
    {
     "data": {
      "text/plain": [
       "43970"
      ]
     },
     "execution_count": 43,
     "metadata": {},
     "output_type": "execute_result"
    }
   ],
   "source": [
    "df1_train[df1_train['SEXO'] == 'M'].shape[0]"
   ]
  },
  {
   "cell_type": "code",
   "execution_count": 44,
   "id": "12ac2f28",
   "metadata": {
    "ExecuteTime": {
     "end_time": "2023-01-19T00:58:17.050390Z",
     "start_time": "2023-01-19T00:58:16.964416Z"
    },
    "hidden": true
   },
   "outputs": [
    {
     "data": {
      "text/plain": [
       "57157"
      ]
     },
     "execution_count": 44,
     "metadata": {},
     "output_type": "execute_result"
    }
   ],
   "source": [
    "df1_train[df1_train['SEXO'] == 'F'].shape[0]"
   ]
  },
  {
   "cell_type": "markdown",
   "id": "81685b00",
   "metadata": {
    "hidden": true
   },
   "source": [
    "- Percebemos a partir desse histograma e vendo quantas mulheres e homens existem no conjunto de treino, temos que as mulheres são mais boas pagadoras do que homens.\n",
    "\n",
    "\n",
    "- Podemos refutar essa hipotese mais a frente na EDA"
   ]
  },
  {
   "cell_type": "markdown",
   "id": "c272f5c7",
   "metadata": {
    "heading_collapsed": true
   },
   "source": [
    "# Feature engineering"
   ]
  },
  {
   "cell_type": "code",
   "execution_count": 45,
   "id": "2775de00",
   "metadata": {
    "ExecuteTime": {
     "end_time": "2023-01-19T00:58:31.794677Z",
     "start_time": "2023-01-19T00:58:31.490910Z"
    },
    "hidden": true
   },
   "outputs": [],
   "source": [
    "df2_oot   = df1_oot.copy()\n",
    "df2_train = df1_train.copy()\n",
    "df2_test  = df1_test.copy()"
   ]
  },
  {
   "cell_type": "markdown",
   "id": "13ac5053",
   "metadata": {
    "heading_collapsed": true,
    "hidden": true
   },
   "source": [
    "## Hypotheses mind map"
   ]
  },
  {
   "cell_type": "code",
   "execution_count": 46,
   "id": "98de328c",
   "metadata": {
    "ExecuteTime": {
     "end_time": "2023-01-19T00:58:34.129536Z",
     "start_time": "2023-01-19T00:58:34.109843Z"
    },
    "hidden": true
   },
   "outputs": [
    {
     "data": {
      "image/png": "[encoded data removed]",
      "text/plain": [
       "<IPython.core.display.Image object>"
      ]
     },
     "execution_count": 46,
     "metadata": {},
     "output_type": "execute_result"
    }
   ],
   "source": [
    "Image( '/home/eduardo/Desktop/DS/granting-of-credit/images/Modelagem_de_risco_em_credito.png' )"
   ]
  },
  {
   "cell_type": "markdown",
   "id": "b0748dcc",
   "metadata": {
    "heading_collapsed": true,
    "hidden": true
   },
   "source": [
    "## List of hypotheses based on categorical variables"
   ]
  },
  {
   "cell_type": "markdown",
   "id": "38a8bad7",
   "metadata": {
    "hidden": true
   },
   "source": [
    "- 1.0 Mulheres são mais boas pagadoras do que homens?\n",
    "- 2.0 Pessoas mais jovens são mais mal pagadoras?\n",
    "- 3.0 Tem algum estado que as pessoas pagam muito mais mal que nos outros?\n",
    "- 4.0 Qual situação é mais encontrada quando falamos de mal pagadores?\n",
    "- 5.0 Existe alguma relação clara entre o dia da semana com pessoas mal pagadoras?"
   ]
  },
  {
   "cell_type": "markdown",
   "id": "ac885728",
   "metadata": {
    "heading_collapsed": true,
    "hidden": true
   },
   "source": [
    "## Feature engineering"
   ]
  },
  {
   "cell_type": "markdown",
   "id": "df3d97a0",
   "metadata": {
    "hidden": true
   },
   "source": [
    "- Aqui vou criar uma colunas para podermos avaliar por dia o histórico de emprestimo de crédito\n",
    "    - Não quero me criar uma avaliação por mês pois no conjunto de dados out of time não temos o smesmos meses que aqui, pois são de setembro a novembro de 2017\n",
    "\n",
    "\n",
    "- Julgo que essa coluna a mais é necessária para podermos fazer o modelo aprender melhor se tiver alguma relação de dia com a quantidade de pessoas mal pagadoras.\n",
    "\n",
    "- Além disso, vou transformar a idade para int, pois agora está como float"
   ]
  },
  {
   "cell_type": "code",
   "execution_count": 47,
   "id": "ea87f191",
   "metadata": {
    "ExecuteTime": {
     "end_time": "2023-01-19T00:58:48.446175Z",
     "start_time": "2023-01-19T00:58:48.430108Z"
    },
    "hidden": true
   },
   "outputs": [],
   "source": [
    "# day\n",
    "df2_train['DAY'] = df2_train['REF_DATE'].dt.dayofweek\n",
    "# idade\n",
    "df2_train['IDADE'] = df2_train['IDADE'].astype('int64')"
   ]
  },
  {
   "cell_type": "code",
   "execution_count": 48,
   "id": "be3940fb",
   "metadata": {
    "ExecuteTime": {
     "end_time": "2023-01-19T00:58:49.165376Z",
     "start_time": "2023-01-19T00:58:49.149012Z"
    },
    "hidden": true
   },
   "outputs": [],
   "source": [
    "# day\n",
    "df2_test['DAY'] = df2_test['REF_DATE'].dt.dayofweek\n",
    "# idade\n",
    "df2_test['IDADE'] = df2_test['IDADE'].astype('int64')"
   ]
  },
  {
   "cell_type": "code",
   "execution_count": 49,
   "id": "43086028",
   "metadata": {
    "ExecuteTime": {
     "end_time": "2023-01-19T00:58:49.868180Z",
     "start_time": "2023-01-19T00:58:49.853497Z"
    },
    "hidden": true
   },
   "outputs": [],
   "source": [
    "# day\n",
    "df2_oot['DAY'] = df2_oot['REF_DATE'].dt.dayofweek\n",
    "# idade\n",
    "df2_oot['IDADE'] = df2_oot['IDADE'].astype('int64')"
   ]
  },
  {
   "cell_type": "markdown",
   "id": "ab658241",
   "metadata": {
    "heading_collapsed": true
   },
   "source": [
    "# Variable filtering"
   ]
  },
  {
   "cell_type": "code",
   "execution_count": 50,
   "id": "cd7796f1",
   "metadata": {
    "ExecuteTime": {
     "end_time": "2023-01-19T00:58:59.059580Z",
     "start_time": "2023-01-19T00:58:58.932048Z"
    },
    "hidden": true
   },
   "outputs": [],
   "source": [
    "df3_oot   = df2_oot.copy()\n",
    "df3_train = df2_train.copy()\n",
    "df3_test  = df2_test.copy()"
   ]
  },
  {
   "cell_type": "markdown",
   "id": "5fd9c21b",
   "metadata": {
    "heading_collapsed": true,
    "hidden": true
   },
   "source": [
    "## rows filtering"
   ]
  },
  {
   "cell_type": "markdown",
   "id": "4c66eb7e",
   "metadata": {
    "hidden": true
   },
   "source": [
    "- Nessa seção poderia ser a filtragem das linhas, baseadas em alguma regra de negócio passadas previamente. Como não tem nenhuma já que a política AS_IS é apenas para aplicar ao final"
   ]
  },
  {
   "cell_type": "code",
   "execution_count": 51,
   "id": "926a7c01",
   "metadata": {
    "ExecuteTime": {
     "end_time": "2023-01-19T01:01:28.810254Z",
     "start_time": "2023-01-19T01:01:28.807186Z"
    },
    "hidden": true
   },
   "outputs": [],
   "source": [
    "# df3_train = as_is_policy(df3_train)\n",
    "# df3_test = as_is_policy(df3_test)\n",
    "# df3_oot = as_is_policy(df3_oot)"
   ]
  },
  {
   "cell_type": "markdown",
   "id": "4058fa23",
   "metadata": {
    "heading_collapsed": true
   },
   "source": [
    "# Exploratory data analysis"
   ]
  },
  {
   "cell_type": "code",
   "execution_count": 143,
   "id": "84c1d7d4",
   "metadata": {
    "ExecuteTime": {
     "end_time": "2023-01-19T01:24:21.558744Z",
     "start_time": "2023-01-19T01:24:21.424777Z"
    },
    "hidden": true
   },
   "outputs": [],
   "source": [
    "df4_oot   = df3_oot.copy()\n",
    "df4_train = df3_train.copy()\n",
    "df4_test  = df3_test.copy()"
   ]
  },
  {
   "cell_type": "code",
   "execution_count": 53,
   "id": "8c90edfb",
   "metadata": {
    "ExecuteTime": {
     "end_time": "2023-01-19T01:01:33.713228Z",
     "start_time": "2023-01-19T01:01:33.630189Z"
    },
    "hidden": true
   },
   "outputs": [],
   "source": [
    "num_attributes = df4_train.select_dtypes( include=['int64', 'float64'] )\n",
    "cat_attributes = df4_train.select_dtypes( exclude=['int64', 'float64', 'datetime64[ns]'] )"
   ]
  },
  {
   "cell_type": "markdown",
   "id": "b3efcaac",
   "metadata": {
    "heading_collapsed": true,
    "hidden": true
   },
   "source": [
    "## Univariate analysis"
   ]
  },
  {
   "cell_type": "markdown",
   "id": "2e08828c",
   "metadata": {
    "heading_collapsed": true,
    "hidden": true
   },
   "source": [
    "### Respose variable"
   ]
  },
  {
   "cell_type": "markdown",
   "id": "1c091c61",
   "metadata": {
    "hidden": true
   },
   "source": [
    "- Como ja tinhamos visto no na etapa Descriptive statistical, a variável 'Target' ficou um pouco mais desproporcional, ou seja, temos mais bons pagadores nessa faixa de idade(>28 anos)\n",
    "    - A aplicação da política foi necessária pois não adianta treinarmos com dados que o cliente final não vai dar input, ou seja, os modelos vão aprender de forma equivocada pois vão estar levando a idade >28 anos em consideração para a classificação \n",
    "        - Claro que temos que adotar outra estratégia se percebemos alguma performance do nosso modelo final"
   ]
  },
  {
   "cell_type": "code",
   "execution_count": 54,
   "id": "ea31fa53",
   "metadata": {
    "ExecuteTime": {
     "end_time": "2023-01-19T01:01:39.471822Z",
     "start_time": "2023-01-19T01:01:39.039132Z"
    },
    "hidden": true
   },
   "outputs": [
    {
     "data": {
      "text/plain": [
       "<seaborn.axisgrid.FacetGrid at 0x7f43fe1127f0>"
      ]
     },
     "execution_count": 54,
     "metadata": {},
     "output_type": "execute_result"
    },
    {
     "data": {
      "image/png": "[encoded data removed]",
      "text/plain": [
       "<Figure size 360x360 with 1 Axes>"
      ]
     },
     "metadata": {},
     "output_type": "display_data"
    }
   ],
   "source": [
    "sns.displot(df4_train['TARGET'])"
   ]
  },
  {
   "cell_type": "markdown",
   "id": "570a524d",
   "metadata": {
    "heading_collapsed": true,
    "hidden": true
   },
   "source": [
    "### Numerical variable"
   ]
  },
  {
   "cell_type": "markdown",
   "id": "4843146e",
   "metadata": {
    "hidden": true
   },
   "source": [
    "- Aqui conseguimos ver as distribuições de todas as variaveis numéricas\n",
    "    - Chamo atenção para\n",
    "        - DAY que mostra que todos os dias temos uma mesma quantidade de casos\n",
    "            - Menos no domingo\n"
   ]
  },
  {
   "cell_type": "code",
   "execution_count": 55,
   "id": "94dbd566",
   "metadata": {
    "ExecuteTime": {
     "end_time": "2023-01-19T01:01:50.860652Z",
     "start_time": "2023-01-19T01:01:47.142504Z"
    },
    "hidden": true
   },
   "outputs": [
    {
     "data": {
      "image/png": "[encoded data removed]",
      "text/plain": [
       "<Figure size 1440x1440 with 16 Axes>"
      ]
     },
     "metadata": {},
     "output_type": "display_data"
    }
   ],
   "source": [
    "sns.set(rc={'figure.figsize':(20,20)})\n",
    "num_attributes.hist( bins=25 );"
   ]
  },
  {
   "cell_type": "markdown",
   "id": "a5535506",
   "metadata": {
    "heading_collapsed": true,
    "hidden": true
   },
   "source": [
    "## Bivariate analysis"
   ]
  },
  {
   "cell_type": "markdown",
   "id": "2680dad1",
   "metadata": {
    "heading_collapsed": true,
    "hidden": true
   },
   "source": [
    "### Mulheres são mais boas pagadoras do que homens? (VERDADEIRO)\n"
   ]
  },
  {
   "cell_type": "markdown",
   "id": "fcd73092",
   "metadata": {
    "hidden": true
   },
   "source": [
    "- Para isso, vou mostrar a relação de bom_pagador/mal_pagador e ver qual a mais alta"
   ]
  },
  {
   "cell_type": "code",
   "execution_count": 56,
   "id": "cedcfc31",
   "metadata": {
    "ExecuteTime": {
     "end_time": "2023-01-19T01:02:07.416407Z",
     "start_time": "2023-01-19T01:02:07.319190Z"
    },
    "hidden": true
   },
   "outputs": [
    {
     "data": {
      "text/plain": [
       "'A porcentagem de homens bons pagadores é: 0.7595633386399818'"
      ]
     },
     "execution_count": 56,
     "metadata": {},
     "output_type": "execute_result"
    }
   ],
   "source": [
    "\"A porcentagem de homens bons pagadores é: {}\".format((df4_train.loc[(df4_train['SEXO'] == 'M') & (df4_train['TARGET'] == 1)].shape[0])/df4_train.loc[(df4_train['SEXO'] == 'M')].shape[0])"
   ]
  },
  {
   "cell_type": "code",
   "execution_count": 57,
   "id": "ad4b5fad",
   "metadata": {
    "ExecuteTime": {
     "end_time": "2023-01-19T01:02:08.315197Z",
     "start_time": "2023-01-19T01:02:08.190049Z"
    },
    "hidden": true,
    "scrolled": true
   },
   "outputs": [
    {
     "data": {
      "text/plain": [
       "'A porcentagem de mulheres boas pagadoras é: 0.8175901464387564'"
      ]
     },
     "execution_count": 57,
     "metadata": {},
     "output_type": "execute_result"
    }
   ],
   "source": [
    "\"A porcentagem de mulheres boas pagadoras é: {}\".format((df4_train.loc[(df4_train['SEXO'] == 'F') & (df4_train['TARGET'] == 1)].shape[0])/df4_train.loc[(df4_train['SEXO'] == 'F')].shape[0])"
   ]
  },
  {
   "cell_type": "markdown",
   "id": "1200a9da",
   "metadata": {
    "hidden": true
   },
   "source": [
    "- A conclusão entao é que essa hipótese é verdadeira"
   ]
  },
  {
   "cell_type": "markdown",
   "id": "affad5a1",
   "metadata": {
    "heading_collapsed": true,
    "hidden": true
   },
   "source": [
    "### Pessoas mais jovens são mais mal pagadoras? (VERDADEIRO)\n"
   ]
  },
  {
   "cell_type": "markdown",
   "id": "ea1b8304",
   "metadata": {
    "hidden": true
   },
   "source": [
    "\n",
    "- Vou colocar 4 faixas de idade para avaliar \n",
    "    - dos 30 aos 40\n",
    "    - dos 40 aos 50\n",
    "    - dos 50 aos 70\n",
    "    - a partir de 70\n"
   ]
  },
  {
   "cell_type": "code",
   "execution_count": 59,
   "id": "0792dfe3",
   "metadata": {
    "ExecuteTime": {
     "end_time": "2023-01-19T01:02:17.816050Z",
     "start_time": "2023-01-19T01:02:17.760500Z"
    },
    "hidden": true
   },
   "outputs": [
    {
     "data": {
      "text/plain": [
       "'A porcentagem de pessoas com idade de 30 a 40 anos boas pagadoras é: 0.7731310431569846'"
      ]
     },
     "execution_count": 59,
     "metadata": {},
     "output_type": "execute_result"
    }
   ],
   "source": [
    "\"A porcentagem de pessoas com idade de 30 a 40 anos boas pagadoras é: {}\".format((df4_train.loc[(df4_train['IDADE'] >= 30) & (df4_train['IDADE'] < 40) & (df4_train['TARGET'] == 1)].shape[0])/df4_train.loc[(df4_train['IDADE'] >= 30) & (df4_train['IDADE'] < 40)].shape[0])"
   ]
  },
  {
   "cell_type": "code",
   "execution_count": 60,
   "id": "98c2c63b",
   "metadata": {
    "ExecuteTime": {
     "end_time": "2023-01-19T01:02:18.849778Z",
     "start_time": "2023-01-19T01:02:18.799604Z"
    },
    "hidden": true
   },
   "outputs": [
    {
     "data": {
      "text/plain": [
       "'A porcentagem de pessoas com idade de 40 a 50 anos boas pagadoras é: 0.7997672889158699'"
      ]
     },
     "execution_count": 60,
     "metadata": {},
     "output_type": "execute_result"
    }
   ],
   "source": [
    "\"A porcentagem de pessoas com idade de 40 a 50 anos boas pagadoras é: {}\".format((df4_train.loc[(df4_train['IDADE'] >= 40) & (df4_train['IDADE'] < 50) & (df4_train['TARGET'] == 1)].shape[0])/df4_train.loc[(df4_train['IDADE'] >= 40) & (df4_train['IDADE'] < 50)].shape[0])"
   ]
  },
  {
   "cell_type": "code",
   "execution_count": 61,
   "id": "19db2316",
   "metadata": {
    "ExecuteTime": {
     "end_time": "2023-01-19T01:02:19.727104Z",
     "start_time": "2023-01-19T01:02:19.667848Z"
    },
    "hidden": true
   },
   "outputs": [
    {
     "data": {
      "text/plain": [
       "'A porcentagem de pessoas com idade de 50 a 70 anos boas pagadoras é: 0.8538063964559126'"
      ]
     },
     "execution_count": 61,
     "metadata": {},
     "output_type": "execute_result"
    }
   ],
   "source": [
    "\"A porcentagem de pessoas com idade de 50 a 70 anos boas pagadoras é: {}\".format((df4_train.loc[(df4_train['IDADE'] >= 50) & (df4_train['IDADE'] < 70) & (df4_train['TARGET'] == 1)].shape[0])/df4_train.loc[(df4_train['IDADE'] >= 50) & (df4_train['IDADE'] < 70)].shape[0])"
   ]
  },
  {
   "cell_type": "code",
   "execution_count": 62,
   "id": "50613156",
   "metadata": {
    "ExecuteTime": {
     "end_time": "2023-01-19T01:02:20.483921Z",
     "start_time": "2023-01-19T01:02:20.443666Z"
    },
    "hidden": true
   },
   "outputs": [
    {
     "data": {
      "text/plain": [
       "'A porcentagem de pessoas com idade a partir de 70 boas pagadoras é: 0.8574401664932362'"
      ]
     },
     "execution_count": 62,
     "metadata": {},
     "output_type": "execute_result"
    }
   ],
   "source": [
    "\"A porcentagem de pessoas com idade a partir de 70 boas pagadoras é: {}\".format((df4_train.loc[(df4_train['IDADE'] >= 70) & (df4_train['TARGET'] == 1)].shape[0])/df4_train.loc[(df4_train['IDADE'] >= 70)].shape[0])"
   ]
  },
  {
   "cell_type": "markdown",
   "id": "d302257b",
   "metadata": {
    "hidden": true
   },
   "source": [
    "- Com isso, é válido afirmar que pessoas mais jovens são mais mal pagadoras do que as com mais idade"
   ]
  },
  {
   "cell_type": "markdown",
   "id": "2025c3d6",
   "metadata": {
    "heading_collapsed": true,
    "hidden": true
   },
   "source": [
    "### Tem algum estado que as pessoas pagam muito mais mal que nos outros? (VERDADEIRO)\n"
   ]
  },
  {
   "cell_type": "code",
   "execution_count": 63,
   "id": "a03e2585",
   "metadata": {
    "ExecuteTime": {
     "end_time": "2023-01-19T01:02:30.774235Z",
     "start_time": "2023-01-19T01:02:30.681032Z"
    },
    "hidden": true
   },
   "outputs": [
    {
     "data": {
      "text/plain": [
       "ESTADO\n",
       "AC    0.169697\n",
       "AL    0.274599\n",
       "AM    0.235096\n",
       "AP    0.311518\n",
       "BA    0.204738\n",
       "CE    0.206320\n",
       "DF    0.239130\n",
       "ES    0.188111\n",
       "GO    0.188856\n",
       "MA    0.186978\n",
       "MG    0.178483\n",
       "MS    0.165138\n",
       "MT    0.153104\n",
       "PA    0.215186\n",
       "PB    0.237424\n",
       "PE    0.249836\n",
       "PI    0.195244\n",
       "PR    0.175641\n",
       "RJ    0.211097\n",
       "RN    0.250906\n",
       "RO    0.166216\n",
       "RR    0.218182\n",
       "RS    0.183345\n",
       "SC    0.164067\n",
       "SE    0.243269\n",
       "SP    0.212167\n",
       "TO    0.168639\n",
       "dtype: float64"
      ]
     },
     "execution_count": 63,
     "metadata": {},
     "output_type": "execute_result"
    }
   ],
   "source": [
    "df_aux = pd.crosstab(df4_train.TARGET,df4_train.ESTADO).T\n",
    "df_aux.iloc[:,0]/(df_aux.iloc[:,0] + df_aux.iloc[:,1])"
   ]
  },
  {
   "cell_type": "markdown",
   "id": "64f9d57a",
   "metadata": {
    "hidden": true
   },
   "source": [
    "- Com isso, é válido afirmar que o AMAPÁ(AP) é o estado onde mais tem mal pagadores proporcionalmente"
   ]
  },
  {
   "cell_type": "markdown",
   "id": "2e3017e9",
   "metadata": {
    "heading_collapsed": true,
    "hidden": true
   },
   "source": [
    "### Qual situação é mais encontrada quando falamos de mal pagadores? (EMAIL INEXISTENTE) \n"
   ]
  },
  {
   "cell_type": "code",
   "execution_count": 64,
   "id": "11379b9d",
   "metadata": {
    "ExecuteTime": {
     "end_time": "2023-01-19T01:02:54.626935Z",
     "start_time": "2023-01-19T01:02:54.592655Z"
    },
    "hidden": true
   },
   "outputs": [
    {
     "data": {
      "text/plain": [
       "SITUACAO\n",
       "CEP INEXISTENTE#@#EMAIL INEXISTENTE                         92\n",
       "EMAIL INEXISTENTE                                         8126\n",
       "EMAIL INEXISTENTE#@#NOME INEXISTENTE#@#CEP INEXISTENTE    9642\n",
       "NOME INEXISTENTE                                            67\n",
       "NOME INEXISTENTE#@#CEP INEXISTENTE                           1\n",
       "NOME INEXISTENTE#@#EMAIL INEXISTENTE                      1762\n",
       "OPERACAO REALIZADA COM SUCESSO                            1308\n",
       "Name: 0, dtype: int64"
      ]
     },
     "execution_count": 64,
     "metadata": {},
     "output_type": "execute_result"
    }
   ],
   "source": [
    "df_aux = pd.crosstab(df4_train.TARGET,df4_train.SITUACAO).T\n",
    "df_aux.iloc[:,0]"
   ]
  },
  {
   "cell_type": "markdown",
   "id": "d7a7e1c8",
   "metadata": {
    "hidden": true
   },
   "source": [
    "- Percebemos que a situação mais encontrada quando falamos de mal pagadores é a de EMAIL INEXISTENTE"
   ]
  },
  {
   "cell_type": "markdown",
   "id": "262abe9f",
   "metadata": {
    "heading_collapsed": true,
    "hidden": true
   },
   "source": [
    "### Existe alguma relação clara entre o dia da semana com pessoas mal pagadoras? (NÃO)"
   ]
  },
  {
   "cell_type": "code",
   "execution_count": 65,
   "id": "ad0f39fa",
   "metadata": {
    "ExecuteTime": {
     "end_time": "2023-01-19T01:03:05.679302Z",
     "start_time": "2023-01-19T01:03:05.655216Z"
    },
    "hidden": true
   },
   "outputs": [
    {
     "data": {
      "text/plain": [
       "DAY\n",
       "0    0.215001\n",
       "1    0.209402\n",
       "2    0.214656\n",
       "3    0.209140\n",
       "4    0.213003\n",
       "5    0.184530\n",
       "6    0.196269\n",
       "dtype: float64"
      ]
     },
     "execution_count": 65,
     "metadata": {},
     "output_type": "execute_result"
    }
   ],
   "source": [
    "df_aux = pd.crosstab(df4_train.TARGET,df4_train.DAY).T\n",
    "df_aux.iloc[:,0]/(df_aux.iloc[:,0] + df_aux.iloc[:,1])"
   ]
  },
  {
   "cell_type": "markdown",
   "id": "0c15d4fc",
   "metadata": {
    "hidden": true
   },
   "source": [
    "- Não existe relação clara entre dia da semana e mal pagadores, apenas que no sabado e domingo foram registrados proporcionalmente menos casos"
   ]
  },
  {
   "cell_type": "markdown",
   "id": "84daf2fe",
   "metadata": {
    "heading_collapsed": true,
    "hidden": true
   },
   "source": [
    "## Multivariate analysis"
   ]
  },
  {
   "cell_type": "markdown",
   "id": "84e7d152",
   "metadata": {
    "heading_collapsed": true,
    "hidden": true
   },
   "source": [
    "### Numerical attributes"
   ]
  },
  {
   "cell_type": "code",
   "execution_count": 66,
   "id": "fc87100c",
   "metadata": {
    "ExecuteTime": {
     "end_time": "2023-01-19T01:03:29.796377Z",
     "start_time": "2023-01-19T01:03:28.847384Z"
    },
    "hidden": true
   },
   "outputs": [
    {
     "data": {
      "image/png": "[encoded data removed]",
      "text/plain": [
       "<Figure size 1800x1368 with 2 Axes>"
      ]
     },
     "metadata": {},
     "output_type": "display_data"
    }
   ],
   "source": [
    "correlation = num_attributes.corr( method='pearson' )\n",
    "plt.figure( figsize=( 25, 19 ) )\n",
    "sns.heatmap( correlation, annot=True );"
   ]
  },
  {
   "cell_type": "markdown",
   "id": "63ab29a3",
   "metadata": {
    "hidden": true
   },
   "source": [
    "- Chegamos a conclusão olhando para esse heatmap que não temos muito variáveis agora que vão ajudar no processo de decisão, apenas a idade que tem uma correlação mais forte "
   ]
  },
  {
   "cell_type": "markdown",
   "id": "f0263644",
   "metadata": {
    "heading_collapsed": true
   },
   "source": [
    "# Data preparation"
   ]
  },
  {
   "cell_type": "code",
   "execution_count": 67,
   "id": "c6db0253",
   "metadata": {
    "ExecuteTime": {
     "end_time": "2023-01-19T01:04:42.821434Z",
     "start_time": "2023-01-19T01:04:42.675347Z"
    },
    "hidden": true
   },
   "outputs": [],
   "source": [
    "df5_oot   = df4_oot.copy()\n",
    "df5_train = df4_train.copy()\n",
    "df5_test  = df4_test.copy()"
   ]
  },
  {
   "cell_type": "markdown",
   "id": "927db97a",
   "metadata": {
    "heading_collapsed": true,
    "hidden": true
   },
   "source": [
    "## Normalization\n"
   ]
  },
  {
   "cell_type": "markdown",
   "id": "24a18ad2",
   "metadata": {
    "hidden": true
   },
   "source": [
    "- Não vou fazer a normalização pois nenhuma variável categórica tem uma distribuição que pareça normal\n",
    "\n",
    "- Como vimos na descrição dos dados"
   ]
  },
  {
   "cell_type": "markdown",
   "id": "61a09c79",
   "metadata": {
    "heading_collapsed": true,
    "hidden": true
   },
   "source": [
    "## Rescaling"
   ]
  },
  {
   "cell_type": "markdown",
   "id": "2ce3dd0b",
   "metadata": {
    "hidden": true
   },
   "source": [
    "- É necessário deixar na mesma escala, pois os algoritmos conseguem aprender melhor(principalmente os de aprendizagem profunda)"
   ]
  },
  {
   "cell_type": "code",
   "execution_count": 68,
   "id": "59601419",
   "metadata": {
    "ExecuteTime": {
     "end_time": "2023-01-19T01:04:46.551606Z",
     "start_time": "2023-01-19T01:04:46.545406Z"
    },
    "hidden": true
   },
   "outputs": [],
   "source": [
    "a_train = df5_train.select_dtypes( include=['int64', 'float64'] )"
   ]
  },
  {
   "cell_type": "code",
   "execution_count": 69,
   "id": "1b6e2048",
   "metadata": {
    "ExecuteTime": {
     "end_time": "2023-01-19T01:04:47.377005Z",
     "start_time": "2023-01-19T01:04:47.369553Z"
    },
    "hidden": true
   },
   "outputs": [],
   "source": [
    "a_test = df5_test.select_dtypes( include=['int64', 'float64'] )"
   ]
  },
  {
   "cell_type": "code",
   "execution_count": 70,
   "id": "e0cc51e0",
   "metadata": {
    "ExecuteTime": {
     "end_time": "2023-01-19T01:04:48.239043Z",
     "start_time": "2023-01-19T01:04:48.232823Z"
    },
    "hidden": true
   },
   "outputs": [],
   "source": [
    "a_oot = df5_oot.select_dtypes( include=['int64', 'float64'] )"
   ]
  },
  {
   "cell_type": "markdown",
   "id": "8d1cc2c0",
   "metadata": {
    "hidden": true
   },
   "source": [
    "- Não vou analisar target pois ela ja está com os valores adequados "
   ]
  },
  {
   "cell_type": "code",
   "execution_count": 71,
   "id": "c5581019",
   "metadata": {
    "ExecuteTime": {
     "end_time": "2023-01-19T01:04:55.468327Z",
     "start_time": "2023-01-19T01:04:55.311249Z"
    },
    "hidden": true
   },
   "outputs": [
    {
     "data": {
      "text/plain": [
       "<AxesSubplot: >"
      ]
     },
     "execution_count": 71,
     "metadata": {},
     "output_type": "execute_result"
    },
    {
     "data": {
      "image/png": "[encoded data removed]",
      "text/plain": [
       "<Figure size 360x360 with 1 Axes>"
      ]
     },
     "metadata": {},
     "output_type": "display_data"
    }
   ],
   "source": [
    "# idade\n",
    "sns.set(rc={'figure.figsize':(5,5)})\n",
    "sns.boxplot( a_train['IDADE'] )\n"
   ]
  },
  {
   "cell_type": "code",
   "execution_count": 72,
   "id": "77f55382",
   "metadata": {
    "ExecuteTime": {
     "end_time": "2023-01-19T01:04:56.491692Z",
     "start_time": "2023-01-19T01:04:56.337127Z"
    },
    "hidden": true
   },
   "outputs": [
    {
     "data": {
      "text/plain": [
       "<AxesSubplot: >"
      ]
     },
     "execution_count": 72,
     "metadata": {},
     "output_type": "execute_result"
    },
    {
     "data": {
      "image/png": "[encoded data removed]",
      "text/plain": [
       "<Figure size 360x360 with 1 Axes>"
      ]
     },
     "metadata": {},
     "output_type": "display_data"
    }
   ],
   "source": [
    "# Numeric0\n",
    "sns.set(rc={'figure.figsize':(5,5)})\n",
    "sns.boxplot( a_train['NUMERIC0'] )"
   ]
  },
  {
   "cell_type": "code",
   "execution_count": 73,
   "id": "41634c3e",
   "metadata": {
    "ExecuteTime": {
     "end_time": "2023-01-19T01:04:57.367550Z",
     "start_time": "2023-01-19T01:04:57.193154Z"
    },
    "hidden": true
   },
   "outputs": [
    {
     "data": {
      "text/plain": [
       "<AxesSubplot: >"
      ]
     },
     "execution_count": 73,
     "metadata": {},
     "output_type": "execute_result"
    },
    {
     "data": {
      "image/png": "[encoded data removed]",
      "text/plain": [
       "<Figure size 360x360 with 1 Axes>"
      ]
     },
     "metadata": {},
     "output_type": "display_data"
    }
   ],
   "source": [
    "# Numeric1\n",
    "sns.set(rc={'figure.figsize':(5,5)})\n",
    "sns.boxplot( a_train['NUMERIC1'] )"
   ]
  },
  {
   "cell_type": "code",
   "execution_count": 74,
   "id": "e1867f16",
   "metadata": {
    "ExecuteTime": {
     "end_time": "2023-01-19T01:04:58.167970Z",
     "start_time": "2023-01-19T01:04:57.991615Z"
    },
    "hidden": true
   },
   "outputs": [
    {
     "data": {
      "text/plain": [
       "<AxesSubplot: >"
      ]
     },
     "execution_count": 74,
     "metadata": {},
     "output_type": "execute_result"
    },
    {
     "data": {
      "image/png": "[encoded data removed]",
      "text/plain": [
       "<Figure size 360x360 with 1 Axes>"
      ]
     },
     "metadata": {},
     "output_type": "display_data"
    }
   ],
   "source": [
    "# Numeric2\n",
    "sns.set(rc={'figure.figsize':(5,5)})\n",
    "sns.boxplot( a_train['NUMERIC2'] )"
   ]
  },
  {
   "cell_type": "code",
   "execution_count": 75,
   "id": "b4d63fb7",
   "metadata": {
    "ExecuteTime": {
     "end_time": "2023-01-19T01:04:59.059893Z",
     "start_time": "2023-01-19T01:04:58.801686Z"
    },
    "hidden": true
   },
   "outputs": [
    {
     "data": {
      "text/plain": [
       "<AxesSubplot: >"
      ]
     },
     "execution_count": 75,
     "metadata": {},
     "output_type": "execute_result"
    },
    {
     "data": {
      "image/png": "[encoded data removed]",
      "text/plain": [
       "<Figure size 360x360 with 1 Axes>"
      ]
     },
     "metadata": {},
     "output_type": "display_data"
    }
   ],
   "source": [
    "# Numeric3\n",
    "sns.set(rc={'figure.figsize':(5,5)})\n",
    "sns.boxplot( a_train['NUMERIC3'] )"
   ]
  },
  {
   "cell_type": "code",
   "execution_count": 76,
   "id": "72d67652",
   "metadata": {
    "ExecuteTime": {
     "end_time": "2023-01-19T01:04:59.715922Z",
     "start_time": "2023-01-19T01:04:59.555910Z"
    },
    "hidden": true
   },
   "outputs": [
    {
     "data": {
      "text/plain": [
       "<AxesSubplot: >"
      ]
     },
     "execution_count": 76,
     "metadata": {},
     "output_type": "execute_result"
    },
    {
     "data": {
      "image/png": "[encoded data removed]",
      "text/plain": [
       "<Figure size 360x360 with 1 Axes>"
      ]
     },
     "metadata": {},
     "output_type": "display_data"
    }
   ],
   "source": [
    "# Numeric4\n",
    "sns.set(rc={'figure.figsize':(5,5)})\n",
    "sns.boxplot( a_train['NUMERIC4'] )"
   ]
  },
  {
   "cell_type": "code",
   "execution_count": 77,
   "id": "d9232b39",
   "metadata": {
    "ExecuteTime": {
     "end_time": "2023-01-19T01:05:00.510936Z",
     "start_time": "2023-01-19T01:05:00.367036Z"
    },
    "hidden": true
   },
   "outputs": [
    {
     "data": {
      "text/plain": [
       "<AxesSubplot: >"
      ]
     },
     "execution_count": 77,
     "metadata": {},
     "output_type": "execute_result"
    },
    {
     "data": {
      "image/png": "[encoded data removed]",
      "text/plain": [
       "<Figure size 360x360 with 1 Axes>"
      ]
     },
     "metadata": {},
     "output_type": "display_data"
    }
   ],
   "source": [
    "# Numeric5\n",
    "sns.set(rc={'figure.figsize':(5,5)})\n",
    "sns.boxplot( a_train['NUMERIC5'] )"
   ]
  },
  {
   "cell_type": "code",
   "execution_count": 78,
   "id": "cee0af7f",
   "metadata": {
    "ExecuteTime": {
     "end_time": "2023-01-19T01:05:01.308732Z",
     "start_time": "2023-01-19T01:05:01.159237Z"
    },
    "hidden": true
   },
   "outputs": [
    {
     "data": {
      "text/plain": [
       "<AxesSubplot: >"
      ]
     },
     "execution_count": 78,
     "metadata": {},
     "output_type": "execute_result"
    },
    {
     "data": {
      "image/png": "[encoded data removed]",
      "text/plain": [
       "<Figure size 360x360 with 1 Axes>"
      ]
     },
     "metadata": {},
     "output_type": "display_data"
    }
   ],
   "source": [
    "# Numeric6\n",
    "sns.set(rc={'figure.figsize':(5,5)})\n",
    "sns.boxplot( a_train['NUMERIC6'] )"
   ]
  },
  {
   "cell_type": "code",
   "execution_count": 79,
   "id": "e4bdc228",
   "metadata": {
    "ExecuteTime": {
     "end_time": "2023-01-19T01:05:02.114073Z",
     "start_time": "2023-01-19T01:05:01.970119Z"
    },
    "hidden": true
   },
   "outputs": [
    {
     "data": {
      "text/plain": [
       "<AxesSubplot: >"
      ]
     },
     "execution_count": 79,
     "metadata": {},
     "output_type": "execute_result"
    },
    {
     "data": {
      "image/png": "[encoded data removed]",
      "text/plain": [
       "<Figure size 360x360 with 1 Axes>"
      ]
     },
     "metadata": {},
     "output_type": "display_data"
    }
   ],
   "source": [
    "# Numeric7\n",
    "sns.set(rc={'figure.figsize':(5,5)})\n",
    "sns.boxplot( a_train['NUMERIC7'] )"
   ]
  },
  {
   "cell_type": "code",
   "execution_count": 80,
   "id": "9e20dc23",
   "metadata": {
    "ExecuteTime": {
     "end_time": "2023-01-19T01:05:03.173833Z",
     "start_time": "2023-01-19T01:05:03.003021Z"
    },
    "hidden": true
   },
   "outputs": [
    {
     "data": {
      "text/plain": [
       "<AxesSubplot: >"
      ]
     },
     "execution_count": 80,
     "metadata": {},
     "output_type": "execute_result"
    },
    {
     "data": {
      "image/png": "[encoded data removed]",
      "text/plain": [
       "<Figure size 360x360 with 1 Axes>"
      ]
     },
     "metadata": {},
     "output_type": "display_data"
    }
   ],
   "source": [
    "# Numeric8\n",
    "sns.set(rc={'figure.figsize':(5,5)})\n",
    "sns.boxplot( a_train['NUMERIC8'] )"
   ]
  },
  {
   "cell_type": "code",
   "execution_count": 81,
   "id": "9bdb5ac2",
   "metadata": {
    "ExecuteTime": {
     "end_time": "2023-01-19T01:05:04.315308Z",
     "start_time": "2023-01-19T01:05:04.133821Z"
    },
    "hidden": true
   },
   "outputs": [
    {
     "data": {
      "text/plain": [
       "<AxesSubplot: >"
      ]
     },
     "execution_count": 81,
     "metadata": {},
     "output_type": "execute_result"
    },
    {
     "data": {
      "image/png": "[encoded data removed]",
      "text/plain": [
       "<Figure size 360x360 with 1 Axes>"
      ]
     },
     "metadata": {},
     "output_type": "display_data"
    }
   ],
   "source": [
    "# Numeric9\n",
    "sns.set(rc={'figure.figsize':(5,5)})\n",
    "sns.boxplot( a_train['NUMERIC9'] )"
   ]
  },
  {
   "cell_type": "code",
   "execution_count": 82,
   "id": "81faf667",
   "metadata": {
    "ExecuteTime": {
     "end_time": "2023-01-19T01:05:05.182224Z",
     "start_time": "2023-01-19T01:05:05.072112Z"
    },
    "hidden": true,
    "scrolled": false
   },
   "outputs": [
    {
     "data": {
      "text/plain": [
       "<AxesSubplot: >"
      ]
     },
     "execution_count": 82,
     "metadata": {},
     "output_type": "execute_result"
    },
    {
     "data": {
      "image/png": "[encoded data removed]",
      "text/plain": [
       "<Figure size 360x360 with 1 Axes>"
      ]
     },
     "metadata": {},
     "output_type": "display_data"
    }
   ],
   "source": [
    "# day\n",
    "sns.set(rc={'figure.figsize':(5,5)})\n",
    "sns.boxplot( a_train['DAY'] )"
   ]
  },
  {
   "cell_type": "code",
   "execution_count": 83,
   "id": "4bb65c2d",
   "metadata": {
    "ExecuteTime": {
     "end_time": "2023-01-19T01:05:07.300302Z",
     "start_time": "2023-01-19T01:05:07.168786Z"
    },
    "hidden": true
   },
   "outputs": [],
   "source": [
    "rs =  RobustScaler()\n",
    "mms = MinMaxScaler()\n",
    "\n",
    "# Poucos outliers \n",
    "df5_train['IDADE'] = rs.fit_transform( df5_train[['IDADE']].values ) \n",
    "df5_train['NUMERIC1'] = rs.fit_transform( df5_train[['NUMERIC1']].values ) \n",
    "df5_train['NUMERIC2'] = rs.fit_transform( df5_train[['NUMERIC2']].values ) \n",
    "df5_train['NUMERIC3'] = rs.fit_transform( df5_train[['NUMERIC3']].values ) \n",
    "df5_train['NUMERIC4'] = rs.fit_transform( df5_train[['NUMERIC4']].values ) \n",
    "df5_train['NUMERIC6'] = rs.fit_transform( df5_train[['NUMERIC6']].values ) \n",
    "df5_train['NUMERIC8'] = rs.fit_transform( df5_train[['NUMERIC8']].values ) \n",
    "df5_train['NUMERIC9'] = rs.fit_transform( df5_train[['NUMERIC9']].values ) \n",
    "\n",
    "\n",
    "# Muitos outliers\n",
    "df5_train['NUMERIC0'] = mms.fit_transform( df5_train[['NUMERIC0']].values )\n",
    "df5_train['NUMERIC5'] = mms.fit_transform( df5_train[['NUMERIC5']].values )\n",
    "df5_train['NUMERIC7'] = mms.fit_transform( df5_train[['NUMERIC7']].values )\n",
    "df5_train['DAY'] = mms.fit_transform( df5_train[['DAY']].values )\n",
    "\n"
   ]
  },
  {
   "cell_type": "code",
   "execution_count": 84,
   "id": "4b0f2f12",
   "metadata": {
    "ExecuteTime": {
     "end_time": "2023-01-19T01:05:08.750222Z",
     "start_time": "2023-01-19T01:05:08.672587Z"
    },
    "hidden": true
   },
   "outputs": [],
   "source": [
    "# Poucos outliers \n",
    "df5_test['IDADE'] = rs.fit_transform( df5_test[['IDADE']].values ) \n",
    "df5_test['NUMERIC1'] = rs.fit_transform( df5_test[['NUMERIC1']].values ) \n",
    "df5_test['NUMERIC2'] = rs.fit_transform( df5_test[['NUMERIC2']].values ) \n",
    "df5_test['NUMERIC3'] = rs.fit_transform( df5_test[['NUMERIC3']].values ) \n",
    "df5_test['NUMERIC4'] = rs.fit_transform( df5_test[['NUMERIC4']].values ) \n",
    "df5_test['NUMERIC6'] = rs.fit_transform( df5_test[['NUMERIC6']].values ) \n",
    "df5_test['NUMERIC8'] = rs.fit_transform( df5_test[['NUMERIC8']].values ) \n",
    "df5_test['NUMERIC9'] = rs.fit_transform( df5_test[['NUMERIC9']].values ) \n",
    "\n",
    "\n",
    "# Muitos outliers\n",
    "df5_test['NUMERIC0'] = mms.fit_transform( df5_test[['NUMERIC0']].values )\n",
    "df5_test['NUMERIC5'] = mms.fit_transform( df5_test[['NUMERIC5']].values )\n",
    "df5_test['NUMERIC7'] = mms.fit_transform( df5_test[['NUMERIC7']].values )\n",
    "df5_test['DAY'] = mms.fit_transform( df5_test[['DAY']].values )"
   ]
  },
  {
   "cell_type": "code",
   "execution_count": 85,
   "id": "b0ea9055",
   "metadata": {
    "ExecuteTime": {
     "end_time": "2023-01-19T01:05:10.073624Z",
     "start_time": "2023-01-19T01:05:09.977938Z"
    },
    "hidden": true
   },
   "outputs": [],
   "source": [
    "# Poucos outliers \n",
    "df5_oot['IDADE'] = rs.fit_transform( df5_oot[['IDADE']].values ) \n",
    "df5_oot['NUMERIC1'] = rs.fit_transform( df5_oot[['NUMERIC1']].values ) \n",
    "df5_oot['NUMERIC2'] = rs.fit_transform( df5_oot[['NUMERIC2']].values ) \n",
    "df5_oot['NUMERIC3'] = rs.fit_transform( df5_oot[['NUMERIC3']].values ) \n",
    "df5_oot['NUMERIC4'] = rs.fit_transform( df5_oot[['NUMERIC4']].values ) \n",
    "df5_oot['NUMERIC6'] = rs.fit_transform( df5_oot[['NUMERIC6']].values ) \n",
    "df5_oot['NUMERIC8'] = rs.fit_transform( df5_oot[['NUMERIC8']].values ) \n",
    "df5_oot['NUMERIC9'] = rs.fit_transform( df5_oot[['NUMERIC9']].values ) \n",
    "\n",
    "\n",
    "# Muitos outliers\n",
    "df5_oot['NUMERIC0'] = mms.fit_transform( df5_oot[['NUMERIC0']].values )\n",
    "df5_oot['NUMERIC5'] = mms.fit_transform( df5_oot[['NUMERIC5']].values )\n",
    "df5_oot['NUMERIC7'] = mms.fit_transform( df5_oot[['NUMERIC7']].values )\n",
    "df5_oot['DAY'] = mms.fit_transform( df5_oot[['DAY']].values )"
   ]
  },
  {
   "cell_type": "markdown",
   "id": "f1f3fa58",
   "metadata": {
    "heading_collapsed": true,
    "hidden": true
   },
   "source": [
    "## Transformation"
   ]
  },
  {
   "cell_type": "markdown",
   "id": "20f8cc5a",
   "metadata": {
    "heading_collapsed": true,
    "hidden": true
   },
   "source": [
    "### Encoding"
   ]
  },
  {
   "cell_type": "markdown",
   "id": "df60fe1f",
   "metadata": {
    "hidden": true
   },
   "source": [
    "- Vamos aplicar o encoding nas variáveis que eu tinha separado anteriormente no passo de Data Description"
   ]
  },
  {
   "cell_type": "code",
   "execution_count": 86,
   "id": "614b7aea",
   "metadata": {
    "ExecuteTime": {
     "end_time": "2023-01-19T01:05:33.124155Z",
     "start_time": "2023-01-19T01:05:25.316389Z"
    },
    "hidden": true
   },
   "outputs": [],
   "source": [
    "# Variáveis Ordinal encoding\n",
    "\n",
    "# Criando o dicionário de mapeamento\n",
    "mapping_ordinal = {'BAIXISSIMA': 1, 'BAIXA': 2, 'MEDIA': 3, 'ALTA': 4, 'ALTISSIMA': 5, 'MUITO PROXIMO': 1,\n",
    "                   'PROXIMO': 2, 'MEDIO': 3, 'LONGE': 4, 'MUITO LONGE':5}\n",
    "\n",
    "# Aplicando o mapeamento as colunas ORDINALS\n",
    "for numero_iloc, ignorar_cont in enumerate(cols_enc_ordinal):\n",
    "    df5_train[f'ORDINAL{numero_iloc}'] = df5_train[f'ORDINAL{numero_iloc}'].map(mapping_ordinal)\n",
    "for numero_iloc, ignorar_cont in enumerate(cols_enc_ordinal):\n",
    "    df5_test[f'ORDINAL{numero_iloc}'] = df5_test[f'ORDINAL{numero_iloc}'].map(mapping_ordinal)\n",
    "for numero_iloc, ignorar_cont in enumerate(cols_enc_ordinal):\n",
    "    df5_oot[f'ORDINAL{numero_iloc}'] = df5_oot[f'ORDINAL{numero_iloc}'].map(mapping_ordinal)"
   ]
  },
  {
   "cell_type": "code",
   "execution_count": 87,
   "id": "32829ad9",
   "metadata": {
    "ExecuteTime": {
     "end_time": "2023-01-19T01:05:34.175786Z",
     "start_time": "2023-01-19T01:05:33.125573Z"
    },
    "hidden": true
   },
   "outputs": [],
   "source": [
    "# Variáveis Label encoding\n",
    "\n",
    "# Instanciando a classe\n",
    "encoder = LabelEncoder()\n",
    "\n",
    "# Aplicando o mapeamento as colunas LABELS\n",
    "for ignorar, nome_label in enumerate(df5_train.columns.to_list()):\n",
    "    if 'LABEL' in nome_label:\n",
    "        df5_train[f'{nome_label}'] = encoder.fit_transform(df5_train[f'{nome_label}'])\n",
    "        \n",
    "for ignorar, nome_label in enumerate(df5_test.columns.to_list()):\n",
    "    if 'LABEL' in nome_label:\n",
    "        df5_test[f'{nome_label}'] = encoder.fit_transform(df5_test[f'{nome_label}']) \n",
    "        \n",
    "for ignorar, nome_label in enumerate(df5_train.columns.to_list()):\n",
    "    if 'LABEL' in nome_label:\n",
    "        df5_oot[f'{nome_label}'] = encoder.fit_transform(df5_oot[f'{nome_label}'])\n",
    "        \n",
    "df5_train['ESTADO'] = encoder.fit_transform(df5_train['ESTADO'])\n",
    "df5_test['ESTADO'] = encoder.fit_transform(df5_test['ESTADO'])\n",
    "df5_oot['ESTADO'] = encoder.fit_transform(df5_oot['ESTADO'])"
   ]
  },
  {
   "cell_type": "code",
   "execution_count": 88,
   "id": "234a5b6a",
   "metadata": {
    "ExecuteTime": {
     "end_time": "2023-01-19T01:05:34.220190Z",
     "start_time": "2023-01-19T01:05:34.177481Z"
    },
    "hidden": true
   },
   "outputs": [
    {
     "name": "stdout",
     "output_type": "stream",
     "text": [
      "['2.6.1']\n",
      "\n",
      "\n",
      "0         2.6.1\n",
      "1         2.6.1\n",
      "2         2.6.1\n",
      "3         2.6.1\n",
      "4         2.6.1\n",
      "          ...  \n",
      "101123    2.6.1\n",
      "101124    2.6.1\n",
      "101125    2.6.1\n",
      "101126    2.6.1\n",
      "101127    2.6.1\n",
      "Name: VERSAO, Length: 101128, dtype: object\n",
      "\n",
      "\n",
      "['IDADE', 'VAR6', 'VAR7', 'VAR11', 'VAR12', 'VAR13', 'VAR14', 'VAR15', 'VAR16', 'VAR17', 'VAR18', 'VAR19', 'VAR20', 'VAR21', 'VAR22', 'VAR23', 'VAR24', 'VAR25', 'VAR26', 'VAR27', 'VAR28', 'VAR29', 'VAR30', 'VAR37', 'VAR39', 'VAR40', 'VAR41', 'VAR42', 'VAR44', 'VAR46', 'VAR47', 'VAR141', 'VAR145', 'VAR146', 'TARGET', 'VAR147', 'ID']\n"
     ]
    }
   ],
   "source": [
    "analysis = df1_train.iloc[:,-2]\n",
    "\n",
    "print(analysis.dropna(axis=0).unique())\n",
    "\n",
    "print(f'\\n\\n{analysis}')\n",
    "\n",
    "print(f'\\n\\n{list(float_cols)+list(int_cols)}')"
   ]
  },
  {
   "cell_type": "code",
   "execution_count": 89,
   "id": "318ed294",
   "metadata": {
    "ExecuteTime": {
     "end_time": "2023-01-19T01:05:34.368043Z",
     "start_time": "2023-01-19T01:05:34.222533Z"
    },
    "hidden": true
   },
   "outputs": [],
   "source": [
    "# Encoding SEXO\n",
    "mapping_SEXO = {'F': 1, 'M': 0, 'I': 2}\n",
    "\n",
    "# Aplicando o mapeamento as colunas ORDINALS\n",
    "df5_train['SEXO'] = df5_train['SEXO'].map(mapping_SEXO)\n",
    "\n",
    "# Encoding SITUACAO\n",
    "mapping_SITUACAO = {'EMAIL INEXISTENTE#@#NOME INEXISTENTE#@#CEP INEXISTENTE': 0, 'NOME INEXISTENTE#@#EMAIL INEXISTENTE': 1, \n",
    "                'EMAIL INEXISTENTE': 2, 'OPERACAO REALIZADA COM SUCESSO': 3, 'CEP INEXISTENTE#@#EMAIL INEXISTENTE': 4,\n",
    "                'NOME INEXISTENTE': 5, 'NOME INEXISTENTE#@#CEP INEXISTENTE': 6}\n",
    "\n",
    "df5_train['SITUACAO'] = df5_train['SITUACAO'].map(mapping_SITUACAO)\n",
    "\n",
    "# Encoding VERSAO\n",
    "mapping_VERSAO = {'2.6.1': 0}\n",
    "\n",
    "df5_train['VERSAO'] = df5_train['VERSAO'].map(mapping_VERSAO)"
   ]
  },
  {
   "cell_type": "code",
   "execution_count": 90,
   "id": "afcd9640",
   "metadata": {
    "ExecuteTime": {
     "end_time": "2023-01-19T01:05:34.468619Z",
     "start_time": "2023-01-19T01:05:34.371006Z"
    },
    "hidden": true
   },
   "outputs": [],
   "source": [
    "# Encoding SEXO\n",
    "mapping_SEXO = {'F': 1, 'M': 0, 'I': 2}\n",
    "\n",
    "# Aplicando o mapeamento as colunas ORDINALS\n",
    "df5_test['SEXO'] = df5_test['SEXO'].map(mapping_SEXO)\n",
    "\n",
    "# Encoding SITUACAO\n",
    "mapping_SITUACAO = {'EMAIL INEXISTENTE#@#NOME INEXISTENTE#@#CEP INEXISTENTE': 0, 'NOME INEXISTENTE#@#EMAIL INEXISTENTE': 1, \n",
    "                'EMAIL INEXISTENTE': 2, 'OPERACAO REALIZADA COM SUCESSO': 3, 'CEP INEXISTENTE#@#EMAIL INEXISTENTE': 4,\n",
    "                'NOME INEXISTENTE': 5, 'NOME INEXISTENTE#@#CEP INEXISTENTE': 6}\n",
    "\n",
    "df5_test['SITUACAO'] = df5_test['SITUACAO'].map(mapping_SITUACAO)\n",
    "\n",
    "# Encoding VERSAO\n",
    "mapping_VERSAO = {'2.6.1': 0}\n",
    "\n",
    "df5_test['VERSAO'] = df5_test['VERSAO'].map(mapping_VERSAO)"
   ]
  },
  {
   "cell_type": "code",
   "execution_count": 91,
   "id": "67a5a799",
   "metadata": {
    "ExecuteTime": {
     "end_time": "2023-01-19T01:05:34.705032Z",
     "start_time": "2023-01-19T01:05:34.681661Z"
    },
    "hidden": true,
    "scrolled": true
   },
   "outputs": [],
   "source": [
    "# Encoding SEXO\n",
    "mapping_SEXO = {'F': 1, 'M': 0, 'I': 2}\n",
    "\n",
    "# Aplicando o mapeamento as colunas ORDINALS\n",
    "df5_oot['SEXO'] = df5_oot['SEXO'].map(mapping_SEXO)\n",
    "\n",
    "# Encoding SITUACAO\n",
    "mapping_SITUACAO = {'EMAIL INEXISTENTE#@#NOME INEXISTENTE#@#CEP INEXISTENTE': 0, 'NOME INEXISTENTE#@#EMAIL INEXISTENTE': 1, \n",
    "                'EMAIL INEXISTENTE': 2, 'OPERACAO REALIZADA COM SUCESSO': 3, 'CEP INEXISTENTE#@#EMAIL INEXISTENTE': 4,\n",
    "                'NOME INEXISTENTE': 5, 'NOME INEXISTENTE#@#CEP INEXISTENTE': 6}\n",
    "\n",
    "df5_oot['SITUACAO'] = df5_oot['SITUACAO'].map(mapping_SITUACAO)\n",
    "\n",
    "# Encoding VERSAO\n",
    "mapping_VERSAO = {'2.6.1': 0}\n",
    "\n",
    "df5_oot['VERSAO'] = df5_oot['VERSAO'].map(mapping_VERSAO)"
   ]
  },
  {
   "cell_type": "markdown",
   "id": "86e25ad1",
   "metadata": {
    "heading_collapsed": true,
    "hidden": true
   },
   "source": [
    "### Nature transformation(cycle transformation)"
   ]
  },
  {
   "cell_type": "code",
   "execution_count": 92,
   "id": "58fd33d4",
   "metadata": {
    "ExecuteTime": {
     "end_time": "2023-01-19T01:07:06.088670Z",
     "start_time": "2023-01-19T01:07:05.665895Z"
    },
    "hidden": true
   },
   "outputs": [
    {
     "data": {
      "text/html": [
       "<div>\n",
       "<style scoped>\n",
       "    .dataframe tbody tr th:only-of-type {\n",
       "        vertical-align: middle;\n",
       "    }\n",
       "\n",
       "    .dataframe tbody tr th {\n",
       "        vertical-align: top;\n",
       "    }\n",
       "\n",
       "    .dataframe thead th {\n",
       "        text-align: right;\n",
       "    }\n",
       "</style>\n",
       "<table border=\"1\" class=\"dataframe\">\n",
       "  <thead>\n",
       "    <tr style=\"text-align: right;\">\n",
       "      <th></th>\n",
       "      <th>REF_DATE</th>\n",
       "      <th>TARGET</th>\n",
       "      <th>SEXO</th>\n",
       "      <th>IDADE</th>\n",
       "      <th>ESTADO</th>\n",
       "      <th>NUMERIC0</th>\n",
       "      <th>NUMERIC1</th>\n",
       "      <th>LABEL2</th>\n",
       "      <th>ORDINAL0</th>\n",
       "      <th>NUMERIC2</th>\n",
       "      <th>...</th>\n",
       "      <th>ORDINAL74</th>\n",
       "      <th>ORDINAL75</th>\n",
       "      <th>NUMERIC8</th>\n",
       "      <th>LABEL3</th>\n",
       "      <th>NUMERIC9</th>\n",
       "      <th>SITUACAO</th>\n",
       "      <th>VERSAO</th>\n",
       "      <th>ID</th>\n",
       "      <th>DAY_SIN</th>\n",
       "      <th>DAY_COS</th>\n",
       "    </tr>\n",
       "  </thead>\n",
       "  <tbody>\n",
       "    <tr>\n",
       "      <th>0</th>\n",
       "      <td>2017-06-16 00:00:00+00:00</td>\n",
       "      <td>1</td>\n",
       "      <td>1</td>\n",
       "      <td>1.541667</td>\n",
       "      <td>25</td>\n",
       "      <td>0.261921</td>\n",
       "      <td>-0.020924</td>\n",
       "      <td>4</td>\n",
       "      <td>2</td>\n",
       "      <td>0.209302</td>\n",
       "      <td>...</td>\n",
       "      <td>4</td>\n",
       "      <td>1</td>\n",
       "      <td>7.947593</td>\n",
       "      <td>2</td>\n",
       "      <td>0.0</td>\n",
       "      <td>0</td>\n",
       "      <td>0</td>\n",
       "      <td>123791</td>\n",
       "      <td>0.139173</td>\n",
       "      <td>0.990268</td>\n",
       "    </tr>\n",
       "    <tr>\n",
       "      <th>1</th>\n",
       "      <td>2017-02-07 00:00:00+00:00</td>\n",
       "      <td>1</td>\n",
       "      <td>1</td>\n",
       "      <td>1.541667</td>\n",
       "      <td>25</td>\n",
       "      <td>0.271889</td>\n",
       "      <td>-0.021995</td>\n",
       "      <td>4</td>\n",
       "      <td>3</td>\n",
       "      <td>1.209302</td>\n",
       "      <td>...</td>\n",
       "      <td>3</td>\n",
       "      <td>1</td>\n",
       "      <td>-0.899623</td>\n",
       "      <td>4</td>\n",
       "      <td>0.0</td>\n",
       "      <td>0</td>\n",
       "      <td>0</td>\n",
       "      <td>246754</td>\n",
       "      <td>0.034899</td>\n",
       "      <td>0.999391</td>\n",
       "    </tr>\n",
       "    <tr>\n",
       "      <th>2</th>\n",
       "      <td>2017-03-11 00:00:00+00:00</td>\n",
       "      <td>1</td>\n",
       "      <td>1</td>\n",
       "      <td>1.541667</td>\n",
       "      <td>15</td>\n",
       "      <td>0.683117</td>\n",
       "      <td>1.063643</td>\n",
       "      <td>4</td>\n",
       "      <td>5</td>\n",
       "      <td>1.209302</td>\n",
       "      <td>...</td>\n",
       "      <td>5</td>\n",
       "      <td>1</td>\n",
       "      <td>-0.639978</td>\n",
       "      <td>4</td>\n",
       "      <td>0.0</td>\n",
       "      <td>1</td>\n",
       "      <td>0</td>\n",
       "      <td>169817</td>\n",
       "      <td>0.173648</td>\n",
       "      <td>0.984808</td>\n",
       "    </tr>\n",
       "    <tr>\n",
       "      <th>3</th>\n",
       "      <td>2017-04-28 00:00:00+00:00</td>\n",
       "      <td>1</td>\n",
       "      <td>1</td>\n",
       "      <td>1.083333</td>\n",
       "      <td>2</td>\n",
       "      <td>0.800064</td>\n",
       "      <td>-1.236682</td>\n",
       "      <td>4</td>\n",
       "      <td>3</td>\n",
       "      <td>-0.395349</td>\n",
       "      <td>...</td>\n",
       "      <td>3</td>\n",
       "      <td>4</td>\n",
       "      <td>-0.477645</td>\n",
       "      <td>4</td>\n",
       "      <td>0.0</td>\n",
       "      <td>2</td>\n",
       "      <td>0</td>\n",
       "      <td>26525</td>\n",
       "      <td>0.139173</td>\n",
       "      <td>0.990268</td>\n",
       "    </tr>\n",
       "    <tr>\n",
       "      <th>4</th>\n",
       "      <td>2017-02-15 00:00:00+00:00</td>\n",
       "      <td>1</td>\n",
       "      <td>0</td>\n",
       "      <td>-0.625000</td>\n",
       "      <td>0</td>\n",
       "      <td>0.618594</td>\n",
       "      <td>-1.951999</td>\n",
       "      <td>4</td>\n",
       "      <td>4</td>\n",
       "      <td>-0.197674</td>\n",
       "      <td>...</td>\n",
       "      <td>2</td>\n",
       "      <td>5</td>\n",
       "      <td>-0.214177</td>\n",
       "      <td>4</td>\n",
       "      <td>0.0</td>\n",
       "      <td>0</td>\n",
       "      <td>0</td>\n",
       "      <td>143859</td>\n",
       "      <td>0.069756</td>\n",
       "      <td>0.997564</td>\n",
       "    </tr>\n",
       "    <tr>\n",
       "      <th>...</th>\n",
       "      <td>...</td>\n",
       "      <td>...</td>\n",
       "      <td>...</td>\n",
       "      <td>...</td>\n",
       "      <td>...</td>\n",
       "      <td>...</td>\n",
       "      <td>...</td>\n",
       "      <td>...</td>\n",
       "      <td>...</td>\n",
       "      <td>...</td>\n",
       "      <td>...</td>\n",
       "      <td>...</td>\n",
       "      <td>...</td>\n",
       "      <td>...</td>\n",
       "      <td>...</td>\n",
       "      <td>...</td>\n",
       "      <td>...</td>\n",
       "      <td>...</td>\n",
       "      <td>...</td>\n",
       "      <td>...</td>\n",
       "      <td>...</td>\n",
       "    </tr>\n",
       "    <tr>\n",
       "      <th>101123</th>\n",
       "      <td>2017-03-07 00:00:00+00:00</td>\n",
       "      <td>1</td>\n",
       "      <td>0</td>\n",
       "      <td>-0.291667</td>\n",
       "      <td>16</td>\n",
       "      <td>0.749513</td>\n",
       "      <td>0.378846</td>\n",
       "      <td>4</td>\n",
       "      <td>5</td>\n",
       "      <td>0.209302</td>\n",
       "      <td>...</td>\n",
       "      <td>4</td>\n",
       "      <td>5</td>\n",
       "      <td>0.321502</td>\n",
       "      <td>4</td>\n",
       "      <td>0.0</td>\n",
       "      <td>0</td>\n",
       "      <td>0</td>\n",
       "      <td>248102</td>\n",
       "      <td>0.034899</td>\n",
       "      <td>0.999391</td>\n",
       "    </tr>\n",
       "    <tr>\n",
       "      <th>101124</th>\n",
       "      <td>2017-08-11 00:00:00+00:00</td>\n",
       "      <td>1</td>\n",
       "      <td>1</td>\n",
       "      <td>-0.833333</td>\n",
       "      <td>10</td>\n",
       "      <td>0.326127</td>\n",
       "      <td>0.213593</td>\n",
       "      <td>4</td>\n",
       "      <td>3</td>\n",
       "      <td>0.209302</td>\n",
       "      <td>...</td>\n",
       "      <td>2</td>\n",
       "      <td>5</td>\n",
       "      <td>-0.808232</td>\n",
       "      <td>4</td>\n",
       "      <td>0.0</td>\n",
       "      <td>0</td>\n",
       "      <td>0</td>\n",
       "      <td>217518</td>\n",
       "      <td>0.139173</td>\n",
       "      <td>0.990268</td>\n",
       "    </tr>\n",
       "    <tr>\n",
       "      <th>101125</th>\n",
       "      <td>2017-06-29 00:00:00+00:00</td>\n",
       "      <td>0</td>\n",
       "      <td>1</td>\n",
       "      <td>-0.750000</td>\n",
       "      <td>17</td>\n",
       "      <td>0.223036</td>\n",
       "      <td>-0.456453</td>\n",
       "      <td>4</td>\n",
       "      <td>4</td>\n",
       "      <td>0.209302</td>\n",
       "      <td>...</td>\n",
       "      <td>5</td>\n",
       "      <td>5</td>\n",
       "      <td>-0.808232</td>\n",
       "      <td>4</td>\n",
       "      <td>0.0</td>\n",
       "      <td>2</td>\n",
       "      <td>0</td>\n",
       "      <td>58018</td>\n",
       "      <td>0.104528</td>\n",
       "      <td>0.994522</td>\n",
       "    </tr>\n",
       "    <tr>\n",
       "      <th>101126</th>\n",
       "      <td>2017-04-22 00:00:00+00:00</td>\n",
       "      <td>1</td>\n",
       "      <td>1</td>\n",
       "      <td>-0.750000</td>\n",
       "      <td>4</td>\n",
       "      <td>0.541535</td>\n",
       "      <td>0.743897</td>\n",
       "      <td>4</td>\n",
       "      <td>4</td>\n",
       "      <td>0.209302</td>\n",
       "      <td>...</td>\n",
       "      <td>3</td>\n",
       "      <td>2</td>\n",
       "      <td>-0.734837</td>\n",
       "      <td>4</td>\n",
       "      <td>0.0</td>\n",
       "      <td>1</td>\n",
       "      <td>0</td>\n",
       "      <td>208563</td>\n",
       "      <td>0.173648</td>\n",
       "      <td>0.984808</td>\n",
       "    </tr>\n",
       "    <tr>\n",
       "      <th>101127</th>\n",
       "      <td>2017-05-29 00:00:00+00:00</td>\n",
       "      <td>1</td>\n",
       "      <td>1</td>\n",
       "      <td>-0.750000</td>\n",
       "      <td>25</td>\n",
       "      <td>0.265683</td>\n",
       "      <td>0.019422</td>\n",
       "      <td>4</td>\n",
       "      <td>3</td>\n",
       "      <td>0.209302</td>\n",
       "      <td>...</td>\n",
       "      <td>3</td>\n",
       "      <td>4</td>\n",
       "      <td>-0.846239</td>\n",
       "      <td>4</td>\n",
       "      <td>0.0</td>\n",
       "      <td>1</td>\n",
       "      <td>0</td>\n",
       "      <td>261313</td>\n",
       "      <td>0.000000</td>\n",
       "      <td>1.000000</td>\n",
       "    </tr>\n",
       "  </tbody>\n",
       "</table>\n",
       "<p>101128 rows × 115 columns</p>\n",
       "</div>"
      ],
      "text/plain": [
       "                        REF_DATE  TARGET  SEXO     IDADE  ESTADO  NUMERIC0  \\\n",
       "0      2017-06-16 00:00:00+00:00       1     1  1.541667      25  0.261921   \n",
       "1      2017-02-07 00:00:00+00:00       1     1  1.541667      25  0.271889   \n",
       "2      2017-03-11 00:00:00+00:00       1     1  1.541667      15  0.683117   \n",
       "3      2017-04-28 00:00:00+00:00       1     1  1.083333       2  0.800064   \n",
       "4      2017-02-15 00:00:00+00:00       1     0 -0.625000       0  0.618594   \n",
       "...                          ...     ...   ...       ...     ...       ...   \n",
       "101123 2017-03-07 00:00:00+00:00       1     0 -0.291667      16  0.749513   \n",
       "101124 2017-08-11 00:00:00+00:00       1     1 -0.833333      10  0.326127   \n",
       "101125 2017-06-29 00:00:00+00:00       0     1 -0.750000      17  0.223036   \n",
       "101126 2017-04-22 00:00:00+00:00       1     1 -0.750000       4  0.541535   \n",
       "101127 2017-05-29 00:00:00+00:00       1     1 -0.750000      25  0.265683   \n",
       "\n",
       "        NUMERIC1  LABEL2  ORDINAL0  NUMERIC2  ...  ORDINAL74  ORDINAL75  \\\n",
       "0      -0.020924       4         2  0.209302  ...          4          1   \n",
       "1      -0.021995       4         3  1.209302  ...          3          1   \n",
       "2       1.063643       4         5  1.209302  ...          5          1   \n",
       "3      -1.236682       4         3 -0.395349  ...          3          4   \n",
       "4      -1.951999       4         4 -0.197674  ...          2          5   \n",
       "...          ...     ...       ...       ...  ...        ...        ...   \n",
       "101123  0.378846       4         5  0.209302  ...          4          5   \n",
       "101124  0.213593       4         3  0.209302  ...          2          5   \n",
       "101125 -0.456453       4         4  0.209302  ...          5          5   \n",
       "101126  0.743897       4         4  0.209302  ...          3          2   \n",
       "101127  0.019422       4         3  0.209302  ...          3          4   \n",
       "\n",
       "        NUMERIC8  LABEL3  NUMERIC9  SITUACAO  VERSAO      ID   DAY_SIN  \\\n",
       "0       7.947593       2       0.0         0       0  123791  0.139173   \n",
       "1      -0.899623       4       0.0         0       0  246754  0.034899   \n",
       "2      -0.639978       4       0.0         1       0  169817  0.173648   \n",
       "3      -0.477645       4       0.0         2       0   26525  0.139173   \n",
       "4      -0.214177       4       0.0         0       0  143859  0.069756   \n",
       "...          ...     ...       ...       ...     ...     ...       ...   \n",
       "101123  0.321502       4       0.0         0       0  248102  0.034899   \n",
       "101124 -0.808232       4       0.0         0       0  217518  0.139173   \n",
       "101125 -0.808232       4       0.0         2       0   58018  0.104528   \n",
       "101126 -0.734837       4       0.0         1       0  208563  0.173648   \n",
       "101127 -0.846239       4       0.0         1       0  261313  0.000000   \n",
       "\n",
       "         DAY_COS  \n",
       "0       0.990268  \n",
       "1       0.999391  \n",
       "2       0.984808  \n",
       "3       0.990268  \n",
       "4       0.997564  \n",
       "...          ...  \n",
       "101123  0.999391  \n",
       "101124  0.990268  \n",
       "101125  0.994522  \n",
       "101126  0.984808  \n",
       "101127  1.000000  \n",
       "\n",
       "[101128 rows x 115 columns]"
      ]
     },
     "execution_count": 92,
     "metadata": {},
     "output_type": "execute_result"
    }
   ],
   "source": [
    "# day\n",
    "df5_train['DAY_SIN'] = df5_train['DAY'].apply( lambda x: np.sin( x * ( 2 * np.pi/30 ) ) )\n",
    "df5_train['DAY_COS'] = df5_train['DAY'].apply( lambda x: np.cos( x * ( 2 * np.pi/30 ) ) )\n",
    "\n",
    "df5_train.drop(columns='DAY')"
   ]
  },
  {
   "cell_type": "code",
   "execution_count": 93,
   "id": "d3acbce4",
   "metadata": {
    "ExecuteTime": {
     "end_time": "2023-01-19T01:07:11.120639Z",
     "start_time": "2023-01-19T01:07:10.901845Z"
    },
    "hidden": true
   },
   "outputs": [
    {
     "data": {
      "text/html": [
       "<div>\n",
       "<style scoped>\n",
       "    .dataframe tbody tr th:only-of-type {\n",
       "        vertical-align: middle;\n",
       "    }\n",
       "\n",
       "    .dataframe tbody tr th {\n",
       "        vertical-align: top;\n",
       "    }\n",
       "\n",
       "    .dataframe thead th {\n",
       "        text-align: right;\n",
       "    }\n",
       "</style>\n",
       "<table border=\"1\" class=\"dataframe\">\n",
       "  <thead>\n",
       "    <tr style=\"text-align: right;\">\n",
       "      <th></th>\n",
       "      <th>REF_DATE</th>\n",
       "      <th>TARGET</th>\n",
       "      <th>SEXO</th>\n",
       "      <th>IDADE</th>\n",
       "      <th>ESTADO</th>\n",
       "      <th>NUMERIC0</th>\n",
       "      <th>NUMERIC1</th>\n",
       "      <th>LABEL2</th>\n",
       "      <th>ORDINAL0</th>\n",
       "      <th>NUMERIC2</th>\n",
       "      <th>...</th>\n",
       "      <th>ORDINAL74</th>\n",
       "      <th>ORDINAL75</th>\n",
       "      <th>NUMERIC8</th>\n",
       "      <th>LABEL3</th>\n",
       "      <th>NUMERIC9</th>\n",
       "      <th>SITUACAO</th>\n",
       "      <th>VERSAO</th>\n",
       "      <th>ID</th>\n",
       "      <th>DAY_SIN</th>\n",
       "      <th>DAY_COS</th>\n",
       "    </tr>\n",
       "  </thead>\n",
       "  <tbody>\n",
       "    <tr>\n",
       "      <th>0</th>\n",
       "      <td>2017-03-25 00:00:00+00:00</td>\n",
       "      <td>1</td>\n",
       "      <td>0</td>\n",
       "      <td>0.181818</td>\n",
       "      <td>17</td>\n",
       "      <td>0.210521</td>\n",
       "      <td>-0.245271</td>\n",
       "      <td>4</td>\n",
       "      <td>3</td>\n",
       "      <td>0.406977</td>\n",
       "      <td>...</td>\n",
       "      <td>3</td>\n",
       "      <td>1</td>\n",
       "      <td>7.760279</td>\n",
       "      <td>2</td>\n",
       "      <td>-2.0</td>\n",
       "      <td>3.0</td>\n",
       "      <td>0</td>\n",
       "      <td>82396</td>\n",
       "      <td>0.173648</td>\n",
       "      <td>0.984808</td>\n",
       "    </tr>\n",
       "    <tr>\n",
       "      <th>1</th>\n",
       "      <td>2017-08-31 00:00:00+00:00</td>\n",
       "      <td>1</td>\n",
       "      <td>1</td>\n",
       "      <td>-0.363636</td>\n",
       "      <td>22</td>\n",
       "      <td>0.089509</td>\n",
       "      <td>-0.436161</td>\n",
       "      <td>4</td>\n",
       "      <td>5</td>\n",
       "      <td>4.813953</td>\n",
       "      <td>...</td>\n",
       "      <td>4</td>\n",
       "      <td>1</td>\n",
       "      <td>-0.377357</td>\n",
       "      <td>4</td>\n",
       "      <td>0.0</td>\n",
       "      <td>0.0</td>\n",
       "      <td>0</td>\n",
       "      <td>302199</td>\n",
       "      <td>0.104528</td>\n",
       "      <td>0.994522</td>\n",
       "    </tr>\n",
       "    <tr>\n",
       "      <th>2</th>\n",
       "      <td>2017-03-30 00:00:00+00:00</td>\n",
       "      <td>1</td>\n",
       "      <td>0</td>\n",
       "      <td>0.136364</td>\n",
       "      <td>25</td>\n",
       "      <td>0.261253</td>\n",
       "      <td>-0.004715</td>\n",
       "      <td>4</td>\n",
       "      <td>4</td>\n",
       "      <td>0.802326</td>\n",
       "      <td>...</td>\n",
       "      <td>3</td>\n",
       "      <td>3</td>\n",
       "      <td>0.622643</td>\n",
       "      <td>4</td>\n",
       "      <td>0.0</td>\n",
       "      <td>2.0</td>\n",
       "      <td>0</td>\n",
       "      <td>216668</td>\n",
       "      <td>0.104528</td>\n",
       "      <td>0.994522</td>\n",
       "    </tr>\n",
       "    <tr>\n",
       "      <th>3</th>\n",
       "      <td>2017-08-24 00:00:00+00:00</td>\n",
       "      <td>1</td>\n",
       "      <td>1</td>\n",
       "      <td>1.136364</td>\n",
       "      <td>25</td>\n",
       "      <td>0.264585</td>\n",
       "      <td>-0.019748</td>\n",
       "      <td>4</td>\n",
       "      <td>3</td>\n",
       "      <td>2.011628</td>\n",
       "      <td>...</td>\n",
       "      <td>2</td>\n",
       "      <td>1</td>\n",
       "      <td>-0.308117</td>\n",
       "      <td>4</td>\n",
       "      <td>0.0</td>\n",
       "      <td>2.0</td>\n",
       "      <td>0</td>\n",
       "      <td>65194</td>\n",
       "      <td>0.104528</td>\n",
       "      <td>0.994522</td>\n",
       "    </tr>\n",
       "    <tr>\n",
       "      <th>4</th>\n",
       "      <td>2017-01-14 00:00:00+00:00</td>\n",
       "      <td>1</td>\n",
       "      <td>0</td>\n",
       "      <td>-0.818182</td>\n",
       "      <td>2</td>\n",
       "      <td>0.797150</td>\n",
       "      <td>-1.089902</td>\n",
       "      <td>4</td>\n",
       "      <td>1</td>\n",
       "      <td>-0.395349</td>\n",
       "      <td>...</td>\n",
       "      <td>3</td>\n",
       "      <td>5</td>\n",
       "      <td>-0.187188</td>\n",
       "      <td>4</td>\n",
       "      <td>0.0</td>\n",
       "      <td>0.0</td>\n",
       "      <td>0</td>\n",
       "      <td>108711</td>\n",
       "      <td>0.173648</td>\n",
       "      <td>0.984808</td>\n",
       "    </tr>\n",
       "    <tr>\n",
       "      <th>...</th>\n",
       "      <td>...</td>\n",
       "      <td>...</td>\n",
       "      <td>...</td>\n",
       "      <td>...</td>\n",
       "      <td>...</td>\n",
       "      <td>...</td>\n",
       "      <td>...</td>\n",
       "      <td>...</td>\n",
       "      <td>...</td>\n",
       "      <td>...</td>\n",
       "      <td>...</td>\n",
       "      <td>...</td>\n",
       "      <td>...</td>\n",
       "      <td>...</td>\n",
       "      <td>...</td>\n",
       "      <td>...</td>\n",
       "      <td>...</td>\n",
       "      <td>...</td>\n",
       "      <td>...</td>\n",
       "      <td>...</td>\n",
       "      <td>...</td>\n",
       "    </tr>\n",
       "    <tr>\n",
       "      <th>49805</th>\n",
       "      <td>2017-03-13 00:00:00+00:00</td>\n",
       "      <td>1</td>\n",
       "      <td>1</td>\n",
       "      <td>-0.045455</td>\n",
       "      <td>6</td>\n",
       "      <td>0.459414</td>\n",
       "      <td>-0.130392</td>\n",
       "      <td>4</td>\n",
       "      <td>3</td>\n",
       "      <td>0.406977</td>\n",
       "      <td>...</td>\n",
       "      <td>4</td>\n",
       "      <td>4</td>\n",
       "      <td>-0.111101</td>\n",
       "      <td>4</td>\n",
       "      <td>0.0</td>\n",
       "      <td>2.0</td>\n",
       "      <td>0</td>\n",
       "      <td>99029</td>\n",
       "      <td>0.000000</td>\n",
       "      <td>1.000000</td>\n",
       "    </tr>\n",
       "    <tr>\n",
       "      <th>49806</th>\n",
       "      <td>2017-07-05 00:00:00+00:00</td>\n",
       "      <td>1</td>\n",
       "      <td>0</td>\n",
       "      <td>0.772727</td>\n",
       "      <td>5</td>\n",
       "      <td>0.779777</td>\n",
       "      <td>0.737254</td>\n",
       "      <td>4</td>\n",
       "      <td>3</td>\n",
       "      <td>0.406977</td>\n",
       "      <td>...</td>\n",
       "      <td>2</td>\n",
       "      <td>4</td>\n",
       "      <td>0.640948</td>\n",
       "      <td>4</td>\n",
       "      <td>0.0</td>\n",
       "      <td>2.0</td>\n",
       "      <td>0</td>\n",
       "      <td>165533</td>\n",
       "      <td>0.069756</td>\n",
       "      <td>0.997564</td>\n",
       "    </tr>\n",
       "    <tr>\n",
       "      <th>49807</th>\n",
       "      <td>2017-04-04 00:00:00+00:00</td>\n",
       "      <td>0</td>\n",
       "      <td>1</td>\n",
       "      <td>0.090909</td>\n",
       "      <td>14</td>\n",
       "      <td>0.692627</td>\n",
       "      <td>1.075698</td>\n",
       "      <td>4</td>\n",
       "      <td>4</td>\n",
       "      <td>-0.395349</td>\n",
       "      <td>...</td>\n",
       "      <td>2</td>\n",
       "      <td>4</td>\n",
       "      <td>8.787694</td>\n",
       "      <td>2</td>\n",
       "      <td>0.0</td>\n",
       "      <td>2.0</td>\n",
       "      <td>0</td>\n",
       "      <td>24448</td>\n",
       "      <td>0.034899</td>\n",
       "      <td>0.999391</td>\n",
       "    </tr>\n",
       "    <tr>\n",
       "      <th>49808</th>\n",
       "      <td>2017-08-28 00:00:00+00:00</td>\n",
       "      <td>1</td>\n",
       "      <td>1</td>\n",
       "      <td>0.727273</td>\n",
       "      <td>0</td>\n",
       "      <td>0.641523</td>\n",
       "      <td>-2.029541</td>\n",
       "      <td>4</td>\n",
       "      <td>5</td>\n",
       "      <td>-0.395349</td>\n",
       "      <td>...</td>\n",
       "      <td>5</td>\n",
       "      <td>5</td>\n",
       "      <td>0.499885</td>\n",
       "      <td>4</td>\n",
       "      <td>0.0</td>\n",
       "      <td>2.0</td>\n",
       "      <td>0</td>\n",
       "      <td>77508</td>\n",
       "      <td>0.000000</td>\n",
       "      <td>1.000000</td>\n",
       "    </tr>\n",
       "    <tr>\n",
       "      <th>49809</th>\n",
       "      <td>2017-08-08 00:00:00+00:00</td>\n",
       "      <td>1</td>\n",
       "      <td>0</td>\n",
       "      <td>-0.181818</td>\n",
       "      <td>25</td>\n",
       "      <td>0.313118</td>\n",
       "      <td>-0.165320</td>\n",
       "      <td>4</td>\n",
       "      <td>2</td>\n",
       "      <td>0.406977</td>\n",
       "      <td>...</td>\n",
       "      <td>3</td>\n",
       "      <td>5</td>\n",
       "      <td>3.612326</td>\n",
       "      <td>3</td>\n",
       "      <td>0.0</td>\n",
       "      <td>2.0</td>\n",
       "      <td>0</td>\n",
       "      <td>210321</td>\n",
       "      <td>0.034899</td>\n",
       "      <td>0.999391</td>\n",
       "    </tr>\n",
       "  </tbody>\n",
       "</table>\n",
       "<p>49810 rows × 115 columns</p>\n",
       "</div>"
      ],
      "text/plain": [
       "                       REF_DATE  TARGET  SEXO     IDADE  ESTADO  NUMERIC0  \\\n",
       "0     2017-03-25 00:00:00+00:00       1     0  0.181818      17  0.210521   \n",
       "1     2017-08-31 00:00:00+00:00       1     1 -0.363636      22  0.089509   \n",
       "2     2017-03-30 00:00:00+00:00       1     0  0.136364      25  0.261253   \n",
       "3     2017-08-24 00:00:00+00:00       1     1  1.136364      25  0.264585   \n",
       "4     2017-01-14 00:00:00+00:00       1     0 -0.818182       2  0.797150   \n",
       "...                         ...     ...   ...       ...     ...       ...   \n",
       "49805 2017-03-13 00:00:00+00:00       1     1 -0.045455       6  0.459414   \n",
       "49806 2017-07-05 00:00:00+00:00       1     0  0.772727       5  0.779777   \n",
       "49807 2017-04-04 00:00:00+00:00       0     1  0.090909      14  0.692627   \n",
       "49808 2017-08-28 00:00:00+00:00       1     1  0.727273       0  0.641523   \n",
       "49809 2017-08-08 00:00:00+00:00       1     0 -0.181818      25  0.313118   \n",
       "\n",
       "       NUMERIC1  LABEL2  ORDINAL0  NUMERIC2  ...  ORDINAL74  ORDINAL75  \\\n",
       "0     -0.245271       4         3  0.406977  ...          3          1   \n",
       "1     -0.436161       4         5  4.813953  ...          4          1   \n",
       "2     -0.004715       4         4  0.802326  ...          3          3   \n",
       "3     -0.019748       4         3  2.011628  ...          2          1   \n",
       "4     -1.089902       4         1 -0.395349  ...          3          5   \n",
       "...         ...     ...       ...       ...  ...        ...        ...   \n",
       "49805 -0.130392       4         3  0.406977  ...          4          4   \n",
       "49806  0.737254       4         3  0.406977  ...          2          4   \n",
       "49807  1.075698       4         4 -0.395349  ...          2          4   \n",
       "49808 -2.029541       4         5 -0.395349  ...          5          5   \n",
       "49809 -0.165320       4         2  0.406977  ...          3          5   \n",
       "\n",
       "       NUMERIC8  LABEL3  NUMERIC9  SITUACAO  VERSAO      ID   DAY_SIN  \\\n",
       "0      7.760279       2      -2.0       3.0       0   82396  0.173648   \n",
       "1     -0.377357       4       0.0       0.0       0  302199  0.104528   \n",
       "2      0.622643       4       0.0       2.0       0  216668  0.104528   \n",
       "3     -0.308117       4       0.0       2.0       0   65194  0.104528   \n",
       "4     -0.187188       4       0.0       0.0       0  108711  0.173648   \n",
       "...         ...     ...       ...       ...     ...     ...       ...   \n",
       "49805 -0.111101       4       0.0       2.0       0   99029  0.000000   \n",
       "49806  0.640948       4       0.0       2.0       0  165533  0.069756   \n",
       "49807  8.787694       2       0.0       2.0       0   24448  0.034899   \n",
       "49808  0.499885       4       0.0       2.0       0   77508  0.000000   \n",
       "49809  3.612326       3       0.0       2.0       0  210321  0.034899   \n",
       "\n",
       "        DAY_COS  \n",
       "0      0.984808  \n",
       "1      0.994522  \n",
       "2      0.994522  \n",
       "3      0.994522  \n",
       "4      0.984808  \n",
       "...         ...  \n",
       "49805  1.000000  \n",
       "49806  0.997564  \n",
       "49807  0.999391  \n",
       "49808  1.000000  \n",
       "49809  0.999391  \n",
       "\n",
       "[49810 rows x 115 columns]"
      ]
     },
     "execution_count": 93,
     "metadata": {},
     "output_type": "execute_result"
    }
   ],
   "source": [
    "# day\n",
    "df5_test['DAY_SIN'] = df5_test['DAY'].apply( lambda x: np.sin( x * ( 2 * np.pi/30 ) ) )\n",
    "df5_test['DAY_COS'] = df5_test['DAY'].apply( lambda x: np.cos( x * ( 2 * np.pi/30 ) ) )\n",
    "\n",
    "df5_test.drop(columns='DAY')"
   ]
  },
  {
   "cell_type": "code",
   "execution_count": 94,
   "id": "97228cb4",
   "metadata": {
    "ExecuteTime": {
     "end_time": "2023-01-19T01:07:12.184166Z",
     "start_time": "2023-01-19T01:07:11.875375Z"
    },
    "hidden": true
   },
   "outputs": [
    {
     "data": {
      "text/html": [
       "<div>\n",
       "<style scoped>\n",
       "    .dataframe tbody tr th:only-of-type {\n",
       "        vertical-align: middle;\n",
       "    }\n",
       "\n",
       "    .dataframe tbody tr th {\n",
       "        vertical-align: top;\n",
       "    }\n",
       "\n",
       "    .dataframe thead th {\n",
       "        text-align: right;\n",
       "    }\n",
       "</style>\n",
       "<table border=\"1\" class=\"dataframe\">\n",
       "  <thead>\n",
       "    <tr style=\"text-align: right;\">\n",
       "      <th></th>\n",
       "      <th>REF_DATE</th>\n",
       "      <th>SEXO</th>\n",
       "      <th>IDADE</th>\n",
       "      <th>ESTADO</th>\n",
       "      <th>NUMERIC0</th>\n",
       "      <th>NUMERIC1</th>\n",
       "      <th>LABEL2</th>\n",
       "      <th>ORDINAL0</th>\n",
       "      <th>NUMERIC2</th>\n",
       "      <th>NUMERIC3</th>\n",
       "      <th>...</th>\n",
       "      <th>ORDINAL74</th>\n",
       "      <th>ORDINAL75</th>\n",
       "      <th>NUMERIC8</th>\n",
       "      <th>LABEL3</th>\n",
       "      <th>NUMERIC9</th>\n",
       "      <th>SITUACAO</th>\n",
       "      <th>VERSAO</th>\n",
       "      <th>ID</th>\n",
       "      <th>DAY_SIN</th>\n",
       "      <th>DAY_COS</th>\n",
       "    </tr>\n",
       "  </thead>\n",
       "  <tbody>\n",
       "    <tr>\n",
       "      <th>0</th>\n",
       "      <td>2017-12-26 00:00:00+00:00</td>\n",
       "      <td>1</td>\n",
       "      <td>1.260870</td>\n",
       "      <td>13</td>\n",
       "      <td>0.848029</td>\n",
       "      <td>-0.113217</td>\n",
       "      <td>4</td>\n",
       "      <td>4</td>\n",
       "      <td>NaN</td>\n",
       "      <td>1.016679</td>\n",
       "      <td>...</td>\n",
       "      <td>3</td>\n",
       "      <td>1</td>\n",
       "      <td>1.712592</td>\n",
       "      <td>3</td>\n",
       "      <td>0.0</td>\n",
       "      <td>0.0</td>\n",
       "      <td>0</td>\n",
       "      <td>78337</td>\n",
       "      <td>0.034899</td>\n",
       "      <td>0.999391</td>\n",
       "    </tr>\n",
       "    <tr>\n",
       "      <th>1</th>\n",
       "      <td>2017-12-03 00:00:00+00:00</td>\n",
       "      <td>1</td>\n",
       "      <td>0.173913</td>\n",
       "      <td>13</td>\n",
       "      <td>0.845008</td>\n",
       "      <td>-0.165346</td>\n",
       "      <td>4</td>\n",
       "      <td>2</td>\n",
       "      <td>-0.197674</td>\n",
       "      <td>-0.321863</td>\n",
       "      <td>...</td>\n",
       "      <td>4</td>\n",
       "      <td>4</td>\n",
       "      <td>-0.330204</td>\n",
       "      <td>4</td>\n",
       "      <td>0.0</td>\n",
       "      <td>2.0</td>\n",
       "      <td>0</td>\n",
       "      <td>264727</td>\n",
       "      <td>0.207912</td>\n",
       "      <td>0.978148</td>\n",
       "    </tr>\n",
       "    <tr>\n",
       "      <th>2</th>\n",
       "      <td>2017-10-22 00:00:00+00:00</td>\n",
       "      <td>0</td>\n",
       "      <td>-0.434783</td>\n",
       "      <td>25</td>\n",
       "      <td>0.261647</td>\n",
       "      <td>-0.004080</td>\n",
       "      <td>4</td>\n",
       "      <td>3</td>\n",
       "      <td>0.000000</td>\n",
       "      <td>-1.201966</td>\n",
       "      <td>...</td>\n",
       "      <td>3</td>\n",
       "      <td>3</td>\n",
       "      <td>-0.181381</td>\n",
       "      <td>4</td>\n",
       "      <td>0.0</td>\n",
       "      <td>0.0</td>\n",
       "      <td>0</td>\n",
       "      <td>246698</td>\n",
       "      <td>0.207912</td>\n",
       "      <td>0.978148</td>\n",
       "    </tr>\n",
       "    <tr>\n",
       "      <th>3</th>\n",
       "      <td>2017-12-27 00:00:00+00:00</td>\n",
       "      <td>1</td>\n",
       "      <td>1.173913</td>\n",
       "      <td>17</td>\n",
       "      <td>0.265729</td>\n",
       "      <td>-0.487651</td>\n",
       "      <td>4</td>\n",
       "      <td>4</td>\n",
       "      <td>1.813953</td>\n",
       "      <td>-0.997295</td>\n",
       "      <td>...</td>\n",
       "      <td>2</td>\n",
       "      <td>1</td>\n",
       "      <td>-0.209112</td>\n",
       "      <td>4</td>\n",
       "      <td>0.0</td>\n",
       "      <td>2.0</td>\n",
       "      <td>0</td>\n",
       "      <td>199912</td>\n",
       "      <td>0.069756</td>\n",
       "      <td>0.997564</td>\n",
       "    </tr>\n",
       "    <tr>\n",
       "      <th>4</th>\n",
       "      <td>2017-10-06 00:00:00+00:00</td>\n",
       "      <td>1</td>\n",
       "      <td>1.739130</td>\n",
       "      <td>18</td>\n",
       "      <td>0.282053</td>\n",
       "      <td>0.286696</td>\n",
       "      <td>4</td>\n",
       "      <td>3</td>\n",
       "      <td>-0.395349</td>\n",
       "      <td>1.069253</td>\n",
       "      <td>...</td>\n",
       "      <td>4</td>\n",
       "      <td>4</td>\n",
       "      <td>1.386185</td>\n",
       "      <td>3</td>\n",
       "      <td>0.0</td>\n",
       "      <td>2.0</td>\n",
       "      <td>0</td>\n",
       "      <td>107476</td>\n",
       "      <td>0.139173</td>\n",
       "      <td>0.990268</td>\n",
       "    </tr>\n",
       "    <tr>\n",
       "      <th>...</th>\n",
       "      <td>...</td>\n",
       "      <td>...</td>\n",
       "      <td>...</td>\n",
       "      <td>...</td>\n",
       "      <td>...</td>\n",
       "      <td>...</td>\n",
       "      <td>...</td>\n",
       "      <td>...</td>\n",
       "      <td>...</td>\n",
       "      <td>...</td>\n",
       "      <td>...</td>\n",
       "      <td>...</td>\n",
       "      <td>...</td>\n",
       "      <td>...</td>\n",
       "      <td>...</td>\n",
       "      <td>...</td>\n",
       "      <td>...</td>\n",
       "      <td>...</td>\n",
       "      <td>...</td>\n",
       "      <td>...</td>\n",
       "      <td>...</td>\n",
       "    </tr>\n",
       "    <tr>\n",
       "      <th>80464</th>\n",
       "      <td>2017-11-24 00:00:00+00:00</td>\n",
       "      <td>0</td>\n",
       "      <td>1.347826</td>\n",
       "      <td>13</td>\n",
       "      <td>0.844649</td>\n",
       "      <td>-0.164028</td>\n",
       "      <td>4</td>\n",
       "      <td>3</td>\n",
       "      <td>0.802326</td>\n",
       "      <td>-0.224962</td>\n",
       "      <td>...</td>\n",
       "      <td>2</td>\n",
       "      <td>3</td>\n",
       "      <td>3.705692</td>\n",
       "      <td>3</td>\n",
       "      <td>0.0</td>\n",
       "      <td>0.0</td>\n",
       "      <td>0</td>\n",
       "      <td>116328</td>\n",
       "      <td>0.139173</td>\n",
       "      <td>0.990268</td>\n",
       "    </tr>\n",
       "    <tr>\n",
       "      <th>80465</th>\n",
       "      <td>2017-09-16 00:00:00+00:00</td>\n",
       "      <td>0</td>\n",
       "      <td>0.086957</td>\n",
       "      <td>7</td>\n",
       "      <td>0.377148</td>\n",
       "      <td>0.616837</td>\n",
       "      <td>4</td>\n",
       "      <td>5</td>\n",
       "      <td>0.000000</td>\n",
       "      <td>-0.405629</td>\n",
       "      <td>...</td>\n",
       "      <td>5</td>\n",
       "      <td>5</td>\n",
       "      <td>0.398091</td>\n",
       "      <td>4</td>\n",
       "      <td>0.0</td>\n",
       "      <td>0.0</td>\n",
       "      <td>0</td>\n",
       "      <td>317690</td>\n",
       "      <td>0.173648</td>\n",
       "      <td>0.984808</td>\n",
       "    </tr>\n",
       "    <tr>\n",
       "      <th>80466</th>\n",
       "      <td>2017-11-13 00:00:00+00:00</td>\n",
       "      <td>1</td>\n",
       "      <td>-0.478261</td>\n",
       "      <td>15</td>\n",
       "      <td>0.657389</td>\n",
       "      <td>0.840275</td>\n",
       "      <td>4</td>\n",
       "      <td>5</td>\n",
       "      <td>0.000000</td>\n",
       "      <td>0.008436</td>\n",
       "      <td>...</td>\n",
       "      <td>5</td>\n",
       "      <td>5</td>\n",
       "      <td>-0.764822</td>\n",
       "      <td>4</td>\n",
       "      <td>0.0</td>\n",
       "      <td>0.0</td>\n",
       "      <td>0</td>\n",
       "      <td>276488</td>\n",
       "      <td>0.000000</td>\n",
       "      <td>1.000000</td>\n",
       "    </tr>\n",
       "    <tr>\n",
       "      <th>80467</th>\n",
       "      <td>2017-12-01 00:00:00+00:00</td>\n",
       "      <td>1</td>\n",
       "      <td>0.695652</td>\n",
       "      <td>10</td>\n",
       "      <td>0.345683</td>\n",
       "      <td>0.298984</td>\n",
       "      <td>4</td>\n",
       "      <td>5</td>\n",
       "      <td>0.209302</td>\n",
       "      <td>0.224667</td>\n",
       "      <td>...</td>\n",
       "      <td>4</td>\n",
       "      <td>1</td>\n",
       "      <td>-0.029329</td>\n",
       "      <td>4</td>\n",
       "      <td>0.0</td>\n",
       "      <td>2.0</td>\n",
       "      <td>0</td>\n",
       "      <td>152851</td>\n",
       "      <td>0.139173</td>\n",
       "      <td>0.990268</td>\n",
       "    </tr>\n",
       "    <tr>\n",
       "      <th>80468</th>\n",
       "      <td>2017-10-26 00:00:00+00:00</td>\n",
       "      <td>0</td>\n",
       "      <td>-0.739130</td>\n",
       "      <td>13</td>\n",
       "      <td>0.783481</td>\n",
       "      <td>-0.277151</td>\n",
       "      <td>4</td>\n",
       "      <td>3</td>\n",
       "      <td>0.209302</td>\n",
       "      <td>-0.100084</td>\n",
       "      <td>...</td>\n",
       "      <td>4</td>\n",
       "      <td>5</td>\n",
       "      <td>-0.378390</td>\n",
       "      <td>4</td>\n",
       "      <td>0.0</td>\n",
       "      <td>0.0</td>\n",
       "      <td>0</td>\n",
       "      <td>63164</td>\n",
       "      <td>0.104528</td>\n",
       "      <td>0.994522</td>\n",
       "    </tr>\n",
       "  </tbody>\n",
       "</table>\n",
       "<p>80469 rows × 114 columns</p>\n",
       "</div>"
      ],
      "text/plain": [
       "                       REF_DATE  SEXO     IDADE  ESTADO  NUMERIC0  NUMERIC1  \\\n",
       "0     2017-12-26 00:00:00+00:00     1  1.260870      13  0.848029 -0.113217   \n",
       "1     2017-12-03 00:00:00+00:00     1  0.173913      13  0.845008 -0.165346   \n",
       "2     2017-10-22 00:00:00+00:00     0 -0.434783      25  0.261647 -0.004080   \n",
       "3     2017-12-27 00:00:00+00:00     1  1.173913      17  0.265729 -0.487651   \n",
       "4     2017-10-06 00:00:00+00:00     1  1.739130      18  0.282053  0.286696   \n",
       "...                         ...   ...       ...     ...       ...       ...   \n",
       "80464 2017-11-24 00:00:00+00:00     0  1.347826      13  0.844649 -0.164028   \n",
       "80465 2017-09-16 00:00:00+00:00     0  0.086957       7  0.377148  0.616837   \n",
       "80466 2017-11-13 00:00:00+00:00     1 -0.478261      15  0.657389  0.840275   \n",
       "80467 2017-12-01 00:00:00+00:00     1  0.695652      10  0.345683  0.298984   \n",
       "80468 2017-10-26 00:00:00+00:00     0 -0.739130      13  0.783481 -0.277151   \n",
       "\n",
       "       LABEL2  ORDINAL0  NUMERIC2  NUMERIC3  ...  ORDINAL74  ORDINAL75  \\\n",
       "0           4         4       NaN  1.016679  ...          3          1   \n",
       "1           4         2 -0.197674 -0.321863  ...          4          4   \n",
       "2           4         3  0.000000 -1.201966  ...          3          3   \n",
       "3           4         4  1.813953 -0.997295  ...          2          1   \n",
       "4           4         3 -0.395349  1.069253  ...          4          4   \n",
       "...       ...       ...       ...       ...  ...        ...        ...   \n",
       "80464       4         3  0.802326 -0.224962  ...          2          3   \n",
       "80465       4         5  0.000000 -0.405629  ...          5          5   \n",
       "80466       4         5  0.000000  0.008436  ...          5          5   \n",
       "80467       4         5  0.209302  0.224667  ...          4          1   \n",
       "80468       4         3  0.209302 -0.100084  ...          4          5   \n",
       "\n",
       "       NUMERIC8  LABEL3  NUMERIC9  SITUACAO  VERSAO      ID   DAY_SIN  \\\n",
       "0      1.712592       3       0.0       0.0       0   78337  0.034899   \n",
       "1     -0.330204       4       0.0       2.0       0  264727  0.207912   \n",
       "2     -0.181381       4       0.0       0.0       0  246698  0.207912   \n",
       "3     -0.209112       4       0.0       2.0       0  199912  0.069756   \n",
       "4      1.386185       3       0.0       2.0       0  107476  0.139173   \n",
       "...         ...     ...       ...       ...     ...     ...       ...   \n",
       "80464  3.705692       3       0.0       0.0       0  116328  0.139173   \n",
       "80465  0.398091       4       0.0       0.0       0  317690  0.173648   \n",
       "80466 -0.764822       4       0.0       0.0       0  276488  0.000000   \n",
       "80467 -0.029329       4       0.0       2.0       0  152851  0.139173   \n",
       "80468 -0.378390       4       0.0       0.0       0   63164  0.104528   \n",
       "\n",
       "        DAY_COS  \n",
       "0      0.999391  \n",
       "1      0.978148  \n",
       "2      0.978148  \n",
       "3      0.997564  \n",
       "4      0.990268  \n",
       "...         ...  \n",
       "80464  0.990268  \n",
       "80465  0.984808  \n",
       "80466  1.000000  \n",
       "80467  0.990268  \n",
       "80468  0.994522  \n",
       "\n",
       "[80469 rows x 114 columns]"
      ]
     },
     "execution_count": 94,
     "metadata": {},
     "output_type": "execute_result"
    }
   ],
   "source": [
    "# day\n",
    "df5_oot['DAY_SIN'] = df5_oot['DAY'].apply( lambda x: np.sin( x * ( 2 * np.pi/30 ) ) )\n",
    "df5_oot['DAY_COS'] = df5_oot['DAY'].apply( lambda x: np.cos( x * ( 2 * np.pi/30 ) ) )\n",
    "\n",
    "df5_oot.drop(columns='DAY')"
   ]
  },
  {
   "cell_type": "markdown",
   "id": "87beff1d",
   "metadata": {
    "heading_collapsed": true
   },
   "source": [
    "# Feature selection"
   ]
  },
  {
   "cell_type": "code",
   "execution_count": 95,
   "id": "73c64ba8",
   "metadata": {
    "ExecuteTime": {
     "end_time": "2023-01-19T01:07:25.538273Z",
     "start_time": "2023-01-19T01:07:25.395996Z"
    },
    "hidden": true
   },
   "outputs": [],
   "source": [
    "df6_oot   = df5_oot.copy()\n",
    "df6_train = df5_train.copy()\n",
    "df6_test  = df5_test.copy()"
   ]
  },
  {
   "cell_type": "markdown",
   "id": "e7398e81",
   "metadata": {
    "heading_collapsed": true,
    "hidden": true
   },
   "source": [
    "## Feature selector"
   ]
  },
  {
   "cell_type": "code",
   "execution_count": 96,
   "id": "35d0e761",
   "metadata": {
    "ExecuteTime": {
     "end_time": "2023-01-19T01:07:27.370241Z",
     "start_time": "2023-01-19T01:07:27.340247Z"
    },
    "hidden": true
   },
   "outputs": [],
   "source": [
    "x_train = df6_train.drop(['TARGET', 'REF_DATE'], axis=1)\n",
    "y_train = df6_train['TARGET']\n"
   ]
  },
  {
   "cell_type": "code",
   "execution_count": 97,
   "id": "0a5d495b",
   "metadata": {
    "ExecuteTime": {
     "end_time": "2023-01-19T01:07:28.840785Z",
     "start_time": "2023-01-19T01:07:28.836720Z"
    },
    "hidden": true
   },
   "outputs": [],
   "source": [
    "# Criando o classificador\n",
    "clf = RandomForestClassifier(n_estimators=100)\n",
    "\n",
    "# Instanciando a classe SelectFromModel\n",
    "selector = SelectFromModel(clf)\n"
   ]
  },
  {
   "cell_type": "code",
   "execution_count": 98,
   "id": "034de80c",
   "metadata": {
    "ExecuteTime": {
     "end_time": "2023-01-19T01:08:07.094674Z",
     "start_time": "2023-01-19T01:07:37.731938Z"
    },
    "hidden": true
   },
   "outputs": [
    {
     "data": {
      "text/html": [
       "<style>#sk-container-id-1 {color: black;background-color: white;}#sk-container-id-1 pre{padding: 0;}#sk-container-id-1 div.sk-toggleable {background-color: white;}#sk-container-id-1 label.sk-toggleable__label {cursor: pointer;display: block;width: 100%;margin-bottom: 0;padding: 0.3em;box-sizing: border-box;text-align: center;}#sk-container-id-1 label.sk-toggleable__label-arrow:before {content: \"▸\";float: left;margin-right: 0.25em;color: #696969;}#sk-container-id-1 label.sk-toggleable__label-arrow:hover:before {color: black;}#sk-container-id-1 div.sk-estimator:hover label.sk-toggleable__label-arrow:before {color: black;}#sk-container-id-1 div.sk-toggleable__content {max-height: 0;max-width: 0;overflow: hidden;text-align: left;background-color: #f0f8ff;}#sk-container-id-1 div.sk-toggleable__content pre {margin: 0.2em;color: black;border-radius: 0.25em;background-color: #f0f8ff;}#sk-container-id-1 input.sk-toggleable__control:checked~div.sk-toggleable__content {max-height: 200px;max-width: 100%;overflow: auto;}#sk-container-id-1 input.sk-toggleable__control:checked~label.sk-toggleable__label-arrow:before {content: \"▾\";}#sk-container-id-1 div.sk-estimator input.sk-toggleable__control:checked~label.sk-toggleable__label {background-color: #d4ebff;}#sk-container-id-1 div.sk-label input.sk-toggleable__control:checked~label.sk-toggleable__label {background-color: #d4ebff;}#sk-container-id-1 input.sk-hidden--visually {border: 0;clip: rect(1px 1px 1px 1px);clip: rect(1px, 1px, 1px, 1px);height: 1px;margin: -1px;overflow: hidden;padding: 0;position: absolute;width: 1px;}#sk-container-id-1 div.sk-estimator {font-family: monospace;background-color: #f0f8ff;border: 1px dotted black;border-radius: 0.25em;box-sizing: border-box;margin-bottom: 0.5em;}#sk-container-id-1 div.sk-estimator:hover {background-color: #d4ebff;}#sk-container-id-1 div.sk-parallel-item::after {content: \"\";width: 100%;border-bottom: 1px solid gray;flex-grow: 1;}#sk-container-id-1 div.sk-label:hover label.sk-toggleable__label {background-color: #d4ebff;}#sk-container-id-1 div.sk-serial::before {content: \"\";position: absolute;border-left: 1px solid gray;box-sizing: border-box;top: 0;bottom: 0;left: 50%;z-index: 0;}#sk-container-id-1 div.sk-serial {display: flex;flex-direction: column;align-items: center;background-color: white;padding-right: 0.2em;padding-left: 0.2em;position: relative;}#sk-container-id-1 div.sk-item {position: relative;z-index: 1;}#sk-container-id-1 div.sk-parallel {display: flex;align-items: stretch;justify-content: center;background-color: white;position: relative;}#sk-container-id-1 div.sk-item::before, #sk-container-id-1 div.sk-parallel-item::before {content: \"\";position: absolute;border-left: 1px solid gray;box-sizing: border-box;top: 0;bottom: 0;left: 50%;z-index: -1;}#sk-container-id-1 div.sk-parallel-item {display: flex;flex-direction: column;z-index: 1;position: relative;background-color: white;}#sk-container-id-1 div.sk-parallel-item:first-child::after {align-self: flex-end;width: 50%;}#sk-container-id-1 div.sk-parallel-item:last-child::after {align-self: flex-start;width: 50%;}#sk-container-id-1 div.sk-parallel-item:only-child::after {width: 0;}#sk-container-id-1 div.sk-dashed-wrapped {border: 1px dashed gray;margin: 0 0.4em 0.5em 0.4em;box-sizing: border-box;padding-bottom: 0.4em;background-color: white;}#sk-container-id-1 div.sk-label label {font-family: monospace;font-weight: bold;display: inline-block;line-height: 1.2em;}#sk-container-id-1 div.sk-label-container {text-align: center;}#sk-container-id-1 div.sk-container {/* jupyter's `normalize.less` sets `[hidden] { display: none; }` but bootstrap.min.css set `[hidden] { display: none !important; }` so we also need the `!important` here to be able to override the default hidden behavior on the sphinx rendered scikit-learn.org. See: https://github.com/scikit-learn/scikit-learn/issues/21755 */display: inline-block !important;position: relative;}#sk-container-id-1 div.sk-text-repr-fallback {display: none;}</style><div id=\"sk-container-id-1\" class=\"sk-top-container\"><div class=\"sk-text-repr-fallback\"><pre>SelectFromModel(estimator=RandomForestClassifier())</pre><b>In a Jupyter environment, please rerun this cell to show the HTML representation or trust the notebook. <br />On GitHub, the HTML representation is unable to render, please try loading this page with nbviewer.org.</b></div><div class=\"sk-container\" hidden><div class=\"sk-item sk-dashed-wrapped\"><div class=\"sk-label-container\"><div class=\"sk-label sk-toggleable\"><input class=\"sk-toggleable__control sk-hidden--visually\" id=\"sk-estimator-id-1\" type=\"checkbox\" ><label for=\"sk-estimator-id-1\" class=\"sk-toggleable__label sk-toggleable__label-arrow\">SelectFromModel</label><div class=\"sk-toggleable__content\"><pre>SelectFromModel(estimator=RandomForestClassifier())</pre></div></div></div><div class=\"sk-parallel\"><div class=\"sk-parallel-item\"><div class=\"sk-item\"><div class=\"sk-label-container\"><div class=\"sk-label sk-toggleable\"><input class=\"sk-toggleable__control sk-hidden--visually\" id=\"sk-estimator-id-2\" type=\"checkbox\" ><label for=\"sk-estimator-id-2\" class=\"sk-toggleable__label sk-toggleable__label-arrow\">estimator: RandomForestClassifier</label><div class=\"sk-toggleable__content\"><pre>RandomForestClassifier()</pre></div></div></div><div class=\"sk-serial\"><div class=\"sk-item\"><div class=\"sk-estimator sk-toggleable\"><input class=\"sk-toggleable__control sk-hidden--visually\" id=\"sk-estimator-id-3\" type=\"checkbox\" ><label for=\"sk-estimator-id-3\" class=\"sk-toggleable__label sk-toggleable__label-arrow\">RandomForestClassifier</label><div class=\"sk-toggleable__content\"><pre>RandomForestClassifier()</pre></div></div></div></div></div></div></div></div></div></div>"
      ],
      "text/plain": [
       "SelectFromModel(estimator=RandomForestClassifier())"
      ]
     },
     "execution_count": 98,
     "metadata": {},
     "output_type": "execute_result"
    }
   ],
   "source": [
    "# Ajustando o classificador e selecionando recursos\n",
    "selector.fit(x_train, y_train)"
   ]
  },
  {
   "cell_type": "markdown",
   "id": "8e6de713",
   "metadata": {
    "heading_collapsed": true,
    "hidden": true
   },
   "source": [
    "## Best features"
   ]
  },
  {
   "cell_type": "code",
   "execution_count": 99,
   "id": "1653ab16",
   "metadata": {
    "ExecuteTime": {
     "end_time": "2023-01-19T01:08:07.196251Z",
     "start_time": "2023-01-19T01:08:07.098644Z"
    },
    "hidden": true
   },
   "outputs": [
    {
     "data": {
      "text/plain": [
       "['IDADE',\n",
       " 'ESTADO',\n",
       " 'NUMERIC0',\n",
       " 'NUMERIC1',\n",
       " 'ORDINAL0',\n",
       " 'NUMERIC2',\n",
       " 'NUMERIC3',\n",
       " 'NUMERIC4',\n",
       " 'NUMERIC5',\n",
       " 'NUMERIC6',\n",
       " 'NUMERIC7',\n",
       " 'NUMERIC8',\n",
       " 'SITUACAO',\n",
       " 'ID',\n",
       " 'DAY',\n",
       " 'DAY_SIN',\n",
       " 'DAY_COS']"
      ]
     },
     "execution_count": 99,
     "metadata": {},
     "output_type": "execute_result"
    }
   ],
   "source": [
    "# Obtendo os índices dos recursos selecionados\n",
    "important_features = x_train.columns[selector.get_support()].to_list()\n",
    "important_features"
   ]
  },
  {
   "cell_type": "code",
   "execution_count": 100,
   "id": "16de9ed0",
   "metadata": {
    "ExecuteTime": {
     "end_time": "2023-01-19T01:08:07.245578Z",
     "start_time": "2023-01-19T01:08:07.198055Z"
    },
    "hidden": true
   },
   "outputs": [],
   "source": [
    "important_features.remove('DAY')"
   ]
  },
  {
   "cell_type": "markdown",
   "id": "90cbd18c",
   "metadata": {
    "hidden": true
   },
   "source": [
    "### Manual feature selection"
   ]
  },
  {
   "cell_type": "code",
   "execution_count": 101,
   "id": "21ebd80e",
   "metadata": {
    "ExecuteTime": {
     "end_time": "2023-01-19T01:08:07.314572Z",
     "start_time": "2023-01-19T01:08:07.247601Z"
    },
    "hidden": true
   },
   "outputs": [
    {
     "data": {
      "text/plain": [
       "array(['DAY', 'LABEL10', 'LABEL11', 'LABEL12', 'LABEL13', 'LABEL14',\n",
       "       'LABEL15', 'LABEL16', 'LABEL17', 'LABEL18', 'LABEL19', 'LABEL2',\n",
       "       'LABEL20', 'LABEL21', 'LABEL22', 'LABEL3', 'LABEL6', 'LABEL7',\n",
       "       'LABEL8', 'LABEL9', 'NUMERIC9', 'ORDINAL1', 'ORDINAL10',\n",
       "       'ORDINAL11', 'ORDINAL12', 'ORDINAL13', 'ORDINAL14', 'ORDINAL15',\n",
       "       'ORDINAL16', 'ORDINAL17', 'ORDINAL18', 'ORDINAL19', 'ORDINAL2',\n",
       "       'ORDINAL20', 'ORDINAL21', 'ORDINAL22', 'ORDINAL23', 'ORDINAL24',\n",
       "       'ORDINAL25', 'ORDINAL26', 'ORDINAL27', 'ORDINAL28', 'ORDINAL29',\n",
       "       'ORDINAL3', 'ORDINAL30', 'ORDINAL31', 'ORDINAL32', 'ORDINAL33',\n",
       "       'ORDINAL34', 'ORDINAL35', 'ORDINAL36', 'ORDINAL37', 'ORDINAL38',\n",
       "       'ORDINAL39', 'ORDINAL4', 'ORDINAL40', 'ORDINAL41', 'ORDINAL42',\n",
       "       'ORDINAL43', 'ORDINAL44', 'ORDINAL45', 'ORDINAL46', 'ORDINAL47',\n",
       "       'ORDINAL48', 'ORDINAL49', 'ORDINAL5', 'ORDINAL50', 'ORDINAL51',\n",
       "       'ORDINAL52', 'ORDINAL53', 'ORDINAL54', 'ORDINAL55', 'ORDINAL56',\n",
       "       'ORDINAL57', 'ORDINAL58', 'ORDINAL59', 'ORDINAL6', 'ORDINAL60',\n",
       "       'ORDINAL61', 'ORDINAL62', 'ORDINAL63', 'ORDINAL64', 'ORDINAL65',\n",
       "       'ORDINAL66', 'ORDINAL67', 'ORDINAL68', 'ORDINAL69', 'ORDINAL7',\n",
       "       'ORDINAL70', 'ORDINAL71', 'ORDINAL72', 'ORDINAL73', 'ORDINAL74',\n",
       "       'ORDINAL75', 'ORDINAL8', 'ORDINAL9', 'SEXO', 'VERSAO'],\n",
       "      dtype=object)"
      ]
     },
     "execution_count": 101,
     "metadata": {},
     "output_type": "execute_result"
    }
   ],
   "source": [
    "cols_not_selected = np.setdiff1d( x_train.columns, important_features )\n",
    "cols_not_selected"
   ]
  },
  {
   "cell_type": "markdown",
   "id": "e6315e0f",
   "metadata": {
    "hidden": true
   },
   "source": [
    "- Não vejo nenhuma outra coluna que poderia usar como argumento para mudar o conjunto de features "
   ]
  },
  {
   "cell_type": "code",
   "execution_count": 102,
   "id": "15db7e45",
   "metadata": {
    "ExecuteTime": {
     "end_time": "2023-01-19T01:08:07.387697Z",
     "start_time": "2023-01-19T01:08:07.316485Z"
    },
    "hidden": true
   },
   "outputs": [],
   "source": [
    "cols_to_add = ['TARGET', 'REF_DATE']\n",
    "\n",
    "cols_selected_full = []\n",
    "\n",
    "cols_selected_full = important_features.copy()\n",
    "cols_selected_full.extend(cols_to_add)"
   ]
  },
  {
   "cell_type": "code",
   "execution_count": 103,
   "id": "63ef83a2",
   "metadata": {
    "ExecuteTime": {
     "end_time": "2023-01-19T01:08:07.498452Z",
     "start_time": "2023-01-19T01:08:07.389901Z"
    },
    "hidden": true
   },
   "outputs": [
    {
     "data": {
      "text/plain": [
       "18"
      ]
     },
     "execution_count": 103,
     "metadata": {},
     "output_type": "execute_result"
    }
   ],
   "source": [
    "len(cols_selected_full)"
   ]
  },
  {
   "cell_type": "markdown",
   "id": "65108ab4",
   "metadata": {
    "hidden": true
   },
   "source": [
    "-  Temos então a redução de 114 colunas para 20"
   ]
  },
  {
   "cell_type": "code",
   "execution_count": 104,
   "id": "44617f83",
   "metadata": {
    "ExecuteTime": {
     "end_time": "2023-01-19T01:08:07.572289Z",
     "start_time": "2023-01-19T01:08:07.500444Z"
    },
    "hidden": true
   },
   "outputs": [],
   "source": [
    "x_train['TARGET'] = df6_train['TARGET']\n",
    "x_train['REF_DATE'] = df6_train['REF_DATE']"
   ]
  },
  {
   "cell_type": "markdown",
   "id": "f2ef1c2f",
   "metadata": {
    "heading_collapsed": true
   },
   "source": [
    "# ML models"
   ]
  },
  {
   "cell_type": "markdown",
   "id": "82cf9875",
   "metadata": {
    "hidden": true
   },
   "source": [
    "- Nessa etapa vamos salvar todos os modelos sem aplicar a validação cruzada para poder usa-los sem precisar rodar novamente\n",
    "\n",
    "\n",
    "- A partir dessa etapa vamos decidir qual melhor modelo para escolher como o final\n",
    "    - Não vamos olhar a performance, mas o quão rápido é para treinar e o quanto de memória ele requere, pois não adianta ter um modelo que performa muito, mas não é escalável.\n",
    "    "
   ]
  },
  {
   "cell_type": "code",
   "execution_count": 105,
   "id": "8f911e52",
   "metadata": {
    "ExecuteTime": {
     "end_time": "2023-01-19T01:10:34.543270Z",
     "start_time": "2023-01-19T01:10:34.495825Z"
    },
    "hidden": true
   },
   "outputs": [],
   "source": [
    "df7_oot   = df6_oot.copy()\n",
    "df7_train = df6_train.copy()\n",
    "df7_test  = df6_test.copy()"
   ]
  },
  {
   "cell_type": "code",
   "execution_count": 106,
   "id": "40340631",
   "metadata": {
    "ExecuteTime": {
     "end_time": "2023-01-19T01:10:35.413080Z",
     "start_time": "2023-01-19T01:10:35.387346Z"
    },
    "hidden": true
   },
   "outputs": [],
   "source": [
    "x_train = df7_train.loc[:,important_features]\n",
    "x_test = df7_test.loc[:,important_features]\n",
    "\n",
    "y_train = df7_train.loc[:,'TARGET']\n",
    "y_test = df7_test.loc[:,'TARGET']\n",
    "\n",
    "x_oot = df7_oot.loc[:, important_features]\n",
    "\n",
    "x_training = df7_train.loc[:,cols_selected_full]\n",
    "x_testing = df7_test.loc[:,cols_selected_full]"
   ]
  },
  {
   "cell_type": "markdown",
   "id": "587eb8fb",
   "metadata": {
    "heading_collapsed": true,
    "hidden": true
   },
   "source": [
    "## Baseline Model( Naive Bayes )"
   ]
  },
  {
   "cell_type": "code",
   "execution_count": 107,
   "id": "bbf74991",
   "metadata": {
    "ExecuteTime": {
     "end_time": "2023-01-19T01:10:48.044892Z",
     "start_time": "2023-01-19T01:10:48.039266Z"
    },
    "hidden": true
   },
   "outputs": [],
   "source": [
    "x_test.fillna(method='ffill', inplace=True)"
   ]
  },
  {
   "cell_type": "code",
   "execution_count": 108,
   "id": "55a4f08e",
   "metadata": {
    "ExecuteTime": {
     "end_time": "2023-01-19T01:10:49.565787Z",
     "start_time": "2023-01-19T01:10:49.431053Z"
    },
    "hidden": true
   },
   "outputs": [],
   "source": [
    "# Criação do modelo\n",
    "clf = GaussianNB()\n",
    "\n",
    "# Treinamento do modelo\n",
    "clf.fit(x_train, y_train)\n",
    "\n",
    "# Previsões\n",
    "y_pred = clf.predict(x_test)\n",
    "\n",
    "# Avaliação do desempenho\n",
    "performance_general = [{'accuracy': accuracy_score(y_test, y_pred), 'precision_score': precision_score(y_test,y_pred),\n",
    "                       'recall_score': recall_score(y_test,y_pred), 'f1_score': f1_score(y_test,y_pred)}]\n",
    "performance_confusion_matrix = confusion_matrix(y_test,y_pred)\n",
    "\n",
    "df_performance_naive_general = pd.DataFrame(performance_general)\n",
    "\n",
    "# salvar o modelo\n",
    "joblib.dump(clf, 'models/modelNAIVE_ncross.pkl')\n",
    "\n",
    "# salvar metricas\n",
    "df_performance_naive_general.to_csv('performances/df_performance_NAIVE_general_ncross.csv', index=False)\n",
    "\n",
    "# carregar modelo salvo\n",
    "clf = load('models/modelNAIVE_ncross.pkl')"
   ]
  },
  {
   "cell_type": "code",
   "execution_count": 109,
   "id": "39dbd588",
   "metadata": {
    "ExecuteTime": {
     "end_time": "2023-01-19T01:10:50.716306Z",
     "start_time": "2023-01-19T01:10:50.519886Z"
    },
    "hidden": true
   },
   "outputs": [
    {
     "data": {
      "image/png": "[encoded data removed]",
      "text/plain": [
       "<Figure size 360x360 with 2 Axes>"
      ]
     },
     "metadata": {},
     "output_type": "display_data"
    }
   ],
   "source": [
    "sns.heatmap(performance_confusion_matrix, annot=True, fmt='d', cmap='Blues')\n",
    "plt.xlabel('Predicted')\n",
    "plt.ylabel('Real')\n",
    "plt.show()"
   ]
  },
  {
   "cell_type": "markdown",
   "id": "c5c69830",
   "metadata": {
    "heading_collapsed": true,
    "hidden": true
   },
   "source": [
    "### cross-validation"
   ]
  },
  {
   "cell_type": "code",
   "execution_count": 129,
   "id": "a123281f",
   "metadata": {
    "ExecuteTime": {
     "end_time": "2023-01-18T10:04:45.714453Z",
     "start_time": "2023-01-18T10:04:45.712261Z"
    },
    "hidden": true
   },
   "outputs": [],
   "source": [
    "# metrics = ['accuracy','precision','recall']\n",
    "\n",
    "# scores = cross_validate(clf, x_train, y_train, cv=10, scoring=metrics)\n",
    "\n",
    "# # Avaliação do desempenho\n",
    "# performance_general_cross = [{'accuracy': scores['test_accuracy'].mean(), 'precision_score': scores['test_precision'].mean(),\n",
    "#                        'recall_score': scores['test_recall'].mean()}]\n",
    "# performance_confusion_matrix = confusion_matrix(y_test,y_pred)\n",
    "\n",
    "# df_performance_naive_general = pd.DataFrame(performance_general)\n",
    "\n",
    "# # salvar metricas\n",
    "# df_performance_naive_general.to_csv('performances/df_performance_NAIVE_general_scross.csv', index=False)\n",
    "\n",
    "# # Imprimir as métricas\n",
    "# print(\"Accuracy: %0.2f (+/- %0.2f)\" % (scores['test_accuracy'].mean(), scores['test_accuracy'].std() * 2))\n",
    "# print(\"Precision: %0.2f (+/- %0.2f)\" % (scores['test_precision'].mean(), scores['test_precision'].std() * 2))\n",
    "# print(\"Recall: %0.2f (+/- %0.2f)\" % (scores['test_recall'].mean(), scores['test_recall'].std() * 2))\n"
   ]
  },
  {
   "cell_type": "markdown",
   "id": "0842a184",
   "metadata": {
    "heading_collapsed": true,
    "hidden": true
   },
   "source": [
    "## Random forest"
   ]
  },
  {
   "cell_type": "code",
   "execution_count": 110,
   "id": "bb074837",
   "metadata": {
    "ExecuteTime": {
     "end_time": "2023-01-19T01:11:34.067833Z",
     "start_time": "2023-01-19T01:10:58.480268Z"
    },
    "hidden": true
   },
   "outputs": [
    {
     "data": {
      "text/plain": [
       "['models/modelRF_ncross.pkl']"
      ]
     },
     "execution_count": 110,
     "metadata": {},
     "output_type": "execute_result"
    }
   ],
   "source": [
    "# Criação do modelo\n",
    "clf = RandomForestClassifier()\n",
    "\n",
    "# Treinamento do modelo\n",
    "clf.fit(x_train, y_train)\n",
    "\n",
    "# Previsões\n",
    "y_pred = clf.predict(x_test)\n",
    "\n",
    "# Avaliação do desempenho\n",
    "performance_general = [{'accuracy': accuracy_score(y_test, y_pred), 'precision_score': precision_score(y_test,y_pred),\n",
    "                       'recall_score': recall_score(y_test,y_pred), 'f1_score': f1_score(y_test,y_pred)}]\n",
    "performance_confusion_matrix = confusion_matrix(y_test,y_pred)\n",
    "\n",
    "df_performance_RF_general = pd.DataFrame(performance_general)\n",
    "\n",
    "# salvar metricas\n",
    "df_performance_RF_general.to_csv('performances/df_performance_RF_general_ncross.csv', index=False)\n",
    "\n",
    "# salvar o modelo\n",
    "joblib.dump(clf, 'models/modelRF_ncross.pkl')\n"
   ]
  },
  {
   "cell_type": "code",
   "execution_count": 111,
   "id": "eab4085f",
   "metadata": {
    "ExecuteTime": {
     "end_time": "2023-01-19T01:11:34.295002Z",
     "start_time": "2023-01-19T01:11:34.070227Z"
    },
    "hidden": true
   },
   "outputs": [
    {
     "data": {
      "image/png": "[encoded data removed]",
      "text/plain": [
       "<Figure size 360x360 with 2 Axes>"
      ]
     },
     "metadata": {},
     "output_type": "display_data"
    }
   ],
   "source": [
    "sns.heatmap(performance_confusion_matrix, annot=True, fmt='d', cmap='Blues')\n",
    "plt.xlabel('Predicted')\n",
    "plt.ylabel('Real')\n",
    "plt.show()"
   ]
  },
  {
   "cell_type": "markdown",
   "id": "b69e9ccd",
   "metadata": {
    "hidden": true
   },
   "source": [
    "### cross-validation"
   ]
  },
  {
   "cell_type": "code",
   "execution_count": 112,
   "id": "d48c804d",
   "metadata": {
    "ExecuteTime": {
     "end_time": "2023-01-19T01:11:34.300793Z",
     "start_time": "2023-01-19T01:11:34.297808Z"
    },
    "hidden": true
   },
   "outputs": [],
   "source": [
    "# metrics = ['accuracy','precision','recall']\n",
    "\n",
    "# scores = cross_validate(clf, x_train, y_train, cv=10, scoring=metrics)\n",
    "\n",
    "# # Avaliação do desempenho\n",
    "# performance_general_cross = [{'accuracy': scores['test_accuracy'].mean(), 'precision_score': scores['test_precision'].mean(),\n",
    "#                        'recall_score': scores['test_recall'].mean()}]\n",
    "# performance_confusion_matrix = confusion_matrix(y_test,y_pred)\n",
    "\n",
    "# df_performance_RF_general = pd.DataFrame(performance_general)\n",
    "\n",
    "# # salvar metricas\n",
    "# df_performance_RF_general.to_csv('performances/df_performance_RF_general_scross.csv', index=False)\n",
    "\n",
    "# # Imprimir as métricas\n",
    "# print(\"Accuracy: %0.2f (+/- %0.2f)\" % (scores['test_accuracy'].mean(), scores['test_accuracy'].std() * 2))\n",
    "# print(\"Precision: %0.2f (+/- %0.2f)\" % (scores['test_precision'].mean(), scores['test_precision'].std() * 2))\n",
    "# print(\"Recall: %0.2f (+/- %0.2f)\" % (scores['test_recall'].mean(), scores['test_recall'].std() * 2))\n"
   ]
  },
  {
   "cell_type": "markdown",
   "id": "03273fa0",
   "metadata": {
    "heading_collapsed": true,
    "hidden": true
   },
   "source": [
    "## XGBoost"
   ]
  },
  {
   "cell_type": "code",
   "execution_count": 113,
   "id": "460cf61e",
   "metadata": {
    "ExecuteTime": {
     "end_time": "2023-01-19T01:11:40.327816Z",
     "start_time": "2023-01-19T01:11:34.303485Z"
    },
    "hidden": true
   },
   "outputs": [
    {
     "data": {
      "text/plain": [
       "['models/modelXG_ncross.pkl']"
      ]
     },
     "execution_count": 113,
     "metadata": {},
     "output_type": "execute_result"
    }
   ],
   "source": [
    "# Criação do modelo\n",
    "clf = XGBClassifier()\n",
    "\n",
    "# Treinamento do modelo\n",
    "clf.fit(x_train, y_train)\n",
    "\n",
    "# Previsões\n",
    "y_pred = clf.predict(x_test)\n",
    "\n",
    "# Avaliação do desempenho\n",
    "performance_general = [{'accuracy': accuracy_score(y_test, y_pred), 'precision_score': precision_score(y_test,y_pred),\n",
    "                       'recall_score': recall_score(y_test,y_pred), 'f1_score': f1_score(y_test,y_pred)}]\n",
    "performance_confusion_matrix = confusion_matrix(y_test,y_pred)\n",
    "\n",
    "df_performance_XG_general = pd.DataFrame(performance_general)\n",
    "\n",
    "# salvar metricas\n",
    "df_performance_XG_general.to_csv('performances/df_performance_XG_general_ncross.csv', index=False)\n",
    "\n",
    "# salvar o modelo\n",
    "joblib.dump(clf, 'models/modelXG_ncross.pkl')"
   ]
  },
  {
   "cell_type": "code",
   "execution_count": 114,
   "id": "a108ff1c",
   "metadata": {
    "ExecuteTime": {
     "end_time": "2023-01-19T01:11:40.523392Z",
     "start_time": "2023-01-19T01:11:40.330288Z"
    },
    "hidden": true
   },
   "outputs": [
    {
     "data": {
      "image/png": "[encoded data removed]",
      "text/plain": [
       "<Figure size 360x360 with 2 Axes>"
      ]
     },
     "metadata": {},
     "output_type": "display_data"
    }
   ],
   "source": [
    "sns.heatmap(performance_confusion_matrix, annot=True, fmt='d', cmap='Blues')\n",
    "plt.xlabel('Predicted')\n",
    "plt.ylabel('Real')\n",
    "plt.show()"
   ]
  },
  {
   "cell_type": "markdown",
   "id": "3b81dbc3",
   "metadata": {
    "heading_collapsed": true,
    "hidden": true
   },
   "source": [
    "### cross-validation"
   ]
  },
  {
   "cell_type": "code",
   "execution_count": 135,
   "id": "29c10f76",
   "metadata": {
    "ExecuteTime": {
     "end_time": "2023-01-18T10:05:26.479075Z",
     "start_time": "2023-01-18T10:05:26.476524Z"
    },
    "hidden": true
   },
   "outputs": [],
   "source": [
    "# metrics = ['accuracy','precision','recall']\n",
    "\n",
    "# scores = cross_validate(clf, x_train, y_train, cv=10, scoring=metrics)\n",
    "\n",
    "# # Avaliação do desempenho\n",
    "# performance_general_cross = [{'accuracy': scores['test_accuracy'].mean(), 'precision_score': scores['test_precision'].mean(),\n",
    "#                        'recall_score': scores['test_recall'].mean()}]\n",
    "# performance_confusion_matrix = confusion_matrix(y_test,y_pred)\n",
    "\n",
    "# df_performance_XG_general = pd.DataFrame(performance_general)\n",
    "\n",
    "# # salvar metricas\n",
    "# df_performance_XG_general.to_csv('performances/df_performance_XG_general_scross.csv', index=False)\n",
    "\n",
    "# # Imprimir as métricas\n",
    "# print(\"Accuracy: %0.2f (+/- %0.2f)\" % (scores['test_accuracy'].mean(), scores['test_accuracy'].std() * 2))\n",
    "# print(\"Precision: %0.2f (+/- %0.2f)\" % (scores['test_precision'].mean(), scores['test_precision'].std() * 2))\n",
    "# print(\"Recall: %0.2f (+/- %0.2f)\" % (scores['test_recall'].mean(), scores['test_recall'].std() * 2))\n"
   ]
  },
  {
   "cell_type": "markdown",
   "id": "c5bd369d",
   "metadata": {
    "heading_collapsed": true,
    "hidden": true
   },
   "source": [
    "## MLP"
   ]
  },
  {
   "cell_type": "code",
   "execution_count": 115,
   "id": "e5c739f1",
   "metadata": {
    "ExecuteTime": {
     "end_time": "2023-01-19T01:11:46.798991Z",
     "start_time": "2023-01-19T01:11:40.524812Z"
    },
    "hidden": true
   },
   "outputs": [
    {
     "data": {
      "text/plain": [
       "['models/modelMLP_ncross.pkl']"
      ]
     },
     "execution_count": 115,
     "metadata": {},
     "output_type": "execute_result"
    }
   ],
   "source": [
    "# Criação do modelo\n",
    "clf = MLPClassifier()\n",
    "\n",
    "# Treinamento do modelo\n",
    "clf.fit(x_train, y_train)\n",
    "\n",
    "# Previsões\n",
    "y_pred = clf.predict(x_test)\n",
    "\n",
    "# Avaliação do desempenho\n",
    "performance_general = [{'accuracy': accuracy_score(y_test, y_pred), 'precision_score': precision_score(y_test,y_pred),\n",
    "                       'recall_score': recall_score(y_test,y_pred), 'f1_score': f1_score(y_test,y_pred)}]\n",
    "performance_confusion_matrix = confusion_matrix(y_test,y_pred)\n",
    "\n",
    "df_performance_MLP_general = pd.DataFrame(performance_general)\n",
    "\n",
    "# salvar metricas\n",
    "df_performance_MLP_general.to_csv('performances/df_performance_MLP_general_ncross.csv', index=False)\n",
    "\n",
    "# salvar o modelo\n",
    "joblib.dump(clf, 'models/modelMLP_ncross.pkl')"
   ]
  },
  {
   "cell_type": "code",
   "execution_count": 116,
   "id": "3203efdf",
   "metadata": {
    "ExecuteTime": {
     "end_time": "2023-01-19T01:11:46.988129Z",
     "start_time": "2023-01-19T01:11:46.800560Z"
    },
    "hidden": true
   },
   "outputs": [
    {
     "data": {
      "image/png": "[encoded data removed]",
      "text/plain": [
       "<Figure size 360x360 with 2 Axes>"
      ]
     },
     "metadata": {},
     "output_type": "display_data"
    }
   ],
   "source": [
    "sns.heatmap(performance_confusion_matrix, annot=True, fmt='d', cmap='Blues')\n",
    "plt.xlabel('Predicted')\n",
    "plt.ylabel('Real')\n",
    "plt.show()"
   ]
  },
  {
   "cell_type": "markdown",
   "id": "ec932617",
   "metadata": {
    "hidden": true
   },
   "source": [
    "### cross-validation"
   ]
  },
  {
   "cell_type": "code",
   "execution_count": 117,
   "id": "37e7bbcc",
   "metadata": {
    "ExecuteTime": {
     "end_time": "2023-01-19T01:11:46.991696Z",
     "start_time": "2023-01-19T01:11:46.989746Z"
    },
    "hidden": true
   },
   "outputs": [],
   "source": [
    "# metrics = ['accuracy','precision','recall']\n",
    "\n",
    "# scores = cross_validate(clf, x_train, y_train, cv=10, scoring=metrics)\n",
    "\n",
    "# # Avaliação do desempenho\n",
    "# performance_general_cross = [{'accuracy': scores['test_accuracy'].mean(), 'precision_score': scores['test_precision'].mean(),\n",
    "#                        'recall_score': scores['test_recall'].mean()}]\n",
    "# performance_confusion_matrix = confusion_matrix(y_test,y_pred)\n",
    "\n",
    "# df_performance_MLP_general = pd.DataFrame(performance_general)\n",
    "\n",
    "# # salvar metricas\n",
    "# df_performance_MLP_general.to_csv('performances/df_performance_MLP_general_scross.csv', index=False)\n",
    "\n",
    "# # Imprimir as métricas\n",
    "# print(\"Accuracy: %0.2f (+/- %0.2f)\" % (scores['test_accuracy'].mean(), scores['test_accuracy'].std() * 2))\n",
    "# print(\"Precision: %0.2f (+/- %0.2f)\" % (scores['test_precision'].mean(), scores['test_precision'].std() * 2))\n",
    "# print(\"Recall: %0.2f (+/- %0.2f)\" % (scores['test_recall'].mean(), scores['test_recall'].std() * 2))\n"
   ]
  },
  {
   "cell_type": "markdown",
   "id": "fd570fe8",
   "metadata": {
    "heading_collapsed": true,
    "hidden": true
   },
   "source": [
    "## Compare model's performance"
   ]
  },
  {
   "cell_type": "code",
   "execution_count": 118,
   "id": "64f4e150",
   "metadata": {
    "ExecuteTime": {
     "end_time": "2023-01-19T01:12:06.482866Z",
     "start_time": "2023-01-19T01:12:06.401875Z"
    },
    "hidden": true
   },
   "outputs": [],
   "source": [
    "performance_naive = pd.read_csv('/home/eduardo/Desktop/DS/granting-of-credit/performances/df_performance_NAIVE_general_scross.csv')\n",
    "performance_rf    = pd.read_csv('/home/eduardo/Desktop/DS/granting-of-credit/performances/df_performance_RF_general_scross.csv')\n",
    "performance_xg    = pd.read_csv('/home/eduardo/Desktop/DS/granting-of-credit/performances/df_performance_XG_general_scross.csv')\n",
    "performance_mlp   = pd.read_csv('/home/eduardo/Desktop/DS/granting-of-credit/performances/df_performance_MLP_general_scross.csv')"
   ]
  },
  {
   "cell_type": "code",
   "execution_count": 119,
   "id": "1ac76acd",
   "metadata": {
    "ExecuteTime": {
     "end_time": "2023-01-19T01:12:07.293954Z",
     "start_time": "2023-01-19T01:12:07.288499Z"
    },
    "hidden": true
   },
   "outputs": [],
   "source": [
    "performance_cross_general = pd.concat([performance_naive, performance_rf, performance_xg, performance_mlp]).T\n",
    "performance_cross_general.columns = ['naive', 'rf', 'xg', 'mlp']"
   ]
  },
  {
   "cell_type": "code",
   "execution_count": 120,
   "id": "b0d99762",
   "metadata": {
    "ExecuteTime": {
     "end_time": "2023-01-19T01:12:08.208086Z",
     "start_time": "2023-01-19T01:12:08.195187Z"
    },
    "hidden": true
   },
   "outputs": [
    {
     "data": {
      "text/html": [
       "<div>\n",
       "<style scoped>\n",
       "    .dataframe tbody tr th:only-of-type {\n",
       "        vertical-align: middle;\n",
       "    }\n",
       "\n",
       "    .dataframe tbody tr th {\n",
       "        vertical-align: top;\n",
       "    }\n",
       "\n",
       "    .dataframe thead th {\n",
       "        text-align: right;\n",
       "    }\n",
       "</style>\n",
       "<table border=\"1\" class=\"dataframe\">\n",
       "  <thead>\n",
       "    <tr style=\"text-align: right;\">\n",
       "      <th></th>\n",
       "      <th>naive</th>\n",
       "      <th>rf</th>\n",
       "      <th>xg</th>\n",
       "      <th>mlp</th>\n",
       "    </tr>\n",
       "  </thead>\n",
       "  <tbody>\n",
       "    <tr>\n",
       "      <th>accuracy</th>\n",
       "      <td>0.788476</td>\n",
       "      <td>0.791889</td>\n",
       "      <td>0.773479</td>\n",
       "      <td>0.785023</td>\n",
       "    </tr>\n",
       "    <tr>\n",
       "      <th>precision_score</th>\n",
       "      <td>0.792413</td>\n",
       "      <td>0.791959</td>\n",
       "      <td>0.795802</td>\n",
       "      <td>0.793140</td>\n",
       "    </tr>\n",
       "    <tr>\n",
       "      <th>recall_score</th>\n",
       "      <td>0.993002</td>\n",
       "      <td>0.999823</td>\n",
       "      <td>0.960346</td>\n",
       "      <td>0.985548</td>\n",
       "    </tr>\n",
       "    <tr>\n",
       "      <th>f1_score</th>\n",
       "      <td>0.881439</td>\n",
       "      <td>0.883834</td>\n",
       "      <td>0.870365</td>\n",
       "      <td>0.878937</td>\n",
       "    </tr>\n",
       "  </tbody>\n",
       "</table>\n",
       "</div>"
      ],
      "text/plain": [
       "                    naive        rf        xg       mlp\n",
       "accuracy         0.788476  0.791889  0.773479  0.785023\n",
       "precision_score  0.792413  0.791959  0.795802  0.793140\n",
       "recall_score     0.993002  0.999823  0.960346  0.985548\n",
       "f1_score         0.881439  0.883834  0.870365  0.878937"
      ]
     },
     "execution_count": 120,
     "metadata": {},
     "output_type": "execute_result"
    }
   ],
   "source": [
    "performance_cross_general"
   ]
  },
  {
   "cell_type": "markdown",
   "id": "9f21b559",
   "metadata": {
    "hidden": true
   },
   "source": [
    "- Percebemos então a importância de um modelo baseline, pois se olharmos para a quantidade de segundos gastos para fazer o crossvalidation(preferi pegar esse tempo do que o do treinamento inicial) chegamos em: \n",
    "    - Naive\n",
    "        - 0.435 s\n",
    "    - Random forest\n",
    "        - 270 s \n",
    "    - XGBoost\n",
    "        - 90 s\n",
    "    - Mlp\n",
    "        - 80 s\n",
    "\n",
    "\n",
    "- Assim, olhando para as metricas de performance(junto com a matriz de confusão que não apontou nenhuma desproporção nos falsos positivos e negativos) e a quantidade de tempo gasto para o fit(o naive não treina propriamente, então levar como o tempo de calculo das probabilidades), chegamos que o modelo escolhido poderia ser o Naive Bayes, pois performou muito parecido com os outros no conjunto de teste e gastou em média 0,39% do tempo para calcular as probabilidades em coparação com o treinamento dos outros algoritmos.\n",
    "\n",
    "\n",
    "- No entanto, se olharmos a matriz de confusão, vamos ver que ele na verdade está tendo diversos casos onde temos falso positivo, ou seja ele aprendeu a 'chutar' que o valor de 'TARGET' vai ser 1, por ter bem mais casos dele do que o = 0\n",
    "\n",
    "\n",
    "- Assim, vamos ter que escolher um modelo mais complexo. O que escolhi foi o XGBoost para fazer a ajuste fino, pois ele tem um bom custo benefício entre o tempo de treinamento e a bom modelo que gera "
   ]
  },
  {
   "cell_type": "markdown",
   "id": "ccfeed6a",
   "metadata": {},
   "source": [
    "# Hyperparameter tuning"
   ]
  },
  {
   "cell_type": "markdown",
   "id": "6e12d66d",
   "metadata": {},
   "source": [
    "- Nessa etapa vou optar por entregar valor mais rapido ao meu cliente(no caso, os avaliadores do meu processo seletivo), então não vou fazer um gridsearch refinado ou um random search com muitas iterações. \n",
    "\n",
    "\n",
    "- Prefiro por entregar um modelo funcional para um primeiro ciclo de entrega e refinar em proximos ciclos, onde vou refinar não só essa, mas todas as outras etapas.\n",
    "\n",
    "- Vou focar em reduzir o numero de falsos positivos."
   ]
  },
  {
   "cell_type": "markdown",
   "id": "b305710f",
   "metadata": {},
   "source": [
    "## Final model"
   ]
  },
  {
   "cell_type": "markdown",
   "id": "4432b2ed",
   "metadata": {},
   "source": [
    "- Para focar em reduzir esse número, vou pensar em 4 parametros chaves \n",
    "    - objective -> ajudar a função dizendo qual a tarefa ela ta fazendo\n",
    "    - eta -> diminuir o passo de aprendizado de 0.3 para 0.2, ela vai demorar mais a convergir, mas vai ser mais generalista\n",
    "    - max_depth -> a profundidade da árvore como 5 ajuda a não termos problemas de sobreajuste quando o modelo estiver treinado\n",
    "    - n_estimators -> numero de boosting rounds 100000, ou seja, ele ajuda a o modelo se ajustar mais posi passa mais tempo treinando\n",
    "    "
   ]
  },
  {
   "cell_type": "code",
   "execution_count": 134,
   "id": "66e13d2b",
   "metadata": {
    "ExecuteTime": {
     "end_time": "2023-01-19T01:20:31.672022Z",
     "start_time": "2023-01-19T01:20:07.211809Z"
    }
   },
   "outputs": [],
   "source": [
    "# # Criação do modelo\n",
    "# clf_finalmodel = XGBClassifier(objective= \"binary:logistic\",\n",
    "#                     eta= 0.2,\n",
    "#                     max_depth= 5,\n",
    "#                     n_estimators= 100000)\n",
    "\n",
    "# # Treinamento do modelo\n",
    "# clf_finalmodel.fit(x_train, y_train)\n",
    "\n",
    "# # # Previsões\n",
    "# y_pred = clf_finalmodel.predict(x_test)\n",
    "\n",
    "# # Avaliação do desempenho\n",
    "# performance_general = [{'accuracy': accuracy_score(y_test, y_pred), 'precision_score': precision_score(y_test,y_pred),\n",
    "#                        'recall_score': recall_score(y_test,y_pred), 'f1_score': f1_score(y_test,y_pred)}]\n",
    "# performance_confusion_matrix = confusion_matrix(y_test,y_pred)\n",
    "\n",
    "# df_performance_XG_general = pd.DataFrame(performance_general)\n"
   ]
  },
  {
   "cell_type": "code",
   "execution_count": 122,
   "id": "b2cd3f25",
   "metadata": {
    "ExecuteTime": {
     "end_time": "2023-01-19T01:12:41.044886Z",
     "start_time": "2023-01-19T01:12:41.042160Z"
    }
   },
   "outputs": [],
   "source": [
    "# # salvar metricas\n",
    "# df_performance_XG_general.to_csv('performances/df_performance_XG_finalmodel.csv', index=False)\n",
    "\n",
    "# # salvar o modelo\n",
    "# joblib.dump(clf, 'models/modelXG_finalmodel.pkl')"
   ]
  },
  {
   "cell_type": "code",
   "execution_count": 123,
   "id": "c63a3d21",
   "metadata": {
    "ExecuteTime": {
     "end_time": "2023-01-19T01:12:53.688664Z",
     "start_time": "2023-01-19T01:12:42.106016Z"
    }
   },
   "outputs": [],
   "source": [
    "clf_finalmodel = load('/home/eduardo/Desktop/DS/granting-of-credit/models/modelXG_finalmodel.pkl')"
   ]
  },
  {
   "cell_type": "code",
   "execution_count": 125,
   "id": "f18a8297",
   "metadata": {
    "ExecuteTime": {
     "end_time": "2023-01-19T01:13:44.903328Z",
     "start_time": "2023-01-19T01:13:44.896132Z"
    }
   },
   "outputs": [
    {
     "data": {
      "image/png": "[encoded data removed]",
      "text/plain": [
       "<IPython.core.display.Image object>"
      ]
     },
     "execution_count": 125,
     "metadata": {},
     "output_type": "execute_result"
    }
   ],
   "source": [
    "Image( '/home/eduardo/Desktop/DS/granting-of-credit/images/confusion_matrix_finalmodel.png' )"
   ]
  },
  {
   "cell_type": "markdown",
   "id": "8a02a5d6",
   "metadata": {
    "heading_collapsed": true
   },
   "source": [
    "## Generating confidence score"
   ]
  },
  {
   "cell_type": "code",
   "execution_count": 154,
   "id": "680bf4a9",
   "metadata": {
    "ExecuteTime": {
     "end_time": "2023-01-19T01:27:21.267267Z",
     "start_time": "2023-01-19T01:27:21.130893Z"
    },
    "hidden": true
   },
   "outputs": [],
   "source": [
    "df7_test['SCORE_PREDICTED'] = list(clf_finalmodel.predict_proba(x_test)[:,1])"
   ]
  },
  {
   "cell_type": "markdown",
   "id": "dafcac3a",
   "metadata": {
    "heading_collapsed": true
   },
   "source": [
    "## Model prediction on the oot dataset"
   ]
  },
  {
   "cell_type": "code",
   "execution_count": 136,
   "id": "93521bf1",
   "metadata": {
    "ExecuteTime": {
     "end_time": "2023-01-19T01:21:08.997856Z",
     "start_time": "2023-01-19T01:21:08.773627Z"
    },
    "hidden": true
   },
   "outputs": [],
   "source": [
    "df7_oot['SCORE_PREDICTED'] = list(clf_finalmodel.predict_proba(x_oot)[:,1])"
   ]
  },
  {
   "cell_type": "code",
   "execution_count": 366,
   "id": "51d7cb0d",
   "metadata": {
    "ExecuteTime": {
     "end_time": "2023-01-19T00:46:05.560705Z",
     "start_time": "2023-01-19T00:46:02.725637Z"
    },
    "hidden": true
   },
   "outputs": [],
   "source": [
    "# df7_oot.to_csv('datasets/oot_predicted/df_oot_with_XGB_predictions.csv', index=False)"
   ]
  },
  {
   "cell_type": "markdown",
   "id": "17378027",
   "metadata": {
    "heading_collapsed": true
   },
   "source": [
    "## Considerations about the model"
   ]
  },
  {
   "cell_type": "markdown",
   "id": "c993af67",
   "metadata": {
    "hidden": true
   },
   "source": [
    "- O modelo gerado na seção 'Final model' foi muito melhorado em relação ao problema principal do projeto que são os falsos positivos na minha visão\n",
    "\n",
    "\n",
    "- Isso pode ser visto com a comparação das duas matrizes de confusão abaixo"
   ]
  },
  {
   "cell_type": "code",
   "execution_count": 367,
   "id": "441b3e7d",
   "metadata": {
    "ExecuteTime": {
     "end_time": "2023-01-19T00:46:05.680664Z",
     "start_time": "2023-01-19T00:46:05.563522Z"
    },
    "hidden": true,
    "scrolled": true
   },
   "outputs": [
    {
     "data": {
      "image/png": "[encoded data removed]",
      "text/plain": [
       "<IPython.core.display.Image object>"
      ]
     },
     "execution_count": 367,
     "metadata": {},
     "output_type": "execute_result"
    }
   ],
   "source": [
    "Image( '/home/eduardo/Desktop/DS/granting-of-credit/images/confusion_matrix_nonopt.png' )"
   ]
  },
  {
   "cell_type": "code",
   "execution_count": 368,
   "id": "2a884a54",
   "metadata": {
    "ExecuteTime": {
     "end_time": "2023-01-19T00:46:05.761868Z",
     "start_time": "2023-01-19T00:46:05.682887Z"
    },
    "hidden": true
   },
   "outputs": [
    {
     "data": {
      "image/png": "[encoded data removed]",
      "text/plain": [
       "<IPython.core.display.Image object>"
      ]
     },
     "execution_count": 368,
     "metadata": {},
     "output_type": "execute_result"
    }
   ],
   "source": [
    "Image( '/home/eduardo/Desktop/DS/granting-of-credit/images/confusion_matrix_finalmodel.png' )"
   ]
  },
  {
   "cell_type": "markdown",
   "id": "adfa845d",
   "metadata": {
    "hidden": true
   },
   "source": [
    "- Foi melhorado muito a classificação dos True negatives, onde mitiga o problema que enfrentamos da analise das performances dos modelos sem nenhuma modificação nos hiperparametros\n",
    "    - Melhoramos em 3 vezes a taxa de acerto dos True negatives(441 -> 1478)"
   ]
  },
  {
   "cell_type": "markdown",
   "id": "175c49f3",
   "metadata": {
    "hidden": true
   },
   "source": [
    "- **No entanto, com mais hardware e mais treinamento poderiamos conseguir uma relação melhor ainda, chegando no mundo ideal que contem a relaçao abaixo de true negatives e true positives, conseguindo uma escoragem muito mais precisa**"
   ]
  },
  {
   "cell_type": "code",
   "execution_count": 362,
   "id": "e08dbc8c",
   "metadata": {
    "ExecuteTime": {
     "end_time": "2023-01-18T23:48:51.373022Z",
     "start_time": "2023-01-18T23:48:51.199256Z"
    },
    "hidden": true
   },
   "outputs": [
    {
     "name": "stdout",
     "output_type": "stream",
     "text": [
      "Quantidade de target negatives: 10369\n",
      "Quantidade de target positives: 39441\n"
     ]
    }
   ],
   "source": [
    "negatives = df7_test['TARGET'].value_counts()[0]\n",
    "positives = df7_test['TARGET'].value_counts()[1]\n",
    "print(f'Quantidade de target negatives: {negatives}')\n",
    "print(f'Quantidade de target positives: {positives}')\n"
   ]
  },
  {
   "cell_type": "markdown",
   "id": "6971a7da",
   "metadata": {},
   "source": [
    "# Financial Analysis"
   ]
  },
  {
   "cell_type": "code",
   "execution_count": 155,
   "id": "bc42d6a6",
   "metadata": {
    "ExecuteTime": {
     "end_time": "2023-01-19T01:27:38.319078Z",
     "start_time": "2023-01-19T01:27:38.292523Z"
    }
   },
   "outputs": [],
   "source": [
    "df8_oot   = df7_oot.copy()\n",
    "df8_train = df7_train.copy()\n",
    "df8_test  = df7_test.copy()"
   ]
  },
  {
   "cell_type": "markdown",
   "id": "a2d2937c",
   "metadata": {
    "heading_collapsed": true
   },
   "source": [
    "## AS-IS"
   ]
  },
  {
   "cell_type": "markdown",
   "id": "175188f6",
   "metadata": {
    "hidden": true
   },
   "source": [
    "- A resposta que queremos aqui é quantas pessoas estão dentro desse critério da política **AS-IS** \n",
    "\n",
    "\n",
    "- Peguei o df4_test, pois esse foi o ultimo dataset onde não tinha feito o rescaling"
   ]
  },
  {
   "cell_type": "code",
   "execution_count": 139,
   "id": "c94f34e7",
   "metadata": {
    "ExecuteTime": {
     "end_time": "2023-01-19T01:22:36.493488Z",
     "start_time": "2023-01-19T01:22:36.425173Z"
    },
    "hidden": true
   },
   "outputs": [
    {
     "name": "stdout",
     "output_type": "stream",
     "text": [
      "Tamanho da carteira de crédito aprovado na política AS-IS seria: R$38604000\n",
      "\n",
      "\n",
      "A dívida total na política AS-IS seria: R$7241000\n"
     ]
    }
   ],
   "source": [
    "result_AS = as_is_policy(df4_test)\n",
    "divida_AS = 1000*(result_AS.shape[0] - result_AS[result_AS['TARGET'] == 1].shape[0])\n",
    "print(f'Tamanho da carteira de crédito aprovado na política AS-IS seria: R${1000*(result_AS.shape[0])}\\n\\n')\n",
    "print(f'A dívida total na política AS-IS seria: R${divida_AS}')\n"
   ]
  },
  {
   "cell_type": "code",
   "execution_count": 140,
   "id": "57bf11c5",
   "metadata": {
    "ExecuteTime": {
     "end_time": "2023-01-19T01:22:38.159766Z",
     "start_time": "2023-01-19T01:22:38.154705Z"
    },
    "hidden": true
   },
   "outputs": [
    {
     "name": "stdout",
     "output_type": "stream",
     "text": [
      "A porcentagem de divida sobre o valor da carteira de crédito na política AS-IS seria de: 18.75712361413325 %\n"
     ]
    }
   ],
   "source": [
    "print(f'A porcentagem de divida sobre o valor da carteira de crédito na política AS-IS seria de: {100*((divida_AS) / (1000*(result_AS.shape[0])))} %')"
   ]
  },
  {
   "cell_type": "markdown",
   "id": "6fbc32da",
   "metadata": {
    "heading_collapsed": true
   },
   "source": [
    "## TO-BE\n"
   ]
  },
  {
   "cell_type": "code",
   "execution_count": 373,
   "id": "2eb32b5d",
   "metadata": {
    "ExecuteTime": {
     "end_time": "2023-01-19T00:46:58.440927Z",
     "start_time": "2023-01-19T00:46:58.423917Z"
    },
    "hidden": true
   },
   "outputs": [
    {
     "data": {
      "text/plain": [
       "0.20817104998996186"
      ]
     },
     "execution_count": 373,
     "metadata": {},
     "output_type": "execute_result"
    }
   ],
   "source": [
    "percentual_teste_negado = (df4_test[df4_test['TARGET'] == 0].shape[0]/df4_test.shape[0])\n",
    "percentual_teste_negado"
   ]
  },
  {
   "cell_type": "code",
   "execution_count": 374,
   "id": "36c0f871",
   "metadata": {
    "ExecuteTime": {
     "end_time": "2023-01-19T00:47:02.071160Z",
     "start_time": "2023-01-19T00:47:02.055717Z"
    },
    "hidden": true
   },
   "outputs": [
    {
     "data": {
      "text/plain": [
       "0.20827143143947"
      ]
     },
     "execution_count": 374,
     "metadata": {},
     "output_type": "execute_result"
    }
   ],
   "source": [
    "df4_test[(df4_test['SCORE_PREDICTED'] <= 0.868)].shape[0]/df4_test.shape[0]"
   ]
  },
  {
   "cell_type": "code",
   "execution_count": 375,
   "id": "4f432d7f",
   "metadata": {
    "ExecuteTime": {
     "end_time": "2023-01-19T00:47:06.018470Z",
     "start_time": "2023-01-19T00:47:05.965364Z"
    },
    "hidden": true
   },
   "outputs": [
    {
     "name": "stdout",
     "output_type": "stream",
     "text": [
      "Tamanho da carteira de crédito aprovado na política TO-BE seria: R$39436000\n",
      "\n",
      "\n",
      "A dívida total na política TO-BE seria: R$7576000\n"
     ]
    }
   ],
   "source": [
    "result_TO_BE = to_be_policy(df4_test)\n",
    "divida_TO_BE = 1000*(result_TO_BE[result_TO_BE['TARGET'] == 0].shape[0])\n",
    "\n",
    "print(f'Tamanho da carteira de crédito aprovado na política TO-BE seria: R${1000*(result_TO_BE.shape[0])}\\n\\n')\n",
    "print(f'A dívida total na política TO-BE seria: R${divida_TO_BE}')\n"
   ]
  },
  {
   "cell_type": "code",
   "execution_count": 376,
   "id": "2bdb054f",
   "metadata": {
    "ExecuteTime": {
     "end_time": "2023-01-19T00:47:10.282369Z",
     "start_time": "2023-01-19T00:47:10.277323Z"
    },
    "hidden": true
   },
   "outputs": [
    {
     "name": "stdout",
     "output_type": "stream",
     "text": [
      "A porcentagem de divida sobre o valor da carteira de crédito na política TO-BE seria de: 19.2108733137235 %\n"
     ]
    }
   ],
   "source": [
    "print(f'A porcentagem de divida sobre o valor da carteira de crédito na política TO-BE seria de: {100*((divida_TO_BE) / (1000*(result_TO_BE.shape[0])))} %')"
   ]
  },
  {
   "cell_type": "markdown",
   "id": "42e36a4f",
   "metadata": {
    "heading_collapsed": true
   },
   "source": [
    "## Comparative "
   ]
  },
  {
   "cell_type": "code",
   "execution_count": 354,
   "id": "ffd28d45",
   "metadata": {
    "ExecuteTime": {
     "end_time": "2023-01-18T18:35:46.734269Z",
     "start_time": "2023-01-18T18:35:46.730598Z"
    },
    "hidden": true
   },
   "outputs": [
    {
     "name": "stdout",
     "output_type": "stream",
     "text": [
      "A dívida total na política AS-IS seria: R$7241000\n",
      "A dívida total na política TO-BE seria: R$7576000\n"
     ]
    }
   ],
   "source": [
    "print(f'A dívida total na política AS-IS seria: R${divida_AS}')\n",
    "print(f'A dívida total na política TO-BE seria: R${divida_TO_BE}')"
   ]
  },
  {
   "cell_type": "markdown",
   "id": "52cf1470",
   "metadata": {
    "hidden": true
   },
   "source": [
    "- Essa é a comparação da dívida que o cliente teve com a política AS_IS versus a quantidade que ele ia ter na TO_BE\n",
    "    - Conseguimos quase igualar a dívida com algumas horas aproximadamente de treinamento, se treinassemos com um CPU com mais núcleos/threads por mais tempo conseguiriamos melhorar a escoragem do modelo, pois iriam ter cada vez mais true negatives, já qeu a complexidade da XGBoost ainda não chegou no seu limite"
   ]
  }
 ],
 "metadata": {
  "hide_input": false,
  "kernelspec": {
   "display_name": "Python 3 (ipykernel)",
   "language": "python",
   "name": "python3"
  },
  "language_info": {
   "codemirror_mode": {
    "name": "ipython",
    "version": 3
   },
   "file_extension": ".py",
   "mimetype": "text/x-python",
   "name": "python",
   "nbconvert_exporter": "python",
   "pygments_lexer": "ipython3",
   "version": "3.9.12"
  },
  "nbTranslate": {
   "displayLangs": [
    "*"
   ],
   "hotkey": "alt-t",
   "langInMainMenu": true,
   "sourceLang": "en",
   "targetLang": "fr",
   "useGoogleTranslate": true
  },
  "toc": {
   "base_numbering": 1,
   "nav_menu": {},
   "number_sections": true,
   "sideBar": true,
   "skip_h1_title": false,
   "title_cell": "Table of Contents",
   "title_sidebar": "Contents",
   "toc_cell": false,
   "toc_position": {},
   "toc_section_display": true,
   "toc_window_display": false
  }
 },
 "nbformat": 4,
 "nbformat_minor": 5
}
